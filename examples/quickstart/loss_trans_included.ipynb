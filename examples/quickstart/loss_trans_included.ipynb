{
 "cells": [
  {
   "cell_type": "code",
   "execution_count": 13,
   "source": [
    "from sklearn.ensemble import RandomForestClassifier as RandomForest\n",
    "from sklearn.linear_model import LogisticRegression\n",
    "import sys\n",
    "import numpy as np\n",
    "import torch\n",
    "#sys.path.append ('/Users/tanvikapoor/zr-obp')\n",
    "#print(sys.path)\n",
    "\n",
    "# import open bandit pipeline (obp)\n",
    "import obp\n",
    "from obp.dataset import (\n",
    "    SyntheticBanditDataset,\n",
    "    logistic_reward_function,\n",
    "    linear_reward_function\n",
    ")\n",
    "from obp.policy import (\n",
    "    IPWLearner, \n",
    "    QLearner,\n",
    "    NNPolicyLearner, \n",
    "    Random\n",
    ")\n",
    "\n",
    "import loss_translation"
   ],
   "outputs": [],
   "metadata": {}
  },
  {
   "cell_type": "markdown",
   "source": [
    "## (1) Generating Synthetic Data\n",
    "`obp.dataset.SyntheticBanditDataset` is an easy-to-use synthetic data generator.\n",
    "\n",
    "It takes \n",
    "- number of actions (`n_actions`, $|\\mathcal{A}|$)\n",
    "- dimension of context vectors (`dim_context`, $d$)\n",
    "- reward function (`reward_function`, $q(x,a)=\\mathbb{E}[r|x,a]$)\n",
    "\n",
    "as inputs and generates synthetic logged bandit data that can be used to evaluate the performance of decision making policies (obtained by `off-policy learning`)."
   ],
   "metadata": {}
  },
  {
   "cell_type": "code",
   "execution_count": 14,
   "source": [
    "# generate synthetic logged bandit data with 10 actions\n",
    "# we use `logistic function` as the reward function and control the behavior policy with `beta`\n",
    "# one can define their own reward function and behavior policy function such as nonlinear ones. \n",
    "dataset = SyntheticBanditDataset(\n",
    "    n_actions=10,\n",
    "    dim_context=5,\n",
    "    beta=-2, # inverse temperature parameter to control the optimality and entropy of the behavior policy\n",
    "    reward_type=\"binary\", # \"binary\" or \"continuous\"\n",
    "    reward_function=logistic_reward_function,\n",
    "    random_state=12345,\n",
    ")"
   ],
   "outputs": [],
   "metadata": {}
  },
  {
   "cell_type": "code",
   "execution_count": 15,
   "source": [
    "# obtain training and test sets of synthetic logged bandit data\n",
    "n_rounds_train, n_rounds_test = 10000, 10000\n",
    "bandit_feedback_train = dataset.obtain_batch_bandit_feedback(n_rounds=int(0.8*n_rounds_train))\n",
    "bandit_feedback_val = dataset.obtain_batch_bandit_feedback(n_rounds=int(0.2*n_rounds_train))\n",
    "bandit_feedback_test = dataset.obtain_batch_bandit_feedback(n_rounds=n_rounds_test)"
   ],
   "outputs": [],
   "metadata": {}
  },
  {
   "cell_type": "markdown",
   "source": [
    "## (2) Off-Policy Learning\n",
    "After generating synthetic data, we now train some decision making policies.\n",
    "\n",
    "To train policies on logged bandit data, we use\n",
    "\n",
    "- `obp.policy.NNPolicyLearner` (Neural Network Policy Learner)\n",
    "- `obp.policy.IPWLearner`\n",
    "\n",
    "For `NN Learner`, we use \n",
    "- Direct Method (\"dm\")\n",
    "- InverseProbabilityWeighting (\"ipw\")\n",
    "- DoublyRobust (\"dr\") \n",
    "\n",
    "as its objective functions (`off_policy_objective`). \n",
    "\n",
    "For `IPW Learner`, we use `RandomForestClassifier` and *LogisticRegression* implemented in scikit-learn for base ML methods."
   ],
   "metadata": {}
  },
  {
   "cell_type": "markdown",
   "source": [
    "A policy is trained by maximizing an OPE estimator as an objective function as follows.\n",
    "\n",
    "$$ \\hat{\\pi} \\in \\arg \\max_{\\pi \\in \\Pi} \\hat{V} (\\pi; \\mathcal{D}_{tr}) - \\lambda \\cdot \\Omega (\\pi)  $$\n",
    "\n",
    "where $\\hat{V}(\\cdot; \\mathcal{D})$ is an off-policy objective and $\\mathcal{D}_{tr}$ is a training bandit dataset. $\\Omega (\\cdot)$ is a regularization term."
   ],
   "metadata": {}
  },
  {
   "cell_type": "code",
   "execution_count": 16,
   "source": [
    "max_iters = [200, 400, 600]\n",
    "random_states = [12345, 54321, 11111]\n",
    "\n",
    "with open(\"evaluation.txt\", \"a\") as o:\n",
    "\n",
    "  for m in max_iters:\n",
    "    for r in random_states:\n",
    "\n",
    "        print(dataset)\n",
    "        \n",
    "        den_l = loss_translation.binarySearch (m, r, 0, 0.0001, dataset, bandit_feedback_train, 0, 100, 0.01, 1, 0.05)\n",
    "        \n",
    "        def black_box_function(l):\n",
    "        #l: Hyperparameter to optimize for, which is l\n",
    "          f = loss_translation.predict_value_ratio_train (m, r, 0, 0.0001, dataset, l, bandit_feedback_train)\n",
    "          return f\n",
    "          \n",
    "        pbounds = {\"l\": [0, 1]}\n",
    "        init_pnts = 15\n",
    "        num_iter = 20\n",
    "        (ratio_train_l, ratio_train_val) = loss_translation.bayesOpt(black_box_function, pbounds, init_pnts, num_iter)\n",
    "\n",
    "        def black_box_function(l):\n",
    "        # l: Hyperparameter to optimize for, which is l\n",
    "          f = loss_translation.predict_value_ratio_val (m, r , 0, 0.0001, dataset, l, bandit_feedback_train, bandit_feedback_val)\n",
    "          return f\n",
    "\n",
    "        pbounds = {\"l\": [0, 1]}\n",
    "        init_pnts = 15\n",
    "        num_iter = 20\n",
    "        (ratio_val_l, ratio_val_val) = loss_translation.bayesOpt(black_box_function, pbounds, init_pnts, num_iter)\n",
    "\n",
    "        # Policy with no loss\n",
    "        nn_ipw = loss_translation.generateModel(dataset, m,0,r, 0, 0.0001)\n",
    "\n",
    "        nn_ipw.fit(\n",
    "              context=bandit_feedback_train[\"context\"],\n",
    "              action=bandit_feedback_train[\"action\"],\n",
    "              reward=bandit_feedback_train[\"reward\"],\n",
    "              pscore=bandit_feedback_train[\"pscore\"],\n",
    "            )\n",
    "\n",
    "        action_dist_nn_ipw_no_loss = nn_ipw.predict_proba(\n",
    "              context=bandit_feedback_test[\"context\"]\n",
    "            )\n",
    "\n",
    "      # Policy with denominator = 1 for training data\n",
    "        nn_ipw = loss_translation.generateModel(dataset, m,den_l,r, 0, 0.0001)\n",
    "\n",
    "        nn_ipw.fit(\n",
    "              context=bandit_feedback_train[\"context\"],\n",
    "              action=bandit_feedback_train[\"action\"],\n",
    "              reward=bandit_feedback_train[\"reward\"],\n",
    "              pscore=bandit_feedback_train[\"pscore\"],\n",
    "            )\n",
    "\n",
    "        action_dist_nn_ipw_den_1 = nn_ipw.predict_proba(\n",
    "              context=bandit_feedback_test[\"context\"]\n",
    "            )\n",
    "\n",
    "      # Policy with max ratio for training data\n",
    "        nn_ipw = loss_translation.generateModel(dataset, m,ratio_train_l [\"l\"],r, 0, 0.0001)\n",
    "\n",
    "        nn_ipw.fit(\n",
    "              context=bandit_feedback_train[\"context\"],\n",
    "              action=bandit_feedback_train[\"action\"],\n",
    "              reward=bandit_feedback_train[\"reward\"],\n",
    "              pscore=bandit_feedback_train[\"pscore\"],\n",
    "            )\n",
    "\n",
    "        action_dist_nn_ipw_max_train_ratio = nn_ipw.predict_proba(\n",
    "              context=bandit_feedback_test[\"context\"]\n",
    "          )\n",
    "\n",
    "      # Policy with max ratio for validation data\n",
    "        nn_ipw = loss_translation.generateModel(dataset, m,ratio_val_l [\"l\"],r, 0, 0.0001)\n",
    "\n",
    "        nn_ipw.fit(\n",
    "              context=bandit_feedback_train[\"context\"],\n",
    "              action=bandit_feedback_train[\"action\"],\n",
    "              reward=bandit_feedback_train[\"reward\"],\n",
    "              pscore=bandit_feedback_train[\"pscore\"],\n",
    "            )\n",
    "\n",
    "        action_dist_nn_ipw_max_val_ratio = nn_ipw.predict_proba(\n",
    "              context=bandit_feedback_test[\"context\"]\n",
    "          )\n",
    "\n",
    "        policy_names = [\n",
    "        \"NN Policy Learner with no loss\",\n",
    "        \"NN Policy Learner with training denominator = 1\",\n",
    "        \"NN Policy Learner with max training ratio\",\n",
    "        \"NN Policy Learner with max validation ratio\"\n",
    "          ]\n",
    "        action_dist_list = [\n",
    "          action_dist_nn_ipw_no_loss,\n",
    "          action_dist_nn_ipw_den_1,\n",
    "          action_dist_nn_ipw_max_train_ratio,\n",
    "          action_dist_nn_ipw_max_val_ratio\n",
    "          ]\n",
    "\n",
    "        with open(\"evaluation.txt\", \"a\") as o:\n",
    "\n",
    "          o.write(\"With param values max_iter: \" + str(m) +\" and random state: \" + str(r) + \"\\n\")\n",
    "\n",
    "          for name, action_dist in zip(policy_names, action_dist_list):\n",
    "            true_policy_value = dataset.calc_ground_truth_policy_value(\n",
    "            expected_reward=bandit_feedback_test[\"expected_reward\"],\n",
    "            action_dist=action_dist,\n",
    "            )\n",
    "            o.write(f'policy value of {name}: {true_policy_value}')\n",
    "\n",
    "o.close()"
   ],
   "outputs": [
    {
     "output_type": "stream",
     "name": "stderr",
     "text": [
      "policy learning:   0%|          | 0/200 [00:00<?, ?it/s]"
     ]
    },
    {
     "output_type": "stream",
     "name": "stdout",
     "text": [
      "SyntheticBanditDataset(n_actions=10, dim_context=5, reward_type='binary', reward_function=<function logistic_reward_function at 0x7fdd524998b0>, reward_std=1.0, action_context=array([[1, 0, 0, 0, 0, 0, 0, 0, 0, 0],\n",
      "       [0, 1, 0, 0, 0, 0, 0, 0, 0, 0],\n",
      "       [0, 0, 1, 0, 0, 0, 0, 0, 0, 0],\n",
      "       [0, 0, 0, 1, 0, 0, 0, 0, 0, 0],\n",
      "       [0, 0, 0, 0, 1, 0, 0, 0, 0, 0],\n",
      "       [0, 0, 0, 0, 0, 1, 0, 0, 0, 0],\n",
      "       [0, 0, 0, 0, 0, 0, 1, 0, 0, 0],\n",
      "       [0, 0, 0, 0, 0, 0, 0, 1, 0, 0],\n",
      "       [0, 0, 0, 0, 0, 0, 0, 0, 1, 0],\n",
      "       [0, 0, 0, 0, 0, 0, 0, 0, 0, 1]]), behavior_policy_function=None, beta=-2, n_deficient_actions=0, random_state=12345, dataset_name='synthetic_bandit_dataset')\n",
      "[0 1 0 ... 0 0 0]\n",
      "[-0.5  0.5 -0.5 ... -0.5 -0.5 -0.5]\n",
      "Here\n"
     ]
    },
    {
     "output_type": "stream",
     "name": "stderr",
     "text": [
      "policy learning: 100%|██████████| 200/200 [00:44<00:00,  4.51it/s]\n",
      "policy learning:   0%|          | 0/200 [00:00<?, ?it/s]"
     ]
    },
    {
     "output_type": "stream",
     "name": "stdout",
     "text": [
      "0.771697911507026\n",
      "[0 1 0 ... 0 0 0]\n",
      "[-0.5  0.5 -0.5 ... -0.5 -0.5 -0.5]\n",
      "Here\n"
     ]
    },
    {
     "output_type": "stream",
     "name": "stderr",
     "text": [
      "policy learning: 100%|██████████| 200/200 [00:43<00:00,  4.60it/s]\n",
      "policy learning:   0%|          | 1/200 [00:00<00:38,  5.13it/s]"
     ]
    },
    {
     "output_type": "stream",
     "name": "stdout",
     "text": [
      "0.7704121494847396\n",
      "[0 1 0 ... 0 0 0]\n",
      "[-0.5  0.5 -0.5 ... -0.5 -0.5 -0.5]\n",
      "Here\n"
     ]
    },
    {
     "output_type": "stream",
     "name": "stderr",
     "text": [
      "policy learning: 100%|██████████| 200/200 [00:38<00:00,  5.15it/s]\n",
      "policy learning:   0%|          | 1/200 [00:00<00:37,  5.24it/s]"
     ]
    },
    {
     "output_type": "stream",
     "name": "stdout",
     "text": [
      "0.7677255932108342\n",
      "[0 1 0 ... 0 0 0]\n",
      "[-0.5  0.5 -0.5 ... -0.5 -0.5 -0.5]\n",
      "Here\n"
     ]
    },
    {
     "output_type": "stream",
     "name": "stderr",
     "text": [
      "policy learning: 100%|██████████| 200/200 [00:38<00:00,  5.21it/s]\n",
      "policy learning:   0%|          | 1/200 [00:00<00:38,  5.11it/s]"
     ]
    },
    {
     "output_type": "stream",
     "name": "stdout",
     "text": [
      "0.7714383906473012\n",
      "[0 1 0 ... 0 0 0]\n",
      "[-0.5  0.5 -0.5 ... -0.5 -0.5 -0.5]\n",
      "Here\n"
     ]
    },
    {
     "output_type": "stream",
     "name": "stderr",
     "text": [
      "policy learning: 100%|██████████| 200/200 [00:38<00:00,  5.17it/s]\n",
      "policy learning:   0%|          | 1/200 [00:00<00:39,  5.07it/s]"
     ]
    },
    {
     "output_type": "stream",
     "name": "stdout",
     "text": [
      "0.7719953233253929\n",
      "[0 1 0 ... 0 0 0]\n",
      "[-0.5  0.5 -0.5 ... -0.5 -0.5 -0.5]\n",
      "Here\n"
     ]
    },
    {
     "output_type": "stream",
     "name": "stderr",
     "text": [
      "policy learning: 100%|██████████| 200/200 [00:45<00:00,  4.42it/s]\n",
      "policy learning:   0%|          | 0/200 [00:00<?, ?it/s]"
     ]
    },
    {
     "output_type": "stream",
     "name": "stdout",
     "text": [
      "0.8409593970288217\n",
      "[0 1 0 ... 0 0 0]\n",
      "[-0.5  0.5 -0.5 ... -0.5 -0.5 -0.5]\n",
      "Here\n"
     ]
    },
    {
     "output_type": "stream",
     "name": "stderr",
     "text": [
      "policy learning: 100%|██████████| 200/200 [00:40<00:00,  4.98it/s]\n",
      "policy learning:   0%|          | 1/200 [00:00<00:38,  5.17it/s]"
     ]
    },
    {
     "output_type": "stream",
     "name": "stdout",
     "text": [
      "0.9745351492043558\n",
      "|   iter    |  target   |     l     |\n",
      "-------------------------------------\n",
      "[0 1 0 ... 0 0 0]\n",
      "[-0.5  0.5 -0.5 ... -0.5 -0.5 -0.5]\n",
      "Here\n"
     ]
    },
    {
     "output_type": "stream",
     "name": "stderr",
     "text": [
      "policy learning: 100%|██████████| 200/200 [00:36<00:00,  5.41it/s]\n",
      "policy learning:   0%|          | 0/200 [00:00<?, ?it/s]"
     ]
    },
    {
     "output_type": "stream",
     "name": "stdout",
     "text": [
      "| \u001b[0m 1       \u001b[0m | \u001b[0m 0.8492  \u001b[0m | \u001b[0m 0.967   \u001b[0m |\n",
      "[0 1 0 ... 0 0 0]\n",
      "[-0.5  0.5 -0.5 ... -0.5 -0.5 -0.5]\n",
      "Here\n"
     ]
    },
    {
     "output_type": "stream",
     "name": "stderr",
     "text": [
      "policy learning: 100%|██████████| 200/200 [00:37<00:00,  5.30it/s]\n",
      "policy learning:   0%|          | 1/200 [00:00<00:37,  5.33it/s]"
     ]
    },
    {
     "output_type": "stream",
     "name": "stdout",
     "text": [
      "| \u001b[0m 2       \u001b[0m | \u001b[0m 0.8395  \u001b[0m | \u001b[0m 0.5472  \u001b[0m |\n",
      "[0 1 0 ... 0 0 0]\n",
      "[-0.5  0.5 -0.5 ... -0.5 -0.5 -0.5]\n",
      "Here\n"
     ]
    },
    {
     "output_type": "stream",
     "name": "stderr",
     "text": [
      "policy learning: 100%|██████████| 200/200 [00:35<00:00,  5.57it/s]\n",
      "policy learning:   0%|          | 1/200 [00:00<00:38,  5.22it/s]"
     ]
    },
    {
     "output_type": "stream",
     "name": "stdout",
     "text": [
      "| \u001b[0m 3       \u001b[0m | \u001b[0m 0.849   \u001b[0m | \u001b[0m 0.9727  \u001b[0m |\n",
      "[0 1 0 ... 0 0 0]\n",
      "[-0.5  0.5 -0.5 ... -0.5 -0.5 -0.5]\n",
      "Here\n"
     ]
    },
    {
     "output_type": "stream",
     "name": "stderr",
     "text": [
      "policy learning: 100%|██████████| 200/200 [00:35<00:00,  5.63it/s]\n",
      "policy learning:   0%|          | 1/200 [00:00<00:36,  5.49it/s]"
     ]
    },
    {
     "output_type": "stream",
     "name": "stdout",
     "text": [
      "| \u001b[95m 4       \u001b[0m | \u001b[95m 0.8526  \u001b[0m | \u001b[95m 0.7148  \u001b[0m |\n",
      "[0 1 0 ... 0 0 0]\n",
      "[-0.5  0.5 -0.5 ... -0.5 -0.5 -0.5]\n",
      "Here\n"
     ]
    },
    {
     "output_type": "stream",
     "name": "stderr",
     "text": [
      "policy learning: 100%|██████████| 200/200 [00:35<00:00,  5.56it/s]\n",
      "policy learning:   0%|          | 1/200 [00:00<00:37,  5.35it/s]"
     ]
    },
    {
     "output_type": "stream",
     "name": "stdout",
     "text": [
      "| \u001b[0m 5       \u001b[0m | \u001b[0m 0.8517  \u001b[0m | \u001b[0m 0.6977  \u001b[0m |\n",
      "[0 1 0 ... 0 0 0]\n",
      "[-0.5  0.5 -0.5 ... -0.5 -0.5 -0.5]\n",
      "Here\n"
     ]
    },
    {
     "output_type": "stream",
     "name": "stderr",
     "text": [
      "policy learning: 100%|██████████| 200/200 [00:34<00:00,  5.73it/s]\n",
      "policy learning:   0%|          | 1/200 [00:00<00:36,  5.46it/s]"
     ]
    },
    {
     "output_type": "stream",
     "name": "stdout",
     "text": [
      "| \u001b[0m 6       \u001b[0m | \u001b[0m 0.8115  \u001b[0m | \u001b[0m 0.2161  \u001b[0m |\n",
      "[0 1 0 ... 0 0 0]\n",
      "[-0.5  0.5 -0.5 ... -0.5 -0.5 -0.5]\n",
      "Here\n"
     ]
    },
    {
     "output_type": "stream",
     "name": "stderr",
     "text": [
      "policy learning: 100%|██████████| 200/200 [00:35<00:00,  5.61it/s]\n",
      "policy learning:   0%|          | 1/200 [00:00<00:37,  5.26it/s]"
     ]
    },
    {
     "output_type": "stream",
     "name": "stdout",
     "text": [
      "| \u001b[0m 7       \u001b[0m | \u001b[0m 0.8488  \u001b[0m | \u001b[0m 0.9763  \u001b[0m |\n",
      "[0 1 0 ... 0 0 0]\n",
      "[-0.5  0.5 -0.5 ... -0.5 -0.5 -0.5]\n",
      "Here\n"
     ]
    },
    {
     "output_type": "stream",
     "name": "stderr",
     "text": [
      "policy learning: 100%|██████████| 200/200 [00:36<00:00,  5.49it/s]\n",
      "policy learning:   0%|          | 1/200 [00:00<00:37,  5.34it/s]"
     ]
    },
    {
     "output_type": "stream",
     "name": "stdout",
     "text": [
      "| \u001b[0m 8       \u001b[0m | \u001b[0m 0.7963  \u001b[0m | \u001b[0m 0.00623 \u001b[0m |\n",
      "[0 1 0 ... 0 0 0]\n",
      "[-0.5  0.5 -0.5 ... -0.5 -0.5 -0.5]\n",
      "Here\n"
     ]
    },
    {
     "output_type": "stream",
     "name": "stderr",
     "text": [
      "policy learning: 100%|██████████| 200/200 [00:35<00:00,  5.71it/s]\n",
      "policy learning:   0%|          | 1/200 [00:00<00:37,  5.36it/s]"
     ]
    },
    {
     "output_type": "stream",
     "name": "stdout",
     "text": [
      "| \u001b[0m 9       \u001b[0m | \u001b[0m 0.8146  \u001b[0m | \u001b[0m 0.253   \u001b[0m |\n",
      "[0 1 0 ... 0 0 0]\n",
      "[-0.5  0.5 -0.5 ... -0.5 -0.5 -0.5]\n",
      "Here\n"
     ]
    },
    {
     "output_type": "stream",
     "name": "stderr",
     "text": [
      "policy learning: 100%|██████████| 200/200 [00:34<00:00,  5.76it/s]\n",
      "policy learning:   0%|          | 0/200 [00:00<?, ?it/s]"
     ]
    },
    {
     "output_type": "stream",
     "name": "stdout",
     "text": [
      "| \u001b[0m 10      \u001b[0m | \u001b[0m 0.8324  \u001b[0m | \u001b[0m 0.4348  \u001b[0m |\n",
      "[0 1 0 ... 0 0 0]\n",
      "[-0.5  0.5 -0.5 ... -0.5 -0.5 -0.5]\n",
      "Here\n"
     ]
    },
    {
     "output_type": "stream",
     "name": "stderr",
     "text": [
      "policy learning: 100%|██████████| 200/200 [00:35<00:00,  5.70it/s]\n",
      "policy learning:   0%|          | 1/200 [00:00<00:36,  5.52it/s]"
     ]
    },
    {
     "output_type": "stream",
     "name": "stdout",
     "text": [
      "| \u001b[95m 11      \u001b[0m | \u001b[95m 0.854   \u001b[0m | \u001b[95m 0.7794  \u001b[0m |\n",
      "[0 1 0 ... 0 0 0]\n",
      "[-0.5  0.5 -0.5 ... -0.5 -0.5 -0.5]\n",
      "Here\n"
     ]
    },
    {
     "output_type": "stream",
     "name": "stderr",
     "text": [
      "policy learning: 100%|██████████| 200/200 [00:35<00:00,  5.65it/s]\n",
      "policy learning:   0%|          | 1/200 [00:00<00:37,  5.25it/s]"
     ]
    },
    {
     "output_type": "stream",
     "name": "stdout",
     "text": [
      "| \u001b[0m 12      \u001b[0m | \u001b[0m 0.8101  \u001b[0m | \u001b[0m 0.1977  \u001b[0m |\n",
      "[0 1 0 ... 0 0 0]\n",
      "[-0.5  0.5 -0.5 ... -0.5 -0.5 -0.5]\n",
      "Here\n"
     ]
    },
    {
     "output_type": "stream",
     "name": "stderr",
     "text": [
      "policy learning: 100%|██████████| 200/200 [00:37<00:00,  5.39it/s]\n",
      "policy learning:   0%|          | 0/200 [00:00<?, ?it/s]"
     ]
    },
    {
     "output_type": "stream",
     "name": "stdout",
     "text": [
      "| \u001b[0m 13      \u001b[0m | \u001b[0m 0.852   \u001b[0m | \u001b[0m 0.863   \u001b[0m |\n",
      "[0 1 0 ... 0 0 0]\n",
      "[-0.5  0.5 -0.5 ... -0.5 -0.5 -0.5]\n",
      "Here\n"
     ]
    },
    {
     "output_type": "stream",
     "name": "stderr",
     "text": [
      "policy learning: 100%|██████████| 200/200 [00:35<00:00,  5.65it/s]\n",
      "policy learning:   0%|          | 1/200 [00:00<00:39,  5.10it/s]"
     ]
    },
    {
     "output_type": "stream",
     "name": "stdout",
     "text": [
      "| \u001b[0m 14      \u001b[0m | \u001b[0m 0.8485  \u001b[0m | \u001b[0m 0.9834  \u001b[0m |\n",
      "[0 1 0 ... 0 0 0]\n",
      "[-0.5  0.5 -0.5 ... -0.5 -0.5 -0.5]\n",
      "Here\n"
     ]
    },
    {
     "output_type": "stream",
     "name": "stderr",
     "text": [
      "policy learning: 100%|██████████| 200/200 [00:35<00:00,  5.70it/s]\n",
      "policy learning:   0%|          | 0/200 [00:00<?, ?it/s]"
     ]
    },
    {
     "output_type": "stream",
     "name": "stdout",
     "text": [
      "| \u001b[0m 15      \u001b[0m | \u001b[0m 0.8075  \u001b[0m | \u001b[0m 0.1638  \u001b[0m |\n",
      "[0 1 0 ... 0 0 0]\n",
      "[-0.5  0.5 -0.5 ... -0.5 -0.5 -0.5]\n",
      "Here\n"
     ]
    },
    {
     "output_type": "stream",
     "name": "stderr",
     "text": [
      "policy learning: 100%|██████████| 200/200 [00:36<00:00,  5.53it/s]\n",
      "policy learning:   0%|          | 0/200 [00:00<?, ?it/s]"
     ]
    },
    {
     "output_type": "stream",
     "name": "stdout",
     "text": [
      "| \u001b[0m 16      \u001b[0m | \u001b[0m 0.8526  \u001b[0m | \u001b[0m 0.7148  \u001b[0m |\n",
      "[0 1 0 ... 0 0 0]\n",
      "[-0.5  0.5 -0.5 ... -0.5 -0.5 -0.5]\n",
      "Here\n"
     ]
    },
    {
     "output_type": "stream",
     "name": "stderr",
     "text": [
      "policy learning: 100%|██████████| 200/200 [00:35<00:00,  5.71it/s]\n",
      "policy learning:   0%|          | 0/200 [00:00<?, ?it/s]"
     ]
    },
    {
     "output_type": "stream",
     "name": "stdout",
     "text": [
      "| \u001b[95m 17      \u001b[0m | \u001b[95m 0.854   \u001b[0m | \u001b[95m 0.767   \u001b[0m |\n",
      "[0 1 0 ... 0 0 0]\n",
      "[-0.5  0.5 -0.5 ... -0.5 -0.5 -0.5]\n",
      "Here\n"
     ]
    },
    {
     "output_type": "stream",
     "name": "stderr",
     "text": [
      "policy learning: 100%|██████████| 200/200 [00:34<00:00,  5.74it/s]\n",
      "policy learning:   0%|          | 0/200 [00:00<?, ?it/s]"
     ]
    },
    {
     "output_type": "stream",
     "name": "stdout",
     "text": [
      "| \u001b[0m 18      \u001b[0m | \u001b[0m 0.854   \u001b[0m | \u001b[0m 0.7691  \u001b[0m |\n",
      "[0 1 0 ... 0 0 0]\n",
      "[-0.5  0.5 -0.5 ... -0.5 -0.5 -0.5]\n",
      "Here\n"
     ]
    },
    {
     "output_type": "stream",
     "name": "stderr",
     "text": [
      "policy learning: 100%|██████████| 200/200 [00:35<00:00,  5.56it/s]\n",
      "policy learning:   0%|          | 0/200 [00:00<?, ?it/s]"
     ]
    },
    {
     "output_type": "stream",
     "name": "stdout",
     "text": [
      "| \u001b[0m 19      \u001b[0m | \u001b[0m 0.854   \u001b[0m | \u001b[0m 0.7705  \u001b[0m |\n",
      "[0 1 0 ... 0 0 0]\n",
      "[-0.5  0.5 -0.5 ... -0.5 -0.5 -0.5]\n",
      "Here\n"
     ]
    },
    {
     "output_type": "stream",
     "name": "stderr",
     "text": [
      "policy learning: 100%|██████████| 200/200 [00:35<00:00,  5.61it/s]\n",
      "policy learning:   0%|          | 0/200 [00:00<?, ?it/s]"
     ]
    },
    {
     "output_type": "stream",
     "name": "stdout",
     "text": [
      "| \u001b[95m 20      \u001b[0m | \u001b[95m 0.854   \u001b[0m | \u001b[95m 0.7709  \u001b[0m |\n",
      "[0 1 0 ... 0 0 0]\n",
      "[-0.5  0.5 -0.5 ... -0.5 -0.5 -0.5]\n",
      "Here\n"
     ]
    },
    {
     "output_type": "stream",
     "name": "stderr",
     "text": [
      "policy learning: 100%|██████████| 200/200 [00:34<00:00,  5.74it/s]\n",
      "policy learning:   0%|          | 0/200 [00:00<?, ?it/s]"
     ]
    },
    {
     "output_type": "stream",
     "name": "stdout",
     "text": [
      "| \u001b[95m 21      \u001b[0m | \u001b[95m 0.854   \u001b[0m | \u001b[95m 0.771   \u001b[0m |\n",
      "[0 1 0 ... 0 0 0]\n",
      "[-0.5  0.5 -0.5 ... -0.5 -0.5 -0.5]\n",
      "Here\n"
     ]
    },
    {
     "output_type": "stream",
     "name": "stderr",
     "text": [
      "policy learning: 100%|██████████| 200/200 [00:34<00:00,  5.74it/s]\n",
      "policy learning:   0%|          | 0/200 [00:00<?, ?it/s]"
     ]
    },
    {
     "output_type": "stream",
     "name": "stdout",
     "text": [
      "| \u001b[0m 22      \u001b[0m | \u001b[0m 0.854   \u001b[0m | \u001b[0m 0.772   \u001b[0m |\n",
      "[0 1 0 ... 0 0 0]\n",
      "[-0.5  0.5 -0.5 ... -0.5 -0.5 -0.5]\n",
      "Here\n"
     ]
    },
    {
     "output_type": "stream",
     "name": "stderr",
     "text": [
      "policy learning: 100%|██████████| 200/200 [00:38<00:00,  5.21it/s]\n",
      "policy learning:   0%|          | 0/200 [00:00<?, ?it/s]"
     ]
    },
    {
     "output_type": "stream",
     "name": "stdout",
     "text": [
      "| \u001b[0m 23      \u001b[0m | \u001b[0m 0.854   \u001b[0m | \u001b[0m 0.7692  \u001b[0m |\n",
      "[0 1 0 ... 0 0 0]\n",
      "[-0.5  0.5 -0.5 ... -0.5 -0.5 -0.5]\n",
      "Here\n"
     ]
    },
    {
     "output_type": "stream",
     "name": "stderr",
     "text": [
      "policy learning: 100%|██████████| 200/200 [00:36<00:00,  5.44it/s]\n",
      "policy learning:   0%|          | 0/200 [00:00<?, ?it/s]"
     ]
    },
    {
     "output_type": "stream",
     "name": "stdout",
     "text": [
      "| \u001b[95m 24      \u001b[0m | \u001b[95m 0.854   \u001b[0m | \u001b[95m 0.7743  \u001b[0m |\n",
      "[0 1 0 ... 0 0 0]\n",
      "[-0.5  0.5 -0.5 ... -0.5 -0.5 -0.5]\n",
      "Here\n"
     ]
    },
    {
     "output_type": "stream",
     "name": "stderr",
     "text": [
      "policy learning: 100%|██████████| 200/200 [00:34<00:00,  5.80it/s]\n",
      "policy learning:   0%|          | 0/200 [00:00<?, ?it/s]"
     ]
    },
    {
     "output_type": "stream",
     "name": "stdout",
     "text": [
      "| \u001b[0m 25      \u001b[0m | \u001b[0m 0.854   \u001b[0m | \u001b[0m 0.7745  \u001b[0m |\n",
      "[0 1 0 ... 0 0 0]\n",
      "[-0.5  0.5 -0.5 ... -0.5 -0.5 -0.5]\n",
      "Here\n"
     ]
    },
    {
     "output_type": "stream",
     "name": "stderr",
     "text": [
      "policy learning: 100%|██████████| 200/200 [00:35<00:00,  5.62it/s]\n",
      "policy learning:   0%|          | 0/200 [00:00<?, ?it/s]"
     ]
    },
    {
     "output_type": "stream",
     "name": "stdout",
     "text": [
      "| \u001b[0m 26      \u001b[0m | \u001b[0m 0.854   \u001b[0m | \u001b[0m 0.7746  \u001b[0m |\n",
      "[0 1 0 ... 0 0 0]\n",
      "[-0.5  0.5 -0.5 ... -0.5 -0.5 -0.5]\n",
      "Here\n"
     ]
    },
    {
     "output_type": "stream",
     "name": "stderr",
     "text": [
      "policy learning: 100%|██████████| 200/200 [00:36<00:00,  5.46it/s]\n",
      "policy learning:   0%|          | 0/200 [00:00<?, ?it/s]"
     ]
    },
    {
     "output_type": "stream",
     "name": "stdout",
     "text": [
      "| \u001b[95m 27      \u001b[0m | \u001b[95m 0.854   \u001b[0m | \u001b[95m 0.7743  \u001b[0m |\n",
      "[0 1 0 ... 0 0 0]\n",
      "[-0.5  0.5 -0.5 ... -0.5 -0.5 -0.5]\n",
      "Here\n"
     ]
    },
    {
     "output_type": "stream",
     "name": "stderr",
     "text": [
      "policy learning: 100%|██████████| 200/200 [00:35<00:00,  5.64it/s]\n",
      "policy learning:   0%|          | 0/200 [00:00<?, ?it/s]"
     ]
    },
    {
     "output_type": "stream",
     "name": "stdout",
     "text": [
      "| \u001b[0m 28      \u001b[0m | \u001b[0m 0.854   \u001b[0m | \u001b[0m 0.7744  \u001b[0m |\n",
      "[0 1 0 ... 0 0 0]\n",
      "[-0.5  0.5 -0.5 ... -0.5 -0.5 -0.5]\n",
      "Here\n"
     ]
    },
    {
     "output_type": "stream",
     "name": "stderr",
     "text": [
      "policy learning: 100%|██████████| 200/200 [00:34<00:00,  5.75it/s]\n",
      "policy learning:   0%|          | 0/200 [00:00<?, ?it/s]"
     ]
    },
    {
     "output_type": "stream",
     "name": "stdout",
     "text": [
      "| \u001b[0m 29      \u001b[0m | \u001b[0m 0.854   \u001b[0m | \u001b[0m 0.7706  \u001b[0m |\n",
      "[0 1 0 ... 0 0 0]\n",
      "[-0.5  0.5 -0.5 ... -0.5 -0.5 -0.5]\n",
      "Here\n"
     ]
    },
    {
     "output_type": "stream",
     "name": "stderr",
     "text": [
      "policy learning: 100%|██████████| 200/200 [00:35<00:00,  5.61it/s]\n",
      "policy learning:   0%|          | 0/200 [00:00<?, ?it/s]"
     ]
    },
    {
     "output_type": "stream",
     "name": "stdout",
     "text": [
      "| \u001b[0m 30      \u001b[0m | \u001b[0m 0.854   \u001b[0m | \u001b[0m 0.7751  \u001b[0m |\n",
      "[0 1 0 ... 0 0 0]\n",
      "[-0.5  0.5 -0.5 ... -0.5 -0.5 -0.5]\n",
      "Here\n"
     ]
    },
    {
     "output_type": "stream",
     "name": "stderr",
     "text": [
      "policy learning: 100%|██████████| 200/200 [00:35<00:00,  5.68it/s]\n",
      "policy learning:   0%|          | 0/200 [00:00<?, ?it/s]"
     ]
    },
    {
     "output_type": "stream",
     "name": "stdout",
     "text": [
      "| \u001b[0m 31      \u001b[0m | \u001b[0m 0.854   \u001b[0m | \u001b[0m 0.7746  \u001b[0m |\n",
      "[0 1 0 ... 0 0 0]\n",
      "[-0.5  0.5 -0.5 ... -0.5 -0.5 -0.5]\n",
      "Here\n"
     ]
    },
    {
     "output_type": "stream",
     "name": "stderr",
     "text": [
      "policy learning: 100%|██████████| 200/200 [00:35<00:00,  5.66it/s]\n",
      "policy learning:   0%|          | 0/200 [00:00<?, ?it/s]"
     ]
    },
    {
     "output_type": "stream",
     "name": "stdout",
     "text": [
      "| \u001b[0m 32      \u001b[0m | \u001b[0m 0.854   \u001b[0m | \u001b[0m 0.7709  \u001b[0m |\n",
      "[0 1 0 ... 0 0 0]\n",
      "[-0.5  0.5 -0.5 ... -0.5 -0.5 -0.5]\n",
      "Here\n"
     ]
    },
    {
     "output_type": "stream",
     "name": "stderr",
     "text": [
      "policy learning: 100%|██████████| 200/200 [00:36<00:00,  5.49it/s]\n",
      "policy learning:   0%|          | 0/200 [00:00<?, ?it/s]"
     ]
    },
    {
     "output_type": "stream",
     "name": "stdout",
     "text": [
      "| \u001b[0m 33      \u001b[0m | \u001b[0m 0.854   \u001b[0m | \u001b[0m 0.7746  \u001b[0m |\n",
      "[0 1 0 ... 0 0 0]\n",
      "[-0.5  0.5 -0.5 ... -0.5 -0.5 -0.5]\n",
      "Here\n"
     ]
    },
    {
     "output_type": "stream",
     "name": "stderr",
     "text": [
      "policy learning: 100%|██████████| 200/200 [00:37<00:00,  5.35it/s]\n",
      "policy learning:   0%|          | 0/200 [00:00<?, ?it/s]"
     ]
    },
    {
     "output_type": "stream",
     "name": "stdout",
     "text": [
      "| \u001b[0m 34      \u001b[0m | \u001b[0m 0.854   \u001b[0m | \u001b[0m 0.7714  \u001b[0m |\n",
      "[0 1 0 ... 0 0 0]\n",
      "[-0.5  0.5 -0.5 ... -0.5 -0.5 -0.5]\n",
      "Here\n"
     ]
    },
    {
     "output_type": "stream",
     "name": "stderr",
     "text": [
      "policy learning: 100%|██████████| 200/200 [00:35<00:00,  5.63it/s]\n",
      "policy learning:   0%|          | 1/200 [00:00<00:34,  5.72it/s]"
     ]
    },
    {
     "output_type": "stream",
     "name": "stdout",
     "text": [
      "| \u001b[0m 35      \u001b[0m | \u001b[0m 0.854   \u001b[0m | \u001b[0m 0.7747  \u001b[0m |\n",
      "=====================================\n",
      "Best result: {'l': 0.7742531182900111}; f(x) = 0.8540112182111371.\n",
      "|   iter    |  target   |     l     |\n",
      "-------------------------------------\n",
      "[0 1 0 ... 0 0 0]\n",
      "[-0.5  0.5 -0.5 ... -0.5 -0.5 -0.5]\n",
      "Here\n"
     ]
    },
    {
     "output_type": "stream",
     "name": "stderr",
     "text": [
      "policy learning: 100%|██████████| 200/200 [00:35<00:00,  5.71it/s]\n",
      "policy learning:   0%|          | 1/200 [00:00<00:35,  5.53it/s]"
     ]
    },
    {
     "output_type": "stream",
     "name": "stdout",
     "text": [
      "| \u001b[0m 1       \u001b[0m | \u001b[0m 0.8288  \u001b[0m | \u001b[0m 0.967   \u001b[0m |\n",
      "[0 1 0 ... 0 0 0]\n",
      "[-0.5  0.5 -0.5 ... -0.5 -0.5 -0.5]\n",
      "Here\n"
     ]
    },
    {
     "output_type": "stream",
     "name": "stderr",
     "text": [
      "policy learning: 100%|██████████| 200/200 [02:51<00:00,  1.16it/s]\n",
      "policy learning:   0%|          | 1/200 [00:00<00:34,  5.79it/s]"
     ]
    },
    {
     "output_type": "stream",
     "name": "stdout",
     "text": [
      "| \u001b[0m 2       \u001b[0m | \u001b[0m 0.8156  \u001b[0m | \u001b[0m 0.5472  \u001b[0m |\n",
      "[0 1 0 ... 0 0 0]\n",
      "[-0.5  0.5 -0.5 ... -0.5 -0.5 -0.5]\n",
      "Here\n"
     ]
    },
    {
     "output_type": "stream",
     "name": "stderr",
     "text": [
      "policy learning: 100%|██████████| 200/200 [09:22<00:00,  2.81s/it]\n",
      "policy learning:   0%|          | 0/200 [00:00<?, ?it/s]"
     ]
    },
    {
     "output_type": "stream",
     "name": "stdout",
     "text": [
      "| \u001b[95m 3       \u001b[0m | \u001b[95m 0.8293  \u001b[0m | \u001b[95m 0.9727  \u001b[0m |\n",
      "[0 1 0 ... 0 0 0]\n",
      "[-0.5  0.5 -0.5 ... -0.5 -0.5 -0.5]\n",
      "Here\n"
     ]
    },
    {
     "output_type": "stream",
     "name": "stderr",
     "text": [
      "policy learning: 100%|██████████| 200/200 [00:36<00:00,  5.44it/s]\n",
      "policy learning:   0%|          | 1/200 [00:00<00:35,  5.55it/s]"
     ]
    },
    {
     "output_type": "stream",
     "name": "stdout",
     "text": [
      "| \u001b[0m 4       \u001b[0m | \u001b[0m 0.817   \u001b[0m | \u001b[0m 0.7148  \u001b[0m |\n",
      "[0 1 0 ... 0 0 0]\n",
      "[-0.5  0.5 -0.5 ... -0.5 -0.5 -0.5]\n",
      "Here\n"
     ]
    },
    {
     "output_type": "stream",
     "name": "stderr",
     "text": [
      "policy learning: 100%|██████████| 200/200 [00:34<00:00,  5.80it/s]\n",
      "policy learning:   0%|          | 1/200 [00:00<00:35,  5.54it/s]"
     ]
    },
    {
     "output_type": "stream",
     "name": "stdout",
     "text": [
      "| \u001b[0m 5       \u001b[0m | \u001b[0m 0.8175  \u001b[0m | \u001b[0m 0.6977  \u001b[0m |\n",
      "[0 1 0 ... 0 0 0]\n",
      "[-0.5  0.5 -0.5 ... -0.5 -0.5 -0.5]\n",
      "Here\n"
     ]
    },
    {
     "output_type": "stream",
     "name": "stderr",
     "text": [
      "policy learning: 100%|██████████| 200/200 [00:34<00:00,  5.80it/s]\n",
      "policy learning:   0%|          | 1/200 [00:00<00:37,  5.30it/s]"
     ]
    },
    {
     "output_type": "stream",
     "name": "stdout",
     "text": [
      "| \u001b[0m 6       \u001b[0m | \u001b[0m 0.7706  \u001b[0m | \u001b[0m 0.2161  \u001b[0m |\n",
      "[0 1 0 ... 0 0 0]\n",
      "[-0.5  0.5 -0.5 ... -0.5 -0.5 -0.5]\n",
      "Here\n"
     ]
    },
    {
     "output_type": "stream",
     "name": "stderr",
     "text": [
      "policy learning: 100%|██████████| 200/200 [00:34<00:00,  5.79it/s]\n",
      "policy learning:   0%|          | 1/200 [00:00<00:37,  5.30it/s]"
     ]
    },
    {
     "output_type": "stream",
     "name": "stdout",
     "text": [
      "| \u001b[95m 7       \u001b[0m | \u001b[95m 0.8295  \u001b[0m | \u001b[95m 0.9763  \u001b[0m |\n",
      "[0 1 0 ... 0 0 0]\n",
      "[-0.5  0.5 -0.5 ... -0.5 -0.5 -0.5]\n",
      "Here\n"
     ]
    },
    {
     "output_type": "stream",
     "name": "stderr",
     "text": [
      "policy learning: 100%|██████████| 200/200 [00:34<00:00,  5.73it/s]\n",
      "policy learning:   0%|          | 1/200 [00:00<00:38,  5.17it/s]"
     ]
    },
    {
     "output_type": "stream",
     "name": "stdout",
     "text": [
      "| \u001b[0m 8       \u001b[0m | \u001b[0m 0.7644  \u001b[0m | \u001b[0m 0.00623 \u001b[0m |\n",
      "[0 1 0 ... 0 0 0]\n",
      "[-0.5  0.5 -0.5 ... -0.5 -0.5 -0.5]\n",
      "Here\n"
     ]
    },
    {
     "output_type": "stream",
     "name": "stderr",
     "text": [
      "policy learning: 100%|██████████| 200/200 [00:34<00:00,  5.73it/s]\n",
      "policy learning:   0%|          | 1/200 [00:00<00:33,  5.89it/s]"
     ]
    },
    {
     "output_type": "stream",
     "name": "stdout",
     "text": [
      "| \u001b[0m 9       \u001b[0m | \u001b[0m 0.7722  \u001b[0m | \u001b[0m 0.253   \u001b[0m |\n",
      "[0 1 0 ... 0 0 0]\n",
      "[-0.5  0.5 -0.5 ... -0.5 -0.5 -0.5]\n",
      "Here\n"
     ]
    },
    {
     "output_type": "stream",
     "name": "stderr",
     "text": [
      "policy learning: 100%|██████████| 200/200 [00:40<00:00,  4.95it/s]\n",
      "policy learning:   0%|          | 1/200 [00:00<00:37,  5.31it/s]"
     ]
    },
    {
     "output_type": "stream",
     "name": "stdout",
     "text": [
      "| \u001b[0m 10      \u001b[0m | \u001b[0m 0.8019  \u001b[0m | \u001b[0m 0.4348  \u001b[0m |\n",
      "[0 1 0 ... 0 0 0]\n",
      "[-0.5  0.5 -0.5 ... -0.5 -0.5 -0.5]\n",
      "Here\n"
     ]
    },
    {
     "output_type": "stream",
     "name": "stderr",
     "text": [
      "policy learning: 100%|██████████| 200/200 [00:37<00:00,  5.34it/s]\n",
      "policy learning:   0%|          | 1/200 [00:00<00:37,  5.32it/s]"
     ]
    },
    {
     "output_type": "stream",
     "name": "stdout",
     "text": [
      "| \u001b[0m 11      \u001b[0m | \u001b[0m 0.8177  \u001b[0m | \u001b[0m 0.7794  \u001b[0m |\n",
      "[0 1 0 ... 0 0 0]\n",
      "[-0.5  0.5 -0.5 ... -0.5 -0.5 -0.5]\n",
      "Here\n"
     ]
    },
    {
     "output_type": "stream",
     "name": "stderr",
     "text": [
      "policy learning: 100%|██████████| 200/200 [00:35<00:00,  5.64it/s]\n",
      "policy learning:   0%|          | 0/200 [00:00<?, ?it/s]"
     ]
    },
    {
     "output_type": "stream",
     "name": "stdout",
     "text": [
      "| \u001b[0m 12      \u001b[0m | \u001b[0m 0.7697  \u001b[0m | \u001b[0m 0.1977  \u001b[0m |\n",
      "[0 1 0 ... 0 0 0]\n",
      "[-0.5  0.5 -0.5 ... -0.5 -0.5 -0.5]\n",
      "Here\n"
     ]
    },
    {
     "output_type": "stream",
     "name": "stderr",
     "text": [
      "policy learning: 100%|██████████| 200/200 [00:40<00:00,  4.89it/s]\n",
      "policy learning:   0%|          | 1/200 [00:00<00:38,  5.15it/s]"
     ]
    },
    {
     "output_type": "stream",
     "name": "stdout",
     "text": [
      "| \u001b[0m 13      \u001b[0m | \u001b[0m 0.8192  \u001b[0m | \u001b[0m 0.863   \u001b[0m |\n",
      "[0 1 0 ... 0 0 0]\n",
      "[-0.5  0.5 -0.5 ... -0.5 -0.5 -0.5]\n",
      "Here\n"
     ]
    },
    {
     "output_type": "stream",
     "name": "stderr",
     "text": [
      "policy learning: 100%|██████████| 200/200 [00:38<00:00,  5.24it/s]\n",
      "policy learning:   0%|          | 0/200 [00:00<?, ?it/s]"
     ]
    },
    {
     "output_type": "stream",
     "name": "stdout",
     "text": [
      "| \u001b[95m 14      \u001b[0m | \u001b[95m 0.83    \u001b[0m | \u001b[95m 0.9834  \u001b[0m |\n",
      "[0 1 0 ... 0 0 0]\n",
      "[-0.5  0.5 -0.5 ... -0.5 -0.5 -0.5]\n",
      "Here\n"
     ]
    },
    {
     "output_type": "stream",
     "name": "stderr",
     "text": [
      "policy learning: 100%|██████████| 200/200 [00:38<00:00,  5.17it/s]\n",
      "policy learning:   0%|          | 0/200 [00:00<?, ?it/s]"
     ]
    },
    {
     "output_type": "stream",
     "name": "stdout",
     "text": [
      "| \u001b[0m 15      \u001b[0m | \u001b[0m 0.7684  \u001b[0m | \u001b[0m 0.1638  \u001b[0m |\n",
      "[0 1 0 ... 0 0 0]\n",
      "[-0.5  0.5 -0.5 ... -0.5 -0.5 -0.5]\n",
      "Here\n"
     ]
    },
    {
     "output_type": "stream",
     "name": "stderr",
     "text": [
      "policy learning: 100%|██████████| 200/200 [00:37<00:00,  5.29it/s]\n",
      "policy learning:   0%|          | 0/200 [00:00<?, ?it/s]"
     ]
    },
    {
     "output_type": "stream",
     "name": "stdout",
     "text": [
      "| \u001b[0m 16      \u001b[0m | \u001b[0m 0.8295  \u001b[0m | \u001b[0m 0.9763  \u001b[0m |\n",
      "[0 1 0 ... 0 0 0]\n",
      "[-0.5  0.5 -0.5 ... -0.5 -0.5 -0.5]\n",
      "Here\n"
     ]
    },
    {
     "output_type": "stream",
     "name": "stderr",
     "text": [
      "policy learning: 100%|██████████| 200/200 [00:36<00:00,  5.50it/s]\n"
     ]
    },
    {
     "output_type": "stream",
     "name": "stdout",
     "text": [
      "| \u001b[95m 17      \u001b[0m | \u001b[95m 0.831   \u001b[0m | \u001b[95m 1.0     \u001b[0m |\n",
      "| \u001b[0m 18      \u001b[0m | \u001b[0m 0.831   \u001b[0m | \u001b[0m 1.0     \u001b[0m |\n",
      "| \u001b[0m 19      \u001b[0m | \u001b[0m 0.831   \u001b[0m | \u001b[0m 1.0     \u001b[0m |\n",
      "| \u001b[0m 20      \u001b[0m | \u001b[0m 0.831   \u001b[0m | \u001b[0m 1.0     \u001b[0m |\n"
     ]
    },
    {
     "output_type": "stream",
     "name": "stderr",
     "text": [
      "policy learning:   0%|          | 1/200 [00:00<00:36,  5.46it/s]"
     ]
    },
    {
     "output_type": "stream",
     "name": "stdout",
     "text": [
      "[0 1 0 ... 0 0 0]\n",
      "[-0.5  0.5 -0.5 ... -0.5 -0.5 -0.5]\n",
      "Here\n"
     ]
    },
    {
     "output_type": "stream",
     "name": "stderr",
     "text": [
      "policy learning: 100%|██████████| 200/200 [00:37<00:00,  5.37it/s]\n"
     ]
    },
    {
     "output_type": "stream",
     "name": "stdout",
     "text": [
      "| \u001b[0m 21      \u001b[0m | \u001b[0m 0.831   \u001b[0m | \u001b[0m 1.0     \u001b[0m |\n",
      "| \u001b[0m 22      \u001b[0m | \u001b[0m 0.831   \u001b[0m | \u001b[0m 1.0     \u001b[0m |\n",
      "| \u001b[0m 23      \u001b[0m | \u001b[0m 0.831   \u001b[0m | \u001b[0m 1.0     \u001b[0m |\n",
      "| \u001b[0m 24      \u001b[0m | \u001b[0m 0.831   \u001b[0m | \u001b[0m 1.0     \u001b[0m |\n",
      "| \u001b[0m 25      \u001b[0m | \u001b[0m 0.831   \u001b[0m | \u001b[0m 1.0     \u001b[0m |\n",
      "| \u001b[0m 26      \u001b[0m | \u001b[0m 0.831   \u001b[0m | \u001b[0m 1.0     \u001b[0m |\n",
      "| \u001b[0m 27      \u001b[0m | \u001b[0m 0.831   \u001b[0m | \u001b[0m 1.0     \u001b[0m |\n",
      "| \u001b[0m 28      \u001b[0m | \u001b[0m 0.831   \u001b[0m | \u001b[0m 1.0     \u001b[0m |\n",
      "| \u001b[0m 29      \u001b[0m | \u001b[0m 0.831   \u001b[0m | \u001b[0m 1.0     \u001b[0m |\n",
      "| \u001b[0m 30      \u001b[0m | \u001b[0m 0.831   \u001b[0m | \u001b[0m 1.0     \u001b[0m |\n",
      "| \u001b[0m 31      \u001b[0m | \u001b[0m 0.831   \u001b[0m | \u001b[0m 1.0     \u001b[0m |\n",
      "| \u001b[0m 32      \u001b[0m | \u001b[0m 0.831   \u001b[0m | \u001b[0m 1.0     \u001b[0m |\n",
      "| \u001b[0m 33      \u001b[0m | \u001b[0m 0.831   \u001b[0m | \u001b[0m 1.0     \u001b[0m |\n"
     ]
    },
    {
     "output_type": "stream",
     "name": "stderr",
     "text": [
      "policy learning:   0%|          | 0/200 [00:00<?, ?it/s]"
     ]
    },
    {
     "output_type": "stream",
     "name": "stdout",
     "text": [
      "| \u001b[0m 34      \u001b[0m | \u001b[0m 0.831   \u001b[0m | \u001b[0m 1.0     \u001b[0m |\n",
      "| \u001b[0m 35      \u001b[0m | \u001b[0m 0.831   \u001b[0m | \u001b[0m 1.0     \u001b[0m |\n",
      "=====================================\n",
      "Best result: {'l': 1.0}; f(x) = 0.8309898267969767.\n",
      "[0 1 0 ... 0 0 0]\n",
      "[-0.5  0.5 -0.5 ... -0.5 -0.5 -0.5]\n",
      "Here\n"
     ]
    },
    {
     "output_type": "stream",
     "name": "stderr",
     "text": [
      "policy learning: 100%|██████████| 200/200 [00:36<00:00,  5.43it/s]\n",
      "policy learning:   0%|          | 0/200 [00:00<?, ?it/s]"
     ]
    },
    {
     "output_type": "stream",
     "name": "stdout",
     "text": [
      "[0 1 0 ... 0 0 0]\n",
      "[-0.5  0.5 -0.5 ... -0.5 -0.5 -0.5]\n",
      "Here\n"
     ]
    },
    {
     "output_type": "stream",
     "name": "stderr",
     "text": [
      "policy learning: 100%|██████████| 200/200 [00:36<00:00,  5.45it/s]\n",
      "policy learning:   0%|          | 0/200 [00:00<?, ?it/s]"
     ]
    },
    {
     "output_type": "stream",
     "name": "stdout",
     "text": [
      "[0 1 0 ... 0 0 0]\n",
      "[-0.5  0.5 -0.5 ... -0.5 -0.5 -0.5]\n",
      "Here\n"
     ]
    },
    {
     "output_type": "stream",
     "name": "stderr",
     "text": [
      "policy learning: 100%|██████████| 200/200 [00:38<00:00,  5.19it/s]\n",
      "policy learning:   0%|          | 1/200 [00:00<00:38,  5.11it/s]"
     ]
    },
    {
     "output_type": "stream",
     "name": "stdout",
     "text": [
      "[0 1 0 ... 0 0 0]\n",
      "[-0.5  0.5 -0.5 ... -0.5 -0.5 -0.5]\n",
      "Here\n"
     ]
    },
    {
     "output_type": "stream",
     "name": "stderr",
     "text": [
      "policy learning: 100%|██████████| 200/200 [00:38<00:00,  5.24it/s]\n",
      "policy learning:   0%|          | 1/200 [00:00<00:38,  5.10it/s]"
     ]
    },
    {
     "output_type": "stream",
     "name": "stdout",
     "text": [
      "SyntheticBanditDataset(n_actions=10, dim_context=5, reward_type='binary', reward_function=<function logistic_reward_function at 0x7fdd524998b0>, reward_std=1.0, action_context=array([[1, 0, 0, 0, 0, 0, 0, 0, 0, 0],\n",
      "       [0, 1, 0, 0, 0, 0, 0, 0, 0, 0],\n",
      "       [0, 0, 1, 0, 0, 0, 0, 0, 0, 0],\n",
      "       [0, 0, 0, 1, 0, 0, 0, 0, 0, 0],\n",
      "       [0, 0, 0, 0, 1, 0, 0, 0, 0, 0],\n",
      "       [0, 0, 0, 0, 0, 1, 0, 0, 0, 0],\n",
      "       [0, 0, 0, 0, 0, 0, 1, 0, 0, 0],\n",
      "       [0, 0, 0, 0, 0, 0, 0, 1, 0, 0],\n",
      "       [0, 0, 0, 0, 0, 0, 0, 0, 1, 0],\n",
      "       [0, 0, 0, 0, 0, 0, 0, 0, 0, 1]]), behavior_policy_function=None, beta=-2, n_deficient_actions=0, random_state=12345, dataset_name='synthetic_bandit_dataset')\n",
      "[0 1 0 ... 0 0 0]\n",
      "[-0.5  0.5 -0.5 ... -0.5 -0.5 -0.5]\n",
      "Here\n"
     ]
    },
    {
     "output_type": "stream",
     "name": "stderr",
     "text": [
      "policy learning: 100%|██████████| 200/200 [00:37<00:00,  5.30it/s]\n",
      "policy learning:   0%|          | 1/200 [00:00<00:37,  5.36it/s]"
     ]
    },
    {
     "output_type": "stream",
     "name": "stdout",
     "text": [
      "0.7501746070542116\n",
      "[0 1 0 ... 0 0 0]\n",
      "[-0.5  0.5 -0.5 ... -0.5 -0.5 -0.5]\n",
      "Here\n"
     ]
    },
    {
     "output_type": "stream",
     "name": "stderr",
     "text": [
      "policy learning: 100%|██████████| 200/200 [00:36<00:00,  5.44it/s]\n",
      "policy learning:   0%|          | 1/200 [00:00<00:38,  5.16it/s]"
     ]
    },
    {
     "output_type": "stream",
     "name": "stdout",
     "text": [
      "0.7487915583230071\n",
      "[0 1 0 ... 0 0 0]\n",
      "[-0.5  0.5 -0.5 ... -0.5 -0.5 -0.5]\n",
      "Here\n"
     ]
    },
    {
     "output_type": "stream",
     "name": "stderr",
     "text": [
      "policy learning: 100%|██████████| 200/200 [00:38<00:00,  5.20it/s]\n",
      "policy learning:   0%|          | 0/200 [00:00<?, ?it/s]"
     ]
    },
    {
     "output_type": "stream",
     "name": "stdout",
     "text": [
      "0.7458433840249197\n",
      "[0 1 0 ... 0 0 0]\n",
      "[-0.5  0.5 -0.5 ... -0.5 -0.5 -0.5]\n",
      "Here\n"
     ]
    },
    {
     "output_type": "stream",
     "name": "stderr",
     "text": [
      "policy learning: 100%|██████████| 200/200 [00:37<00:00,  5.39it/s]\n",
      "policy learning:   0%|          | 1/200 [00:00<00:38,  5.14it/s]"
     ]
    },
    {
     "output_type": "stream",
     "name": "stdout",
     "text": [
      "0.7448337764597577\n",
      "[0 1 0 ... 0 0 0]\n",
      "[-0.5  0.5 -0.5 ... -0.5 -0.5 -0.5]\n",
      "Here\n"
     ]
    },
    {
     "output_type": "stream",
     "name": "stderr",
     "text": [
      "policy learning: 100%|██████████| 200/200 [00:37<00:00,  5.38it/s]\n",
      "policy learning:   0%|          | 0/200 [00:00<?, ?it/s]"
     ]
    },
    {
     "output_type": "stream",
     "name": "stdout",
     "text": [
      "0.7551473756911044\n",
      "[0 1 0 ... 0 0 0]\n",
      "[-0.5  0.5 -0.5 ... -0.5 -0.5 -0.5]\n",
      "Here\n"
     ]
    },
    {
     "output_type": "stream",
     "name": "stderr",
     "text": [
      "policy learning: 100%|██████████| 200/200 [00:36<00:00,  5.42it/s]\n",
      "policy learning:   0%|          | 0/200 [00:00<?, ?it/s]"
     ]
    },
    {
     "output_type": "stream",
     "name": "stdout",
     "text": [
      "0.8300149010916543\n",
      "[0 1 0 ... 0 0 0]\n",
      "[-0.5  0.5 -0.5 ... -0.5 -0.5 -0.5]\n",
      "Here\n"
     ]
    },
    {
     "output_type": "stream",
     "name": "stderr",
     "text": [
      "policy learning: 100%|██████████| 200/200 [00:35<00:00,  5.58it/s]\n",
      "policy learning:   0%|          | 1/200 [00:00<00:36,  5.51it/s]"
     ]
    },
    {
     "output_type": "stream",
     "name": "stdout",
     "text": [
      "0.9857803229488626\n",
      "|   iter    |  target   |     l     |\n",
      "-------------------------------------\n",
      "[0 1 0 ... 0 0 0]\n",
      "[-0.5  0.5 -0.5 ... -0.5 -0.5 -0.5]\n",
      "Here\n"
     ]
    },
    {
     "output_type": "stream",
     "name": "stderr",
     "text": [
      "policy learning: 100%|██████████| 200/200 [00:35<00:00,  5.71it/s]\n",
      "policy learning:   0%|          | 1/200 [00:00<00:38,  5.17it/s]"
     ]
    },
    {
     "output_type": "stream",
     "name": "stdout",
     "text": [
      "| \u001b[0m 1       \u001b[0m | \u001b[0m 0.8489  \u001b[0m | \u001b[0m 0.967   \u001b[0m |\n",
      "[0 1 0 ... 0 0 0]\n",
      "[-0.5  0.5 -0.5 ... -0.5 -0.5 -0.5]\n",
      "Here\n"
     ]
    },
    {
     "output_type": "stream",
     "name": "stderr",
     "text": [
      "policy learning: 100%|██████████| 200/200 [00:36<00:00,  5.42it/s]\n",
      "policy learning:   0%|          | 1/200 [00:00<00:37,  5.38it/s]"
     ]
    },
    {
     "output_type": "stream",
     "name": "stdout",
     "text": [
      "| \u001b[0m 2       \u001b[0m | \u001b[0m 0.8423  \u001b[0m | \u001b[0m 0.5472  \u001b[0m |\n",
      "[0 1 0 ... 0 0 0]\n",
      "[-0.5  0.5 -0.5 ... -0.5 -0.5 -0.5]\n",
      "Here\n"
     ]
    },
    {
     "output_type": "stream",
     "name": "stderr",
     "text": [
      "policy learning: 100%|██████████| 200/200 [00:35<00:00,  5.66it/s]\n",
      "policy learning:   0%|          | 0/200 [00:00<?, ?it/s]"
     ]
    },
    {
     "output_type": "stream",
     "name": "stdout",
     "text": [
      "| \u001b[0m 3       \u001b[0m | \u001b[0m 0.8483  \u001b[0m | \u001b[0m 0.9727  \u001b[0m |\n",
      "[0 1 0 ... 0 0 0]\n",
      "[-0.5  0.5 -0.5 ... -0.5 -0.5 -0.5]\n",
      "Here\n"
     ]
    },
    {
     "output_type": "stream",
     "name": "stderr",
     "text": [
      "policy learning: 100%|██████████| 200/200 [00:35<00:00,  5.61it/s]\n",
      "policy learning:   0%|          | 1/200 [00:00<00:36,  5.45it/s]"
     ]
    },
    {
     "output_type": "stream",
     "name": "stdout",
     "text": [
      "| \u001b[95m 4       \u001b[0m | \u001b[95m 0.8546  \u001b[0m | \u001b[95m 0.7148  \u001b[0m |\n",
      "[0 1 0 ... 0 0 0]\n",
      "[-0.5  0.5 -0.5 ... -0.5 -0.5 -0.5]\n",
      "Here\n"
     ]
    },
    {
     "output_type": "stream",
     "name": "stderr",
     "text": [
      "policy learning: 100%|██████████| 200/200 [00:35<00:00,  5.66it/s]\n",
      "policy learning:   0%|          | 0/200 [00:00<?, ?it/s]"
     ]
    },
    {
     "output_type": "stream",
     "name": "stdout",
     "text": [
      "| \u001b[0m 5       \u001b[0m | \u001b[0m 0.8534  \u001b[0m | \u001b[0m 0.6977  \u001b[0m |\n",
      "[0 1 0 ... 0 0 0]\n",
      "[-0.5  0.5 -0.5 ... -0.5 -0.5 -0.5]\n",
      "Here\n"
     ]
    },
    {
     "output_type": "stream",
     "name": "stderr",
     "text": [
      "policy learning: 100%|██████████| 200/200 [00:36<00:00,  5.55it/s]\n",
      "policy learning:   0%|          | 1/200 [00:00<00:38,  5.18it/s]"
     ]
    },
    {
     "output_type": "stream",
     "name": "stdout",
     "text": [
      "| \u001b[0m 6       \u001b[0m | \u001b[0m 0.8161  \u001b[0m | \u001b[0m 0.2161  \u001b[0m |\n",
      "[0 1 0 ... 0 0 0]\n",
      "[-0.5  0.5 -0.5 ... -0.5 -0.5 -0.5]\n",
      "Here\n"
     ]
    },
    {
     "output_type": "stream",
     "name": "stderr",
     "text": [
      "policy learning: 100%|██████████| 200/200 [00:35<00:00,  5.71it/s]\n",
      "policy learning:   0%|          | 0/200 [00:00<?, ?it/s]"
     ]
    },
    {
     "output_type": "stream",
     "name": "stdout",
     "text": [
      "| \u001b[0m 7       \u001b[0m | \u001b[0m 0.848   \u001b[0m | \u001b[0m 0.9763  \u001b[0m |\n",
      "[0 1 0 ... 0 0 0]\n",
      "[-0.5  0.5 -0.5 ... -0.5 -0.5 -0.5]\n",
      "Here\n"
     ]
    },
    {
     "output_type": "stream",
     "name": "stderr",
     "text": [
      "policy learning: 100%|██████████| 200/200 [00:37<00:00,  5.33it/s]\n",
      "policy learning:   0%|          | 0/200 [00:00<?, ?it/s]"
     ]
    },
    {
     "output_type": "stream",
     "name": "stdout",
     "text": [
      "| \u001b[0m 8       \u001b[0m | \u001b[0m 0.7991  \u001b[0m | \u001b[0m 0.00623 \u001b[0m |\n",
      "[0 1 0 ... 0 0 0]\n",
      "[-0.5  0.5 -0.5 ... -0.5 -0.5 -0.5]\n",
      "Here\n"
     ]
    },
    {
     "output_type": "stream",
     "name": "stderr",
     "text": [
      "policy learning: 100%|██████████| 200/200 [00:41<00:00,  4.77it/s]\n",
      "policy learning:   0%|          | 1/200 [00:00<00:38,  5.19it/s]"
     ]
    },
    {
     "output_type": "stream",
     "name": "stdout",
     "text": [
      "| \u001b[0m 9       \u001b[0m | \u001b[0m 0.819   \u001b[0m | \u001b[0m 0.253   \u001b[0m |\n",
      "[0 1 0 ... 0 0 0]\n",
      "[-0.5  0.5 -0.5 ... -0.5 -0.5 -0.5]\n",
      "Here\n"
     ]
    },
    {
     "output_type": "stream",
     "name": "stderr",
     "text": [
      "policy learning: 100%|██████████| 200/200 [00:35<00:00,  5.61it/s]\n",
      "policy learning:   0%|          | 0/200 [00:00<?, ?it/s]"
     ]
    },
    {
     "output_type": "stream",
     "name": "stdout",
     "text": [
      "| \u001b[0m 10      \u001b[0m | \u001b[0m 0.8355  \u001b[0m | \u001b[0m 0.4348  \u001b[0m |\n",
      "[0 1 0 ... 0 0 0]\n",
      "[-0.5  0.5 -0.5 ... -0.5 -0.5 -0.5]\n",
      "Here\n"
     ]
    },
    {
     "output_type": "stream",
     "name": "stderr",
     "text": [
      "policy learning: 100%|██████████| 200/200 [00:37<00:00,  5.28it/s]\n",
      "policy learning:   0%|          | 1/200 [00:00<00:38,  5.18it/s]"
     ]
    },
    {
     "output_type": "stream",
     "name": "stdout",
     "text": [
      "| \u001b[95m 11      \u001b[0m | \u001b[95m 0.8577  \u001b[0m | \u001b[95m 0.7794  \u001b[0m |\n",
      "[0 1 0 ... 0 0 0]\n",
      "[-0.5  0.5 -0.5 ... -0.5 -0.5 -0.5]\n",
      "Here\n"
     ]
    },
    {
     "output_type": "stream",
     "name": "stderr",
     "text": [
      "policy learning: 100%|██████████| 200/200 [00:40<00:00,  4.98it/s]\n",
      "policy learning:   0%|          | 1/200 [00:00<00:37,  5.37it/s]"
     ]
    },
    {
     "output_type": "stream",
     "name": "stdout",
     "text": [
      "| \u001b[0m 12      \u001b[0m | \u001b[0m 0.8149  \u001b[0m | \u001b[0m 0.1977  \u001b[0m |\n",
      "[0 1 0 ... 0 0 0]\n",
      "[-0.5  0.5 -0.5 ... -0.5 -0.5 -0.5]\n",
      "Here\n"
     ]
    },
    {
     "output_type": "stream",
     "name": "stderr",
     "text": [
      "policy learning: 100%|██████████| 200/200 [00:36<00:00,  5.49it/s]\n",
      "policy learning:   0%|          | 1/200 [00:00<00:37,  5.33it/s]"
     ]
    },
    {
     "output_type": "stream",
     "name": "stdout",
     "text": [
      "| \u001b[95m 13      \u001b[0m | \u001b[95m 0.8586  \u001b[0m | \u001b[95m 0.863   \u001b[0m |\n",
      "[0 1 0 ... 0 0 0]\n",
      "[-0.5  0.5 -0.5 ... -0.5 -0.5 -0.5]\n",
      "Here\n"
     ]
    },
    {
     "output_type": "stream",
     "name": "stderr",
     "text": [
      "policy learning: 100%|██████████| 200/200 [00:36<00:00,  5.43it/s]\n",
      "policy learning:   0%|          | 0/200 [00:00<?, ?it/s]"
     ]
    },
    {
     "output_type": "stream",
     "name": "stdout",
     "text": [
      "| \u001b[0m 14      \u001b[0m | \u001b[0m 0.8472  \u001b[0m | \u001b[0m 0.9834  \u001b[0m |\n",
      "[0 1 0 ... 0 0 0]\n",
      "[-0.5  0.5 -0.5 ... -0.5 -0.5 -0.5]\n",
      "Here\n"
     ]
    },
    {
     "output_type": "stream",
     "name": "stderr",
     "text": [
      "policy learning: 100%|██████████| 200/200 [00:35<00:00,  5.58it/s]\n",
      "policy learning:   0%|          | 0/200 [00:00<?, ?it/s]"
     ]
    },
    {
     "output_type": "stream",
     "name": "stdout",
     "text": [
      "| \u001b[0m 15      \u001b[0m | \u001b[0m 0.8126  \u001b[0m | \u001b[0m 0.1638  \u001b[0m |\n",
      "[0 1 0 ... 0 0 0]\n",
      "[-0.5  0.5 -0.5 ... -0.5 -0.5 -0.5]\n",
      "Here\n"
     ]
    },
    {
     "output_type": "stream",
     "name": "stderr",
     "text": [
      "policy learning: 100%|██████████| 200/200 [00:35<00:00,  5.69it/s]\n",
      "policy learning:   0%|          | 0/200 [00:00<?, ?it/s]"
     ]
    },
    {
     "output_type": "stream",
     "name": "stdout",
     "text": [
      "| \u001b[0m 16      \u001b[0m | \u001b[0m 0.8546  \u001b[0m | \u001b[0m 0.7148  \u001b[0m |\n",
      "[0 1 0 ... 0 0 0]\n",
      "[-0.5  0.5 -0.5 ... -0.5 -0.5 -0.5]\n",
      "Here\n"
     ]
    },
    {
     "output_type": "stream",
     "name": "stderr",
     "text": [
      "policy learning: 100%|██████████| 200/200 [00:41<00:00,  4.80it/s]\n",
      "policy learning:   0%|          | 0/200 [00:00<?, ?it/s]"
     ]
    },
    {
     "output_type": "stream",
     "name": "stdout",
     "text": [
      "| \u001b[95m 17      \u001b[0m | \u001b[95m 0.8591  \u001b[0m | \u001b[95m 0.8315  \u001b[0m |\n",
      "[0 1 0 ... 0 0 0]\n",
      "[-0.5  0.5 -0.5 ... -0.5 -0.5 -0.5]\n",
      "Here\n"
     ]
    },
    {
     "output_type": "stream",
     "name": "stderr",
     "text": [
      "policy learning: 100%|██████████| 200/200 [00:35<00:00,  5.57it/s]\n",
      "policy learning:   0%|          | 0/200 [00:00<?, ?it/s]"
     ]
    },
    {
     "output_type": "stream",
     "name": "stdout",
     "text": [
      "| \u001b[0m 18      \u001b[0m | \u001b[0m 0.859   \u001b[0m | \u001b[0m 0.8404  \u001b[0m |\n",
      "[0 1 0 ... 0 0 0]\n",
      "[-0.5  0.5 -0.5 ... -0.5 -0.5 -0.5]\n",
      "Here\n"
     ]
    },
    {
     "output_type": "stream",
     "name": "stderr",
     "text": [
      "policy learning: 100%|██████████| 200/200 [00:34<00:00,  5.73it/s]\n",
      "policy learning:   0%|          | 0/200 [00:00<?, ?it/s]"
     ]
    },
    {
     "output_type": "stream",
     "name": "stdout",
     "text": [
      "| \u001b[0m 19      \u001b[0m | \u001b[0m 0.859   \u001b[0m | \u001b[0m 0.8281  \u001b[0m |\n",
      "[0 1 0 ... 0 0 0]\n",
      "[-0.5  0.5 -0.5 ... -0.5 -0.5 -0.5]\n",
      "Here\n"
     ]
    },
    {
     "output_type": "stream",
     "name": "stderr",
     "text": [
      "policy learning: 100%|██████████| 200/200 [00:39<00:00,  5.10it/s]\n",
      "policy learning:   0%|          | 0/200 [00:00<?, ?it/s]"
     ]
    },
    {
     "output_type": "stream",
     "name": "stdout",
     "text": [
      "| \u001b[0m 20      \u001b[0m | \u001b[0m 0.859   \u001b[0m | \u001b[0m 0.834   \u001b[0m |\n",
      "[0 1 0 ... 0 0 0]\n",
      "[-0.5  0.5 -0.5 ... -0.5 -0.5 -0.5]\n",
      "Here\n"
     ]
    },
    {
     "output_type": "stream",
     "name": "stderr",
     "text": [
      "policy learning: 100%|██████████| 200/200 [00:37<00:00,  5.37it/s]\n",
      "policy learning:   0%|          | 0/200 [00:00<?, ?it/s]"
     ]
    },
    {
     "output_type": "stream",
     "name": "stdout",
     "text": [
      "| \u001b[0m 21      \u001b[0m | \u001b[0m 0.859   \u001b[0m | \u001b[0m 0.8328  \u001b[0m |\n",
      "[0 1 0 ... 0 0 0]\n",
      "[-0.5  0.5 -0.5 ... -0.5 -0.5 -0.5]\n",
      "Here\n"
     ]
    },
    {
     "output_type": "stream",
     "name": "stderr",
     "text": [
      "policy learning: 100%|██████████| 200/200 [00:37<00:00,  5.36it/s]\n",
      "policy learning:   0%|          | 0/200 [00:00<?, ?it/s]"
     ]
    },
    {
     "output_type": "stream",
     "name": "stdout",
     "text": [
      "| \u001b[0m 22      \u001b[0m | \u001b[0m 0.859   \u001b[0m | \u001b[0m 0.8303  \u001b[0m |\n",
      "[0 1 0 ... 0 0 0]\n",
      "[-0.5  0.5 -0.5 ... -0.5 -0.5 -0.5]\n",
      "Here\n"
     ]
    },
    {
     "output_type": "stream",
     "name": "stderr",
     "text": [
      "policy learning: 100%|██████████| 200/200 [00:36<00:00,  5.49it/s]\n",
      "policy learning:   0%|          | 0/200 [00:00<?, ?it/s]"
     ]
    },
    {
     "output_type": "stream",
     "name": "stdout",
     "text": [
      "| \u001b[0m 23      \u001b[0m | \u001b[0m 0.859   \u001b[0m | \u001b[0m 0.8352  \u001b[0m |\n",
      "[0 1 0 ... 0 0 0]\n",
      "[-0.5  0.5 -0.5 ... -0.5 -0.5 -0.5]\n",
      "Here\n"
     ]
    },
    {
     "output_type": "stream",
     "name": "stderr",
     "text": [
      "policy learning: 100%|██████████| 200/200 [00:34<00:00,  5.72it/s]\n",
      "policy learning:   0%|          | 0/200 [00:00<?, ?it/s]"
     ]
    },
    {
     "output_type": "stream",
     "name": "stdout",
     "text": [
      "| \u001b[0m 24      \u001b[0m | \u001b[0m 0.859   \u001b[0m | \u001b[0m 0.8278  \u001b[0m |\n",
      "[0 1 0 ... 0 0 0]\n",
      "[-0.5  0.5 -0.5 ... -0.5 -0.5 -0.5]\n",
      "Here\n"
     ]
    },
    {
     "output_type": "stream",
     "name": "stderr",
     "text": [
      "policy learning: 100%|██████████| 200/200 [00:41<00:00,  4.79it/s]\n",
      "policy learning:   0%|          | 0/200 [00:00<?, ?it/s]"
     ]
    },
    {
     "output_type": "stream",
     "name": "stdout",
     "text": [
      "| \u001b[0m 25      \u001b[0m | \u001b[0m 0.859   \u001b[0m | \u001b[0m 0.8281  \u001b[0m |\n",
      "[0 1 0 ... 0 0 0]\n",
      "[-0.5  0.5 -0.5 ... -0.5 -0.5 -0.5]\n",
      "Here\n"
     ]
    },
    {
     "output_type": "stream",
     "name": "stderr",
     "text": [
      "policy learning: 100%|██████████| 200/200 [00:37<00:00,  5.40it/s]\n",
      "policy learning:   0%|          | 0/200 [00:00<?, ?it/s]"
     ]
    },
    {
     "output_type": "stream",
     "name": "stdout",
     "text": [
      "| \u001b[0m 26      \u001b[0m | \u001b[0m 0.859   \u001b[0m | \u001b[0m 0.8323  \u001b[0m |\n",
      "[0 1 0 ... 0 0 0]\n",
      "[-0.5  0.5 -0.5 ... -0.5 -0.5 -0.5]\n",
      "Here\n"
     ]
    },
    {
     "output_type": "stream",
     "name": "stderr",
     "text": [
      "policy learning: 100%|██████████| 200/200 [00:36<00:00,  5.42it/s]\n",
      "policy learning:   0%|          | 0/200 [00:00<?, ?it/s]"
     ]
    },
    {
     "output_type": "stream",
     "name": "stdout",
     "text": [
      "| \u001b[0m 27      \u001b[0m | \u001b[0m 0.859   \u001b[0m | \u001b[0m 0.8291  \u001b[0m |\n",
      "[0 1 0 ... 0 0 0]\n",
      "[-0.5  0.5 -0.5 ... -0.5 -0.5 -0.5]\n",
      "Here\n"
     ]
    },
    {
     "output_type": "stream",
     "name": "stderr",
     "text": [
      "policy learning: 100%|██████████| 200/200 [00:38<00:00,  5.24it/s]\n",
      "policy learning:   0%|          | 0/200 [00:00<?, ?it/s]"
     ]
    },
    {
     "output_type": "stream",
     "name": "stdout",
     "text": [
      "| \u001b[0m 28      \u001b[0m | \u001b[0m 0.859   \u001b[0m | \u001b[0m 0.8329  \u001b[0m |\n",
      "[0 1 0 ... 0 0 0]\n",
      "[-0.5  0.5 -0.5 ... -0.5 -0.5 -0.5]\n",
      "Here\n"
     ]
    },
    {
     "output_type": "stream",
     "name": "stderr",
     "text": [
      "policy learning: 100%|██████████| 200/200 [00:37<00:00,  5.34it/s]\n",
      "policy learning:   0%|          | 0/200 [00:00<?, ?it/s]"
     ]
    },
    {
     "output_type": "stream",
     "name": "stdout",
     "text": [
      "| \u001b[0m 29      \u001b[0m | \u001b[0m 0.859   \u001b[0m | \u001b[0m 0.8327  \u001b[0m |\n",
      "[0 1 0 ... 0 0 0]\n",
      "[-0.5  0.5 -0.5 ... -0.5 -0.5 -0.5]\n",
      "Here\n"
     ]
    },
    {
     "output_type": "stream",
     "name": "stderr",
     "text": [
      "policy learning: 100%|██████████| 200/200 [00:35<00:00,  5.62it/s]\n",
      "policy learning:   0%|          | 0/200 [00:00<?, ?it/s]"
     ]
    },
    {
     "output_type": "stream",
     "name": "stdout",
     "text": [
      "| \u001b[0m 30      \u001b[0m | \u001b[0m 0.859   \u001b[0m | \u001b[0m 0.8289  \u001b[0m |\n",
      "[0 1 0 ... 0 0 0]\n",
      "[-0.5  0.5 -0.5 ... -0.5 -0.5 -0.5]\n",
      "Here\n"
     ]
    },
    {
     "output_type": "stream",
     "name": "stderr",
     "text": [
      "policy learning: 100%|██████████| 200/200 [00:35<00:00,  5.63it/s]\n",
      "policy learning:   0%|          | 0/200 [00:00<?, ?it/s]"
     ]
    },
    {
     "output_type": "stream",
     "name": "stdout",
     "text": [
      "| \u001b[0m 31      \u001b[0m | \u001b[0m 0.859   \u001b[0m | \u001b[0m 0.833   \u001b[0m |\n",
      "[0 1 0 ... 0 0 0]\n",
      "[-0.5  0.5 -0.5 ... -0.5 -0.5 -0.5]\n",
      "Here\n"
     ]
    },
    {
     "output_type": "stream",
     "name": "stderr",
     "text": [
      "policy learning: 100%|██████████| 200/200 [00:35<00:00,  5.67it/s]\n",
      "policy learning:   0%|          | 0/200 [00:00<?, ?it/s]"
     ]
    },
    {
     "output_type": "stream",
     "name": "stdout",
     "text": [
      "| \u001b[0m 32      \u001b[0m | \u001b[0m 0.859   \u001b[0m | \u001b[0m 0.8327  \u001b[0m |\n",
      "[0 1 0 ... 0 0 0]\n",
      "[-0.5  0.5 -0.5 ... -0.5 -0.5 -0.5]\n",
      "Here\n"
     ]
    },
    {
     "output_type": "stream",
     "name": "stderr",
     "text": [
      "policy learning: 100%|██████████| 200/200 [00:35<00:00,  5.70it/s]\n",
      "policy learning:   0%|          | 0/200 [00:00<?, ?it/s]"
     ]
    },
    {
     "output_type": "stream",
     "name": "stdout",
     "text": [
      "| \u001b[0m 33      \u001b[0m | \u001b[0m 0.859   \u001b[0m | \u001b[0m 0.829   \u001b[0m |\n",
      "[0 1 0 ... 0 0 0]\n",
      "[-0.5  0.5 -0.5 ... -0.5 -0.5 -0.5]\n",
      "Here\n"
     ]
    },
    {
     "output_type": "stream",
     "name": "stderr",
     "text": [
      "policy learning: 100%|██████████| 200/200 [00:36<00:00,  5.54it/s]\n",
      "policy learning:   0%|          | 0/200 [00:00<?, ?it/s]"
     ]
    },
    {
     "output_type": "stream",
     "name": "stdout",
     "text": [
      "| \u001b[0m 34      \u001b[0m | \u001b[0m 0.859   \u001b[0m | \u001b[0m 0.833   \u001b[0m |\n",
      "[0 1 0 ... 0 0 0]\n",
      "[-0.5  0.5 -0.5 ... -0.5 -0.5 -0.5]\n",
      "Here\n"
     ]
    },
    {
     "output_type": "stream",
     "name": "stderr",
     "text": [
      "policy learning: 100%|██████████| 200/200 [00:35<00:00,  5.67it/s]\n",
      "policy learning:   0%|          | 1/200 [00:00<00:37,  5.24it/s]"
     ]
    },
    {
     "output_type": "stream",
     "name": "stdout",
     "text": [
      "| \u001b[0m 35      \u001b[0m | \u001b[0m 0.859   \u001b[0m | \u001b[0m 0.8328  \u001b[0m |\n",
      "=====================================\n",
      "Best result: {'l': 0.8314872756843112}; f(x) = 0.8590509404120681.\n",
      "|   iter    |  target   |     l     |\n",
      "-------------------------------------\n",
      "[0 1 0 ... 0 0 0]\n",
      "[-0.5  0.5 -0.5 ... -0.5 -0.5 -0.5]\n",
      "Here\n"
     ]
    },
    {
     "output_type": "stream",
     "name": "stderr",
     "text": [
      "policy learning: 100%|██████████| 200/200 [00:35<00:00,  5.63it/s]\n",
      "policy learning:   0%|          | 1/200 [00:00<00:37,  5.32it/s]"
     ]
    },
    {
     "output_type": "stream",
     "name": "stdout",
     "text": [
      "| \u001b[0m 1       \u001b[0m | \u001b[0m 0.8173  \u001b[0m | \u001b[0m 0.967   \u001b[0m |\n",
      "[0 1 0 ... 0 0 0]\n",
      "[-0.5  0.5 -0.5 ... -0.5 -0.5 -0.5]\n",
      "Here\n"
     ]
    },
    {
     "output_type": "stream",
     "name": "stderr",
     "text": [
      "policy learning: 100%|██████████| 200/200 [00:35<00:00,  5.70it/s]\n",
      "policy learning:   0%|          | 1/200 [00:00<00:36,  5.38it/s]"
     ]
    },
    {
     "output_type": "stream",
     "name": "stdout",
     "text": [
      "| \u001b[0m 2       \u001b[0m | \u001b[0m 0.8128  \u001b[0m | \u001b[0m 0.5472  \u001b[0m |\n",
      "[0 1 0 ... 0 0 0]\n",
      "[-0.5  0.5 -0.5 ... -0.5 -0.5 -0.5]\n",
      "Here\n"
     ]
    },
    {
     "output_type": "stream",
     "name": "stderr",
     "text": [
      "policy learning: 100%|██████████| 200/200 [00:36<00:00,  5.49it/s]\n",
      "policy learning:   0%|          | 1/200 [00:00<00:38,  5.15it/s]"
     ]
    },
    {
     "output_type": "stream",
     "name": "stdout",
     "text": [
      "| \u001b[0m 3       \u001b[0m | \u001b[0m 0.8171  \u001b[0m | \u001b[0m 0.9727  \u001b[0m |\n",
      "[0 1 0 ... 0 0 0]\n",
      "[-0.5  0.5 -0.5 ... -0.5 -0.5 -0.5]\n",
      "Here\n"
     ]
    },
    {
     "output_type": "stream",
     "name": "stderr",
     "text": [
      "policy learning: 100%|██████████| 200/200 [00:35<00:00,  5.60it/s]\n",
      "policy learning:   0%|          | 1/200 [00:00<00:38,  5.20it/s]"
     ]
    },
    {
     "output_type": "stream",
     "name": "stdout",
     "text": [
      "| \u001b[95m 4       \u001b[0m | \u001b[95m 0.8176  \u001b[0m | \u001b[95m 0.7148  \u001b[0m |\n",
      "[0 1 0 ... 0 0 0]\n",
      "[-0.5  0.5 -0.5 ... -0.5 -0.5 -0.5]\n",
      "Here\n"
     ]
    },
    {
     "output_type": "stream",
     "name": "stderr",
     "text": [
      "policy learning: 100%|██████████| 200/200 [00:35<00:00,  5.71it/s]\n",
      "policy learning:   0%|          | 1/200 [00:00<00:38,  5.17it/s]"
     ]
    },
    {
     "output_type": "stream",
     "name": "stdout",
     "text": [
      "| \u001b[0m 5       \u001b[0m | \u001b[0m 0.8159  \u001b[0m | \u001b[0m 0.6977  \u001b[0m |\n",
      "[0 1 0 ... 0 0 0]\n",
      "[-0.5  0.5 -0.5 ... -0.5 -0.5 -0.5]\n",
      "Here\n"
     ]
    },
    {
     "output_type": "stream",
     "name": "stderr",
     "text": [
      "policy learning: 100%|██████████| 200/200 [00:35<00:00,  5.66it/s]\n",
      "policy learning:   0%|          | 1/200 [00:00<00:39,  5.08it/s]"
     ]
    },
    {
     "output_type": "stream",
     "name": "stdout",
     "text": [
      "| \u001b[0m 6       \u001b[0m | \u001b[0m 0.7786  \u001b[0m | \u001b[0m 0.2161  \u001b[0m |\n",
      "[0 1 0 ... 0 0 0]\n",
      "[-0.5  0.5 -0.5 ... -0.5 -0.5 -0.5]\n",
      "Here\n"
     ]
    },
    {
     "output_type": "stream",
     "name": "stderr",
     "text": [
      "policy learning: 100%|██████████| 200/200 [00:36<00:00,  5.49it/s]\n",
      "policy learning:   0%|          | 0/200 [00:00<?, ?it/s]"
     ]
    },
    {
     "output_type": "stream",
     "name": "stdout",
     "text": [
      "| \u001b[0m 7       \u001b[0m | \u001b[0m 0.817   \u001b[0m | \u001b[0m 0.9763  \u001b[0m |\n",
      "[0 1 0 ... 0 0 0]\n",
      "[-0.5  0.5 -0.5 ... -0.5 -0.5 -0.5]\n",
      "Here\n"
     ]
    },
    {
     "output_type": "stream",
     "name": "stderr",
     "text": [
      "policy learning: 100%|██████████| 200/200 [00:39<00:00,  5.05it/s]\n",
      "policy learning:   0%|          | 0/200 [00:00<?, ?it/s]"
     ]
    },
    {
     "output_type": "stream",
     "name": "stdout",
     "text": [
      "| \u001b[0m 8       \u001b[0m | \u001b[0m 0.7761  \u001b[0m | \u001b[0m 0.00623 \u001b[0m |\n",
      "[0 1 0 ... 0 0 0]\n",
      "[-0.5  0.5 -0.5 ... -0.5 -0.5 -0.5]\n",
      "Here\n"
     ]
    },
    {
     "output_type": "stream",
     "name": "stderr",
     "text": [
      "policy learning: 100%|██████████| 200/200 [00:39<00:00,  5.02it/s]\n",
      "policy learning:   0%|          | 0/200 [00:00<?, ?it/s]"
     ]
    },
    {
     "output_type": "stream",
     "name": "stdout",
     "text": [
      "| \u001b[0m 9       \u001b[0m | \u001b[0m 0.7803  \u001b[0m | \u001b[0m 0.253   \u001b[0m |\n",
      "[0 1 0 ... 0 0 0]\n",
      "[-0.5  0.5 -0.5 ... -0.5 -0.5 -0.5]\n",
      "Here\n"
     ]
    },
    {
     "output_type": "stream",
     "name": "stderr",
     "text": [
      "policy learning: 100%|██████████| 200/200 [00:38<00:00,  5.26it/s]\n",
      "policy learning:   0%|          | 1/200 [00:00<00:38,  5.13it/s]"
     ]
    },
    {
     "output_type": "stream",
     "name": "stdout",
     "text": [
      "| \u001b[0m 10      \u001b[0m | \u001b[0m 0.803   \u001b[0m | \u001b[0m 0.4348  \u001b[0m |\n",
      "[0 1 0 ... 0 0 0]\n",
      "[-0.5  0.5 -0.5 ... -0.5 -0.5 -0.5]\n",
      "Here\n"
     ]
    },
    {
     "output_type": "stream",
     "name": "stderr",
     "text": [
      "policy learning: 100%|██████████| 200/200 [00:36<00:00,  5.52it/s]\n",
      "policy learning:   0%|          | 1/200 [00:00<00:36,  5.41it/s]"
     ]
    },
    {
     "output_type": "stream",
     "name": "stdout",
     "text": [
      "| \u001b[95m 11      \u001b[0m | \u001b[95m 0.823   \u001b[0m | \u001b[95m 0.7794  \u001b[0m |\n",
      "[0 1 0 ... 0 0 0]\n",
      "[-0.5  0.5 -0.5 ... -0.5 -0.5 -0.5]\n",
      "Here\n"
     ]
    },
    {
     "output_type": "stream",
     "name": "stderr",
     "text": [
      "policy learning: 100%|██████████| 200/200 [00:36<00:00,  5.52it/s]\n",
      "policy learning:   0%|          | 0/200 [00:00<?, ?it/s]"
     ]
    },
    {
     "output_type": "stream",
     "name": "stdout",
     "text": [
      "| \u001b[0m 12      \u001b[0m | \u001b[0m 0.7781  \u001b[0m | \u001b[0m 0.1977  \u001b[0m |\n",
      "[0 1 0 ... 0 0 0]\n",
      "[-0.5  0.5 -0.5 ... -0.5 -0.5 -0.5]\n",
      "Here\n"
     ]
    },
    {
     "output_type": "stream",
     "name": "stderr",
     "text": [
      "policy learning: 100%|██████████| 200/200 [00:35<00:00,  5.60it/s]\n",
      "policy learning:   0%|          | 1/200 [00:00<00:38,  5.15it/s]"
     ]
    },
    {
     "output_type": "stream",
     "name": "stdout",
     "text": [
      "| \u001b[95m 13      \u001b[0m | \u001b[95m 0.8254  \u001b[0m | \u001b[95m 0.863   \u001b[0m |\n",
      "[0 1 0 ... 0 0 0]\n",
      "[-0.5  0.5 -0.5 ... -0.5 -0.5 -0.5]\n",
      "Here\n"
     ]
    },
    {
     "output_type": "stream",
     "name": "stderr",
     "text": [
      "policy learning: 100%|██████████| 200/200 [00:36<00:00,  5.54it/s]\n",
      "policy learning:   0%|          | 1/200 [00:00<00:37,  5.31it/s]"
     ]
    },
    {
     "output_type": "stream",
     "name": "stdout",
     "text": [
      "| \u001b[0m 14      \u001b[0m | \u001b[0m 0.8168  \u001b[0m | \u001b[0m 0.9834  \u001b[0m |\n",
      "[0 1 0 ... 0 0 0]\n",
      "[-0.5  0.5 -0.5 ... -0.5 -0.5 -0.5]\n",
      "Here\n"
     ]
    },
    {
     "output_type": "stream",
     "name": "stderr",
     "text": [
      "policy learning: 100%|██████████| 200/200 [00:36<00:00,  5.55it/s]\n",
      "policy learning:   0%|          | 0/200 [00:00<?, ?it/s]"
     ]
    },
    {
     "output_type": "stream",
     "name": "stdout",
     "text": [
      "| \u001b[0m 15      \u001b[0m | \u001b[0m 0.7774  \u001b[0m | \u001b[0m 0.1638  \u001b[0m |\n",
      "[0 1 0 ... 0 0 0]\n",
      "[-0.5  0.5 -0.5 ... -0.5 -0.5 -0.5]\n",
      "Here\n"
     ]
    },
    {
     "output_type": "stream",
     "name": "stderr",
     "text": [
      "policy learning: 100%|██████████| 200/200 [00:35<00:00,  5.68it/s]\n",
      "policy learning:   0%|          | 0/200 [00:00<?, ?it/s]"
     ]
    },
    {
     "output_type": "stream",
     "name": "stdout",
     "text": [
      "| \u001b[0m 16      \u001b[0m | \u001b[0m 0.8176  \u001b[0m | \u001b[0m 0.7148  \u001b[0m |\n",
      "[0 1 0 ... 0 0 0]\n",
      "[-0.5  0.5 -0.5 ... -0.5 -0.5 -0.5]\n",
      "Here\n"
     ]
    },
    {
     "output_type": "stream",
     "name": "stderr",
     "text": [
      "policy learning: 100%|██████████| 200/200 [00:35<00:00,  5.70it/s]\n",
      "policy learning:   0%|          | 0/200 [00:00<?, ?it/s]"
     ]
    },
    {
     "output_type": "stream",
     "name": "stdout",
     "text": [
      "| \u001b[95m 17      \u001b[0m | \u001b[95m 0.8256  \u001b[0m | \u001b[95m 0.8343  \u001b[0m |\n",
      "[0 1 0 ... 0 0 0]\n",
      "[-0.5  0.5 -0.5 ... -0.5 -0.5 -0.5]\n",
      "Here\n"
     ]
    },
    {
     "output_type": "stream",
     "name": "stderr",
     "text": [
      "policy learning: 100%|██████████| 200/200 [00:35<00:00,  5.56it/s]\n",
      "policy learning:   0%|          | 0/200 [00:00<?, ?it/s]"
     ]
    },
    {
     "output_type": "stream",
     "name": "stdout",
     "text": [
      "| \u001b[0m 18      \u001b[0m | \u001b[0m 0.8255  \u001b[0m | \u001b[0m 0.8474  \u001b[0m |\n",
      "[0 1 0 ... 0 0 0]\n",
      "[-0.5  0.5 -0.5 ... -0.5 -0.5 -0.5]\n",
      "Here\n"
     ]
    },
    {
     "output_type": "stream",
     "name": "stderr",
     "text": [
      "policy learning: 100%|██████████| 200/200 [00:37<00:00,  5.39it/s]\n",
      "policy learning:   0%|          | 0/200 [00:00<?, ?it/s]"
     ]
    },
    {
     "output_type": "stream",
     "name": "stdout",
     "text": [
      "| \u001b[95m 19      \u001b[0m | \u001b[95m 0.8256  \u001b[0m | \u001b[95m 0.8399  \u001b[0m |\n",
      "[0 1 0 ... 0 0 0]\n",
      "[-0.5  0.5 -0.5 ... -0.5 -0.5 -0.5]\n",
      "Here\n"
     ]
    },
    {
     "output_type": "stream",
     "name": "stderr",
     "text": [
      "policy learning: 100%|██████████| 200/200 [00:35<00:00,  5.70it/s]\n",
      "policy learning:   0%|          | 0/200 [00:00<?, ?it/s]"
     ]
    },
    {
     "output_type": "stream",
     "name": "stdout",
     "text": [
      "| \u001b[0m 20      \u001b[0m | \u001b[0m 0.8255  \u001b[0m | \u001b[0m 0.8301  \u001b[0m |\n",
      "[0 1 0 ... 0 0 0]\n",
      "[-0.5  0.5 -0.5 ... -0.5 -0.5 -0.5]\n",
      "Here\n"
     ]
    },
    {
     "output_type": "stream",
     "name": "stderr",
     "text": [
      "policy learning: 100%|██████████| 200/200 [00:35<00:00,  5.63it/s]\n",
      "policy learning:   0%|          | 0/200 [00:00<?, ?it/s]"
     ]
    },
    {
     "output_type": "stream",
     "name": "stdout",
     "text": [
      "| \u001b[95m 21      \u001b[0m | \u001b[95m 0.8256  \u001b[0m | \u001b[95m 0.8408  \u001b[0m |\n",
      "[0 1 0 ... 0 0 0]\n",
      "[-0.5  0.5 -0.5 ... -0.5 -0.5 -0.5]\n",
      "Here\n"
     ]
    },
    {
     "output_type": "stream",
     "name": "stderr",
     "text": [
      "policy learning: 100%|██████████| 200/200 [00:38<00:00,  5.23it/s]\n",
      "policy learning:   0%|          | 0/200 [00:00<?, ?it/s]"
     ]
    },
    {
     "output_type": "stream",
     "name": "stdout",
     "text": [
      "| \u001b[0m 22      \u001b[0m | \u001b[0m 0.8256  \u001b[0m | \u001b[0m 0.8408  \u001b[0m |\n",
      "[0 1 0 ... 0 0 0]\n",
      "[-0.5  0.5 -0.5 ... -0.5 -0.5 -0.5]\n",
      "Here\n"
     ]
    },
    {
     "output_type": "stream",
     "name": "stderr",
     "text": [
      "policy learning: 100%|██████████| 200/200 [00:37<00:00,  5.30it/s]\n",
      "policy learning:   0%|          | 0/200 [00:00<?, ?it/s]"
     ]
    },
    {
     "output_type": "stream",
     "name": "stdout",
     "text": [
      "| \u001b[0m 23      \u001b[0m | \u001b[0m 0.8256  \u001b[0m | \u001b[0m 0.8407  \u001b[0m |\n",
      "[0 1 0 ... 0 0 0]\n",
      "[-0.5  0.5 -0.5 ... -0.5 -0.5 -0.5]\n",
      "Here\n"
     ]
    },
    {
     "output_type": "stream",
     "name": "stderr",
     "text": [
      "policy learning: 100%|██████████| 200/200 [00:38<00:00,  5.25it/s]\n",
      "policy learning:   0%|          | 0/200 [00:00<?, ?it/s]"
     ]
    },
    {
     "output_type": "stream",
     "name": "stdout",
     "text": [
      "| \u001b[0m 24      \u001b[0m | \u001b[0m 0.8256  \u001b[0m | \u001b[0m 0.8406  \u001b[0m |\n",
      "[0 1 0 ... 0 0 0]\n",
      "[-0.5  0.5 -0.5 ... -0.5 -0.5 -0.5]\n",
      "Here\n"
     ]
    },
    {
     "output_type": "stream",
     "name": "stderr",
     "text": [
      "policy learning: 100%|██████████| 200/200 [00:37<00:00,  5.35it/s]\n",
      "policy learning:   0%|          | 0/200 [00:00<?, ?it/s]"
     ]
    },
    {
     "output_type": "stream",
     "name": "stdout",
     "text": [
      "| \u001b[0m 25      \u001b[0m | \u001b[0m 0.8256  \u001b[0m | \u001b[0m 0.8405  \u001b[0m |\n",
      "[0 1 0 ... 0 0 0]\n",
      "[-0.5  0.5 -0.5 ... -0.5 -0.5 -0.5]\n",
      "Here\n"
     ]
    },
    {
     "output_type": "stream",
     "name": "stderr",
     "text": [
      "policy learning: 100%|██████████| 200/200 [00:37<00:00,  5.37it/s]\n",
      "policy learning:   0%|          | 0/200 [00:00<?, ?it/s]"
     ]
    },
    {
     "output_type": "stream",
     "name": "stdout",
     "text": [
      "| \u001b[0m 26      \u001b[0m | \u001b[0m 0.8256  \u001b[0m | \u001b[0m 0.8403  \u001b[0m |\n",
      "[0 1 0 ... 0 0 0]\n",
      "[-0.5  0.5 -0.5 ... -0.5 -0.5 -0.5]\n",
      "Here\n"
     ]
    },
    {
     "output_type": "stream",
     "name": "stderr",
     "text": [
      "policy learning: 100%|██████████| 200/200 [00:37<00:00,  5.32it/s]\n",
      "policy learning:   0%|          | 0/200 [00:00<?, ?it/s]"
     ]
    },
    {
     "output_type": "stream",
     "name": "stdout",
     "text": [
      "| \u001b[0m 27      \u001b[0m | \u001b[0m 0.8256  \u001b[0m | \u001b[0m 0.8402  \u001b[0m |\n",
      "[0 1 0 ... 0 0 0]\n",
      "[-0.5  0.5 -0.5 ... -0.5 -0.5 -0.5]\n",
      "Here\n"
     ]
    },
    {
     "output_type": "stream",
     "name": "stderr",
     "text": [
      "policy learning: 100%|██████████| 200/200 [00:37<00:00,  5.34it/s]\n",
      "policy learning:   0%|          | 0/200 [00:00<?, ?it/s]"
     ]
    },
    {
     "output_type": "stream",
     "name": "stdout",
     "text": [
      "| \u001b[0m 28      \u001b[0m | \u001b[0m 0.8255  \u001b[0m | \u001b[0m 0.8432  \u001b[0m |\n",
      "[0 1 0 ... 0 0 0]\n",
      "[-0.5  0.5 -0.5 ... -0.5 -0.5 -0.5]\n",
      "Here\n"
     ]
    },
    {
     "output_type": "stream",
     "name": "stderr",
     "text": [
      "policy learning: 100%|██████████| 200/200 [00:37<00:00,  5.35it/s]\n",
      "policy learning:   0%|          | 0/200 [00:00<?, ?it/s]"
     ]
    },
    {
     "output_type": "stream",
     "name": "stdout",
     "text": [
      "| \u001b[0m 29      \u001b[0m | \u001b[0m 0.8256  \u001b[0m | \u001b[0m 0.8377  \u001b[0m |\n",
      "[0 1 0 ... 0 0 0]\n",
      "[-0.5  0.5 -0.5 ... -0.5 -0.5 -0.5]\n",
      "Here\n"
     ]
    },
    {
     "output_type": "stream",
     "name": "stderr",
     "text": [
      "policy learning: 100%|██████████| 200/200 [00:38<00:00,  5.25it/s]\n",
      "policy learning:   0%|          | 0/200 [00:00<?, ?it/s]"
     ]
    },
    {
     "output_type": "stream",
     "name": "stdout",
     "text": [
      "| \u001b[0m 30      \u001b[0m | \u001b[0m 0.8256  \u001b[0m | \u001b[0m 0.838   \u001b[0m |\n",
      "[0 1 0 ... 0 0 0]\n",
      "[-0.5  0.5 -0.5 ... -0.5 -0.5 -0.5]\n",
      "Here\n"
     ]
    },
    {
     "output_type": "stream",
     "name": "stderr",
     "text": [
      "policy learning: 100%|██████████| 200/200 [00:36<00:00,  5.48it/s]\n",
      "policy learning:   0%|          | 0/200 [00:00<?, ?it/s]"
     ]
    },
    {
     "output_type": "stream",
     "name": "stdout",
     "text": [
      "| \u001b[0m 31      \u001b[0m | \u001b[0m 0.8256  \u001b[0m | \u001b[0m 0.8381  \u001b[0m |\n",
      "[0 1 0 ... 0 0 0]\n",
      "[-0.5  0.5 -0.5 ... -0.5 -0.5 -0.5]\n",
      "Here\n"
     ]
    },
    {
     "output_type": "stream",
     "name": "stderr",
     "text": [
      "policy learning: 100%|██████████| 200/200 [00:37<00:00,  5.39it/s]\n",
      "policy learning:   0%|          | 0/200 [00:00<?, ?it/s]"
     ]
    },
    {
     "output_type": "stream",
     "name": "stdout",
     "text": [
      "| \u001b[0m 32      \u001b[0m | \u001b[0m 0.8256  \u001b[0m | \u001b[0m 0.8382  \u001b[0m |\n",
      "[0 1 0 ... 0 0 0]\n",
      "[-0.5  0.5 -0.5 ... -0.5 -0.5 -0.5]\n",
      "Here\n"
     ]
    },
    {
     "output_type": "stream",
     "name": "stderr",
     "text": [
      "policy learning: 100%|██████████| 200/200 [00:35<00:00,  5.69it/s]\n",
      "policy learning:   0%|          | 0/200 [00:00<?, ?it/s]"
     ]
    },
    {
     "output_type": "stream",
     "name": "stdout",
     "text": [
      "| \u001b[0m 33      \u001b[0m | \u001b[0m 0.8256  \u001b[0m | \u001b[0m 0.8383  \u001b[0m |\n",
      "[0 1 0 ... 0 0 0]\n",
      "[-0.5  0.5 -0.5 ... -0.5 -0.5 -0.5]\n",
      "Here\n"
     ]
    },
    {
     "output_type": "stream",
     "name": "stderr",
     "text": [
      "policy learning: 100%|██████████| 200/200 [00:35<00:00,  5.68it/s]\n",
      "policy learning:   0%|          | 0/200 [00:00<?, ?it/s]"
     ]
    },
    {
     "output_type": "stream",
     "name": "stdout",
     "text": [
      "| \u001b[0m 34      \u001b[0m | \u001b[0m 0.8256  \u001b[0m | \u001b[0m 0.8385  \u001b[0m |\n",
      "[0 1 0 ... 0 0 0]\n",
      "[-0.5  0.5 -0.5 ... -0.5 -0.5 -0.5]\n",
      "Here\n"
     ]
    },
    {
     "output_type": "stream",
     "name": "stderr",
     "text": [
      "policy learning: 100%|██████████| 200/200 [00:36<00:00,  5.54it/s]\n",
      "policy learning:   0%|          | 1/200 [00:00<00:36,  5.46it/s]"
     ]
    },
    {
     "output_type": "stream",
     "name": "stdout",
     "text": [
      "| \u001b[0m 35      \u001b[0m | \u001b[0m 0.8256  \u001b[0m | \u001b[0m 0.8386  \u001b[0m |\n",
      "=====================================\n",
      "Best result: {'l': 0.840788282220842}; f(x) = 0.8255967153202908.\n",
      "[0 1 0 ... 0 0 0]\n",
      "[-0.5  0.5 -0.5 ... -0.5 -0.5 -0.5]\n",
      "Here\n"
     ]
    },
    {
     "output_type": "stream",
     "name": "stderr",
     "text": [
      "policy learning: 100%|██████████| 200/200 [00:35<00:00,  5.68it/s]\n",
      "policy learning:   0%|          | 1/200 [00:00<00:37,  5.32it/s]"
     ]
    },
    {
     "output_type": "stream",
     "name": "stdout",
     "text": [
      "[0 1 0 ... 0 0 0]\n",
      "[-0.5  0.5 -0.5 ... -0.5 -0.5 -0.5]\n",
      "Here\n"
     ]
    },
    {
     "output_type": "stream",
     "name": "stderr",
     "text": [
      "policy learning: 100%|██████████| 200/200 [00:35<00:00,  5.61it/s]\n",
      "policy learning:   0%|          | 1/200 [00:00<00:36,  5.44it/s]"
     ]
    },
    {
     "output_type": "stream",
     "name": "stdout",
     "text": [
      "[0 1 0 ... 0 0 0]\n",
      "[-0.5  0.5 -0.5 ... -0.5 -0.5 -0.5]\n",
      "Here\n"
     ]
    },
    {
     "output_type": "stream",
     "name": "stderr",
     "text": [
      "policy learning: 100%|██████████| 200/200 [00:36<00:00,  5.43it/s]\n",
      "policy learning:   0%|          | 1/200 [00:00<00:37,  5.25it/s]"
     ]
    },
    {
     "output_type": "stream",
     "name": "stdout",
     "text": [
      "[0 1 0 ... 0 0 0]\n",
      "[-0.5  0.5 -0.5 ... -0.5 -0.5 -0.5]\n",
      "Here\n"
     ]
    },
    {
     "output_type": "stream",
     "name": "stderr",
     "text": [
      "policy learning: 100%|██████████| 200/200 [00:35<00:00,  5.62it/s]\n",
      "policy learning:   0%|          | 1/200 [00:00<00:37,  5.31it/s]"
     ]
    },
    {
     "output_type": "stream",
     "name": "stdout",
     "text": [
      "SyntheticBanditDataset(n_actions=10, dim_context=5, reward_type='binary', reward_function=<function logistic_reward_function at 0x7fdd524998b0>, reward_std=1.0, action_context=array([[1, 0, 0, 0, 0, 0, 0, 0, 0, 0],\n",
      "       [0, 1, 0, 0, 0, 0, 0, 0, 0, 0],\n",
      "       [0, 0, 1, 0, 0, 0, 0, 0, 0, 0],\n",
      "       [0, 0, 0, 1, 0, 0, 0, 0, 0, 0],\n",
      "       [0, 0, 0, 0, 1, 0, 0, 0, 0, 0],\n",
      "       [0, 0, 0, 0, 0, 1, 0, 0, 0, 0],\n",
      "       [0, 0, 0, 0, 0, 0, 1, 0, 0, 0],\n",
      "       [0, 0, 0, 0, 0, 0, 0, 1, 0, 0],\n",
      "       [0, 0, 0, 0, 0, 0, 0, 0, 1, 0],\n",
      "       [0, 0, 0, 0, 0, 0, 0, 0, 0, 1]]), behavior_policy_function=None, beta=-2, n_deficient_actions=0, random_state=12345, dataset_name='synthetic_bandit_dataset')\n",
      "[0 1 0 ... 0 0 0]\n",
      "[-0.5  0.5 -0.5 ... -0.5 -0.5 -0.5]\n",
      "Here\n"
     ]
    },
    {
     "output_type": "stream",
     "name": "stderr",
     "text": [
      "policy learning: 100%|██████████| 200/200 [00:34<00:00,  5.74it/s]\n",
      "policy learning:   0%|          | 1/200 [00:00<00:36,  5.39it/s]"
     ]
    },
    {
     "output_type": "stream",
     "name": "stdout",
     "text": [
      "0.7517748038610049\n",
      "[0 1 0 ... 0 0 0]\n",
      "[-0.5  0.5 -0.5 ... -0.5 -0.5 -0.5]\n",
      "Here\n"
     ]
    },
    {
     "output_type": "stream",
     "name": "stderr",
     "text": [
      "policy learning: 100%|██████████| 200/200 [00:35<00:00,  5.66it/s]\n",
      "policy learning:   0%|          | 1/200 [00:00<00:37,  5.31it/s]"
     ]
    },
    {
     "output_type": "stream",
     "name": "stdout",
     "text": [
      "0.7518739733662526\n",
      "[0 1 0 ... 0 0 0]\n",
      "[-0.5  0.5 -0.5 ... -0.5 -0.5 -0.5]\n",
      "Here\n"
     ]
    },
    {
     "output_type": "stream",
     "name": "stderr",
     "text": [
      "policy learning: 100%|██████████| 200/200 [00:36<00:00,  5.42it/s]\n",
      "policy learning:   0%|          | 1/200 [00:00<00:37,  5.24it/s]"
     ]
    },
    {
     "output_type": "stream",
     "name": "stdout",
     "text": [
      "0.7487798316567015\n",
      "[0 1 0 ... 0 0 0]\n",
      "[-0.5  0.5 -0.5 ... -0.5 -0.5 -0.5]\n",
      "Here\n"
     ]
    },
    {
     "output_type": "stream",
     "name": "stderr",
     "text": [
      "policy learning: 100%|██████████| 200/200 [00:35<00:00,  5.64it/s]\n",
      "policy learning:   0%|          | 1/200 [00:00<00:38,  5.16it/s]"
     ]
    },
    {
     "output_type": "stream",
     "name": "stdout",
     "text": [
      "0.7519757967130666\n",
      "[0 1 0 ... 0 0 0]\n",
      "[-0.5  0.5 -0.5 ... -0.5 -0.5 -0.5]\n",
      "Here\n"
     ]
    },
    {
     "output_type": "stream",
     "name": "stderr",
     "text": [
      "policy learning: 100%|██████████| 200/200 [00:37<00:00,  5.37it/s]\n",
      "policy learning:   0%|          | 1/200 [00:00<00:37,  5.30it/s]"
     ]
    },
    {
     "output_type": "stream",
     "name": "stdout",
     "text": [
      "0.7981672056028496\n",
      "[0 1 0 ... 0 0 0]\n",
      "[-0.5  0.5 -0.5 ... -0.5 -0.5 -0.5]\n",
      "Here\n"
     ]
    },
    {
     "output_type": "stream",
     "name": "stderr",
     "text": [
      "policy learning: 100%|██████████| 200/200 [00:35<00:00,  5.67it/s]\n",
      "policy learning:   0%|          | 1/200 [00:00<00:37,  5.34it/s]"
     ]
    },
    {
     "output_type": "stream",
     "name": "stdout",
     "text": [
      "0.8301080686143557\n",
      "[0 1 0 ... 0 0 0]\n",
      "[-0.5  0.5 -0.5 ... -0.5 -0.5 -0.5]\n",
      "Here\n"
     ]
    },
    {
     "output_type": "stream",
     "name": "stderr",
     "text": [
      "policy learning: 100%|██████████| 200/200 [00:35<00:00,  5.61it/s]\n",
      "policy learning:   0%|          | 1/200 [00:00<00:36,  5.38it/s]"
     ]
    },
    {
     "output_type": "stream",
     "name": "stdout",
     "text": [
      "0.9835739624573727\n",
      "|   iter    |  target   |     l     |\n",
      "-------------------------------------\n",
      "[0 1 0 ... 0 0 0]\n",
      "[-0.5  0.5 -0.5 ... -0.5 -0.5 -0.5]\n",
      "Here\n"
     ]
    },
    {
     "output_type": "stream",
     "name": "stderr",
     "text": [
      "policy learning: 100%|██████████| 200/200 [00:35<00:00,  5.64it/s]\n",
      "policy learning:   0%|          | 1/200 [00:00<00:36,  5.45it/s]"
     ]
    },
    {
     "output_type": "stream",
     "name": "stdout",
     "text": [
      "| \u001b[0m 1       \u001b[0m | \u001b[0m 0.8475  \u001b[0m | \u001b[0m 0.967   \u001b[0m |\n",
      "[0 1 0 ... 0 0 0]\n",
      "[-0.5  0.5 -0.5 ... -0.5 -0.5 -0.5]\n",
      "Here\n"
     ]
    },
    {
     "output_type": "stream",
     "name": "stderr",
     "text": [
      "policy learning: 100%|██████████| 200/200 [00:34<00:00,  5.75it/s]\n",
      "policy learning:   0%|          | 1/200 [00:00<00:37,  5.24it/s]"
     ]
    },
    {
     "output_type": "stream",
     "name": "stdout",
     "text": [
      "| \u001b[0m 2       \u001b[0m | \u001b[0m 0.8394  \u001b[0m | \u001b[0m 0.5472  \u001b[0m |\n",
      "[0 1 0 ... 0 0 0]\n",
      "[-0.5  0.5 -0.5 ... -0.5 -0.5 -0.5]\n",
      "Here\n"
     ]
    },
    {
     "output_type": "stream",
     "name": "stderr",
     "text": [
      "policy learning: 100%|██████████| 200/200 [00:35<00:00,  5.57it/s]\n",
      "policy learning:   0%|          | 1/200 [00:00<00:37,  5.38it/s]"
     ]
    },
    {
     "output_type": "stream",
     "name": "stdout",
     "text": [
      "| \u001b[0m 3       \u001b[0m | \u001b[0m 0.8473  \u001b[0m | \u001b[0m 0.9727  \u001b[0m |\n",
      "[0 1 0 ... 0 0 0]\n",
      "[-0.5  0.5 -0.5 ... -0.5 -0.5 -0.5]\n",
      "Here\n"
     ]
    },
    {
     "output_type": "stream",
     "name": "stderr",
     "text": [
      "policy learning: 100%|██████████| 200/200 [00:35<00:00,  5.69it/s]\n",
      "policy learning:   0%|          | 0/200 [00:00<?, ?it/s]"
     ]
    },
    {
     "output_type": "stream",
     "name": "stdout",
     "text": [
      "| \u001b[95m 4       \u001b[0m | \u001b[95m 0.8532  \u001b[0m | \u001b[95m 0.7148  \u001b[0m |\n",
      "[0 1 0 ... 0 0 0]\n",
      "[-0.5  0.5 -0.5 ... -0.5 -0.5 -0.5]\n",
      "Here\n"
     ]
    },
    {
     "output_type": "stream",
     "name": "stderr",
     "text": [
      "policy learning: 100%|██████████| 200/200 [00:35<00:00,  5.70it/s]\n",
      "policy learning:   0%|          | 1/200 [00:00<00:36,  5.41it/s]"
     ]
    },
    {
     "output_type": "stream",
     "name": "stdout",
     "text": [
      "| \u001b[0m 5       \u001b[0m | \u001b[0m 0.8522  \u001b[0m | \u001b[0m 0.6977  \u001b[0m |\n",
      "[0 1 0 ... 0 0 0]\n",
      "[-0.5  0.5 -0.5 ... -0.5 -0.5 -0.5]\n",
      "Here\n"
     ]
    },
    {
     "output_type": "stream",
     "name": "stderr",
     "text": [
      "policy learning: 100%|██████████| 200/200 [00:34<00:00,  5.72it/s]\n",
      "policy learning:   0%|          | 1/200 [00:00<00:37,  5.37it/s]"
     ]
    },
    {
     "output_type": "stream",
     "name": "stdout",
     "text": [
      "| \u001b[0m 6       \u001b[0m | \u001b[0m 0.8137  \u001b[0m | \u001b[0m 0.2161  \u001b[0m |\n",
      "[0 1 0 ... 0 0 0]\n",
      "[-0.5  0.5 -0.5 ... -0.5 -0.5 -0.5]\n",
      "Here\n"
     ]
    },
    {
     "output_type": "stream",
     "name": "stderr",
     "text": [
      "policy learning: 100%|██████████| 200/200 [00:38<00:00,  5.21it/s]\n",
      "policy learning:   0%|          | 1/200 [00:00<00:39,  5.08it/s]"
     ]
    },
    {
     "output_type": "stream",
     "name": "stdout",
     "text": [
      "| \u001b[0m 7       \u001b[0m | \u001b[0m 0.8472  \u001b[0m | \u001b[0m 0.9763  \u001b[0m |\n",
      "[0 1 0 ... 0 0 0]\n",
      "[-0.5  0.5 -0.5 ... -0.5 -0.5 -0.5]\n",
      "Here\n"
     ]
    },
    {
     "output_type": "stream",
     "name": "stderr",
     "text": [
      "policy learning: 100%|██████████| 200/200 [00:38<00:00,  5.21it/s]\n",
      "policy learning:   0%|          | 1/200 [00:00<00:38,  5.14it/s]"
     ]
    },
    {
     "output_type": "stream",
     "name": "stdout",
     "text": [
      "| \u001b[0m 8       \u001b[0m | \u001b[0m 0.8002  \u001b[0m | \u001b[0m 0.00623 \u001b[0m |\n",
      "[0 1 0 ... 0 0 0]\n",
      "[-0.5  0.5 -0.5 ... -0.5 -0.5 -0.5]\n",
      "Here\n"
     ]
    },
    {
     "output_type": "stream",
     "name": "stderr",
     "text": [
      "policy learning: 100%|██████████| 200/200 [00:40<00:00,  4.96it/s]\n",
      "policy learning:   0%|          | 0/200 [00:00<?, ?it/s]"
     ]
    },
    {
     "output_type": "stream",
     "name": "stdout",
     "text": [
      "| \u001b[0m 9       \u001b[0m | \u001b[0m 0.8157  \u001b[0m | \u001b[0m 0.253   \u001b[0m |\n",
      "[0 1 0 ... 0 0 0]\n",
      "[-0.5  0.5 -0.5 ... -0.5 -0.5 -0.5]\n",
      "Here\n"
     ]
    },
    {
     "output_type": "stream",
     "name": "stderr",
     "text": [
      "policy learning: 100%|██████████| 200/200 [00:38<00:00,  5.13it/s]\n",
      "policy learning:   0%|          | 0/200 [00:00<?, ?it/s]"
     ]
    },
    {
     "output_type": "stream",
     "name": "stdout",
     "text": [
      "| \u001b[0m 10      \u001b[0m | \u001b[0m 0.8331  \u001b[0m | \u001b[0m 0.4348  \u001b[0m |\n",
      "[0 1 0 ... 0 0 0]\n",
      "[-0.5  0.5 -0.5 ... -0.5 -0.5 -0.5]\n",
      "Here\n"
     ]
    },
    {
     "output_type": "stream",
     "name": "stderr",
     "text": [
      "policy learning: 100%|██████████| 200/200 [00:36<00:00,  5.51it/s]\n",
      "policy learning:   0%|          | 1/200 [00:00<00:38,  5.18it/s]"
     ]
    },
    {
     "output_type": "stream",
     "name": "stdout",
     "text": [
      "| \u001b[95m 11      \u001b[0m | \u001b[95m 0.8558  \u001b[0m | \u001b[95m 0.7794  \u001b[0m |\n",
      "[0 1 0 ... 0 0 0]\n",
      "[-0.5  0.5 -0.5 ... -0.5 -0.5 -0.5]\n",
      "Here\n"
     ]
    },
    {
     "output_type": "stream",
     "name": "stderr",
     "text": [
      "policy learning: 100%|██████████| 200/200 [00:36<00:00,  5.42it/s]\n",
      "policy learning:   0%|          | 1/200 [00:00<00:36,  5.51it/s]"
     ]
    },
    {
     "output_type": "stream",
     "name": "stdout",
     "text": [
      "| \u001b[0m 12      \u001b[0m | \u001b[0m 0.8127  \u001b[0m | \u001b[0m 0.1977  \u001b[0m |\n",
      "[0 1 0 ... 0 0 0]\n",
      "[-0.5  0.5 -0.5 ... -0.5 -0.5 -0.5]\n",
      "Here\n"
     ]
    },
    {
     "output_type": "stream",
     "name": "stderr",
     "text": [
      "policy learning: 100%|██████████| 200/200 [00:36<00:00,  5.53it/s]\n",
      "policy learning:   0%|          | 1/200 [00:00<00:36,  5.50it/s]"
     ]
    },
    {
     "output_type": "stream",
     "name": "stdout",
     "text": [
      "| \u001b[95m 13      \u001b[0m | \u001b[95m 0.8561  \u001b[0m | \u001b[95m 0.863   \u001b[0m |\n",
      "[0 1 0 ... 0 0 0]\n",
      "[-0.5  0.5 -0.5 ... -0.5 -0.5 -0.5]\n",
      "Here\n"
     ]
    },
    {
     "output_type": "stream",
     "name": "stderr",
     "text": [
      "policy learning: 100%|██████████| 200/200 [00:36<00:00,  5.53it/s]\n",
      "policy learning:   0%|          | 1/200 [00:00<00:38,  5.20it/s]"
     ]
    },
    {
     "output_type": "stream",
     "name": "stdout",
     "text": [
      "| \u001b[0m 14      \u001b[0m | \u001b[0m 0.8469  \u001b[0m | \u001b[0m 0.9834  \u001b[0m |\n",
      "[0 1 0 ... 0 0 0]\n",
      "[-0.5  0.5 -0.5 ... -0.5 -0.5 -0.5]\n",
      "Here\n"
     ]
    },
    {
     "output_type": "stream",
     "name": "stderr",
     "text": [
      "policy learning: 100%|██████████| 200/200 [00:36<00:00,  5.45it/s]\n",
      "policy learning:   0%|          | 0/200 [00:00<?, ?it/s]"
     ]
    },
    {
     "output_type": "stream",
     "name": "stdout",
     "text": [
      "| \u001b[0m 15      \u001b[0m | \u001b[0m 0.8107  \u001b[0m | \u001b[0m 0.1638  \u001b[0m |\n",
      "[0 1 0 ... 0 0 0]\n",
      "[-0.5  0.5 -0.5 ... -0.5 -0.5 -0.5]\n",
      "Here\n"
     ]
    },
    {
     "output_type": "stream",
     "name": "stderr",
     "text": [
      "policy learning: 100%|██████████| 200/200 [00:35<00:00,  5.63it/s]\n",
      "policy learning:   0%|          | 0/200 [00:00<?, ?it/s]"
     ]
    },
    {
     "output_type": "stream",
     "name": "stdout",
     "text": [
      "| \u001b[0m 16      \u001b[0m | \u001b[0m 0.8532  \u001b[0m | \u001b[0m 0.7148  \u001b[0m |\n",
      "[0 1 0 ... 0 0 0]\n",
      "[-0.5  0.5 -0.5 ... -0.5 -0.5 -0.5]\n",
      "Here\n"
     ]
    },
    {
     "output_type": "stream",
     "name": "stderr",
     "text": [
      "policy learning: 100%|██████████| 200/200 [00:37<00:00,  5.40it/s]\n",
      "policy learning:   0%|          | 0/200 [00:00<?, ?it/s]"
     ]
    },
    {
     "output_type": "stream",
     "name": "stdout",
     "text": [
      "| \u001b[95m 17      \u001b[0m | \u001b[95m 0.8563  \u001b[0m | \u001b[95m 0.8265  \u001b[0m |\n",
      "[0 1 0 ... 0 0 0]\n",
      "[-0.5  0.5 -0.5 ... -0.5 -0.5 -0.5]\n",
      "Here\n"
     ]
    },
    {
     "output_type": "stream",
     "name": "stderr",
     "text": [
      "policy learning: 100%|██████████| 200/200 [00:37<00:00,  5.35it/s]\n",
      "policy learning:   0%|          | 0/200 [00:00<?, ?it/s]"
     ]
    },
    {
     "output_type": "stream",
     "name": "stdout",
     "text": [
      "| \u001b[0m 18      \u001b[0m | \u001b[0m 0.8562  \u001b[0m | \u001b[0m 0.8436  \u001b[0m |\n",
      "[0 1 0 ... 0 0 0]\n",
      "[-0.5  0.5 -0.5 ... -0.5 -0.5 -0.5]\n",
      "Here\n"
     ]
    },
    {
     "output_type": "stream",
     "name": "stderr",
     "text": [
      "policy learning: 100%|██████████| 200/200 [00:36<00:00,  5.41it/s]\n",
      "policy learning:   0%|          | 0/200 [00:00<?, ?it/s]"
     ]
    },
    {
     "output_type": "stream",
     "name": "stdout",
     "text": [
      "| \u001b[0m 19      \u001b[0m | \u001b[0m 0.8562  \u001b[0m | \u001b[0m 0.8074  \u001b[0m |\n",
      "[0 1 0 ... 0 0 0]\n",
      "[-0.5  0.5 -0.5 ... -0.5 -0.5 -0.5]\n",
      "Here\n"
     ]
    },
    {
     "output_type": "stream",
     "name": "stderr",
     "text": [
      "policy learning: 100%|██████████| 200/200 [00:35<00:00,  5.69it/s]\n",
      "policy learning:   0%|          | 0/200 [00:00<?, ?it/s]"
     ]
    },
    {
     "output_type": "stream",
     "name": "stdout",
     "text": [
      "| \u001b[0m 20      \u001b[0m | \u001b[0m 0.8563  \u001b[0m | \u001b[0m 0.819   \u001b[0m |\n",
      "[0 1 0 ... 0 0 0]\n",
      "[-0.5  0.5 -0.5 ... -0.5 -0.5 -0.5]\n",
      "Here\n"
     ]
    },
    {
     "output_type": "stream",
     "name": "stderr",
     "text": [
      "policy learning: 100%|██████████| 200/200 [00:35<00:00,  5.57it/s]\n",
      "policy learning:   0%|          | 0/200 [00:00<?, ?it/s]"
     ]
    },
    {
     "output_type": "stream",
     "name": "stdout",
     "text": [
      "| \u001b[0m 21      \u001b[0m | \u001b[0m 0.8562  \u001b[0m | \u001b[0m 0.8209  \u001b[0m |\n",
      "[0 1 0 ... 0 0 0]\n",
      "[-0.5  0.5 -0.5 ... -0.5 -0.5 -0.5]\n",
      "Here\n"
     ]
    },
    {
     "output_type": "stream",
     "name": "stderr",
     "text": [
      "policy learning: 100%|██████████| 200/200 [00:35<00:00,  5.62it/s]\n",
      "policy learning:   0%|          | 0/200 [00:00<?, ?it/s]"
     ]
    },
    {
     "output_type": "stream",
     "name": "stdout",
     "text": [
      "| \u001b[0m 22      \u001b[0m | \u001b[0m 0.8563  \u001b[0m | \u001b[0m 0.8284  \u001b[0m |\n",
      "[0 1 0 ... 0 0 0]\n",
      "[-0.5  0.5 -0.5 ... -0.5 -0.5 -0.5]\n",
      "Here\n"
     ]
    },
    {
     "output_type": "stream",
     "name": "stderr",
     "text": [
      "policy learning: 100%|██████████| 200/200 [00:34<00:00,  5.86it/s]\n",
      "policy learning:   0%|          | 0/200 [00:00<?, ?it/s]"
     ]
    },
    {
     "output_type": "stream",
     "name": "stdout",
     "text": [
      "| \u001b[0m 23      \u001b[0m | \u001b[0m 0.8562  \u001b[0m | \u001b[0m 0.829   \u001b[0m |\n",
      "[0 1 0 ... 0 0 0]\n",
      "[-0.5  0.5 -0.5 ... -0.5 -0.5 -0.5]\n",
      "Here\n"
     ]
    },
    {
     "output_type": "stream",
     "name": "stderr",
     "text": [
      "policy learning: 100%|██████████| 200/200 [00:35<00:00,  5.71it/s]\n",
      "policy learning:   0%|          | 0/200 [00:00<?, ?it/s]"
     ]
    },
    {
     "output_type": "stream",
     "name": "stdout",
     "text": [
      "| \u001b[95m 24      \u001b[0m | \u001b[95m 0.8563  \u001b[0m | \u001b[95m 0.8164  \u001b[0m |\n",
      "[0 1 0 ... 0 0 0]\n",
      "[-0.5  0.5 -0.5 ... -0.5 -0.5 -0.5]\n",
      "Here\n"
     ]
    },
    {
     "output_type": "stream",
     "name": "stderr",
     "text": [
      "policy learning: 100%|██████████| 200/200 [00:34<00:00,  5.72it/s]\n",
      "policy learning:   0%|          | 0/200 [00:00<?, ?it/s]"
     ]
    },
    {
     "output_type": "stream",
     "name": "stdout",
     "text": [
      "| \u001b[0m 25      \u001b[0m | \u001b[0m 0.8563  \u001b[0m | \u001b[0m 0.8158  \u001b[0m |\n",
      "[0 1 0 ... 0 0 0]\n",
      "[-0.5  0.5 -0.5 ... -0.5 -0.5 -0.5]\n",
      "Here\n"
     ]
    },
    {
     "output_type": "stream",
     "name": "stderr",
     "text": [
      "policy learning: 100%|██████████| 200/200 [00:35<00:00,  5.60it/s]\n",
      "policy learning:   0%|          | 0/200 [00:00<?, ?it/s]"
     ]
    },
    {
     "output_type": "stream",
     "name": "stdout",
     "text": [
      "| \u001b[0m 26      \u001b[0m | \u001b[0m 0.8563  \u001b[0m | \u001b[0m 0.8171  \u001b[0m |\n",
      "[0 1 0 ... 0 0 0]\n",
      "[-0.5  0.5 -0.5 ... -0.5 -0.5 -0.5]\n",
      "Here\n"
     ]
    },
    {
     "output_type": "stream",
     "name": "stderr",
     "text": [
      "policy learning: 100%|██████████| 200/200 [00:37<00:00,  5.36it/s]\n",
      "policy learning:   0%|          | 0/200 [00:00<?, ?it/s]"
     ]
    },
    {
     "output_type": "stream",
     "name": "stdout",
     "text": [
      "| \u001b[0m 27      \u001b[0m | \u001b[0m 0.8563  \u001b[0m | \u001b[0m 0.8167  \u001b[0m |\n",
      "[0 1 0 ... 0 0 0]\n",
      "[-0.5  0.5 -0.5 ... -0.5 -0.5 -0.5]\n",
      "Here\n"
     ]
    },
    {
     "output_type": "stream",
     "name": "stderr",
     "text": [
      "policy learning: 100%|██████████| 200/200 [00:37<00:00,  5.34it/s]\n",
      "policy learning:   0%|          | 0/200 [00:00<?, ?it/s]"
     ]
    },
    {
     "output_type": "stream",
     "name": "stdout",
     "text": [
      "| \u001b[0m 28      \u001b[0m | \u001b[0m 0.8563  \u001b[0m | \u001b[0m 0.8165  \u001b[0m |\n",
      "[0 1 0 ... 0 0 0]\n",
      "[-0.5  0.5 -0.5 ... -0.5 -0.5 -0.5]\n",
      "Here\n"
     ]
    },
    {
     "output_type": "stream",
     "name": "stderr",
     "text": [
      "policy learning: 100%|██████████| 200/200 [00:37<00:00,  5.34it/s]\n",
      "policy learning:   0%|          | 0/200 [00:00<?, ?it/s]"
     ]
    },
    {
     "output_type": "stream",
     "name": "stdout",
     "text": [
      "| \u001b[0m 29      \u001b[0m | \u001b[0m 0.8563  \u001b[0m | \u001b[0m 0.8159  \u001b[0m |\n",
      "[0 1 0 ... 0 0 0]\n",
      "[-0.5  0.5 -0.5 ... -0.5 -0.5 -0.5]\n",
      "Here\n"
     ]
    },
    {
     "output_type": "stream",
     "name": "stderr",
     "text": [
      "policy learning: 100%|██████████| 200/200 [00:36<00:00,  5.41it/s]\n",
      "policy learning:   0%|          | 0/200 [00:00<?, ?it/s]"
     ]
    },
    {
     "output_type": "stream",
     "name": "stdout",
     "text": [
      "| \u001b[0m 30      \u001b[0m | \u001b[0m 0.8563  \u001b[0m | \u001b[0m 0.8193  \u001b[0m |\n",
      "[0 1 0 ... 0 0 0]\n",
      "[-0.5  0.5 -0.5 ... -0.5 -0.5 -0.5]\n",
      "Here\n"
     ]
    },
    {
     "output_type": "stream",
     "name": "stderr",
     "text": [
      "policy learning: 100%|██████████| 200/200 [00:37<00:00,  5.36it/s]\n",
      "policy learning:   0%|          | 0/200 [00:00<?, ?it/s]"
     ]
    },
    {
     "output_type": "stream",
     "name": "stdout",
     "text": [
      "| \u001b[0m 31      \u001b[0m | \u001b[0m 0.8563  \u001b[0m | \u001b[0m 0.8132  \u001b[0m |\n",
      "[0 1 0 ... 0 0 0]\n",
      "[-0.5  0.5 -0.5 ... -0.5 -0.5 -0.5]\n",
      "Here\n"
     ]
    },
    {
     "output_type": "stream",
     "name": "stderr",
     "text": [
      "policy learning: 100%|██████████| 200/200 [00:37<00:00,  5.38it/s]\n",
      "policy learning:   0%|          | 0/200 [00:00<?, ?it/s]"
     ]
    },
    {
     "output_type": "stream",
     "name": "stdout",
     "text": [
      "| \u001b[0m 32      \u001b[0m | \u001b[0m 0.8563  \u001b[0m | \u001b[0m 0.8123  \u001b[0m |\n",
      "[0 1 0 ... 0 0 0]\n",
      "[-0.5  0.5 -0.5 ... -0.5 -0.5 -0.5]\n",
      "Here\n"
     ]
    },
    {
     "output_type": "stream",
     "name": "stderr",
     "text": [
      "policy learning: 100%|██████████| 200/200 [00:37<00:00,  5.39it/s]\n",
      "policy learning:   0%|          | 0/200 [00:00<?, ?it/s]"
     ]
    },
    {
     "output_type": "stream",
     "name": "stdout",
     "text": [
      "| \u001b[0m 33      \u001b[0m | \u001b[0m 0.8563  \u001b[0m | \u001b[0m 0.8122  \u001b[0m |\n",
      "[0 1 0 ... 0 0 0]\n",
      "[-0.5  0.5 -0.5 ... -0.5 -0.5 -0.5]\n",
      "Here\n"
     ]
    },
    {
     "output_type": "stream",
     "name": "stderr",
     "text": [
      "policy learning: 100%|██████████| 200/200 [00:37<00:00,  5.37it/s]\n",
      "policy learning:   0%|          | 0/200 [00:00<?, ?it/s]"
     ]
    },
    {
     "output_type": "stream",
     "name": "stdout",
     "text": [
      "| \u001b[0m 34      \u001b[0m | \u001b[0m 0.8563  \u001b[0m | \u001b[0m 0.8117  \u001b[0m |\n",
      "[0 1 0 ... 0 0 0]\n",
      "[-0.5  0.5 -0.5 ... -0.5 -0.5 -0.5]\n",
      "Here\n"
     ]
    },
    {
     "output_type": "stream",
     "name": "stderr",
     "text": [
      "policy learning: 100%|██████████| 200/200 [00:37<00:00,  5.30it/s]\n",
      "policy learning:   0%|          | 1/200 [00:00<00:38,  5.11it/s]"
     ]
    },
    {
     "output_type": "stream",
     "name": "stdout",
     "text": [
      "| \u001b[0m 35      \u001b[0m | \u001b[0m 0.8563  \u001b[0m | \u001b[0m 0.8116  \u001b[0m |\n",
      "=====================================\n",
      "Best result: {'l': 0.8163600254555555}; f(x) = 0.8562973805293275.\n",
      "|   iter    |  target   |     l     |\n",
      "-------------------------------------\n",
      "[0 1 0 ... 0 0 0]\n",
      "[-0.5  0.5 -0.5 ... -0.5 -0.5 -0.5]\n",
      "Here\n"
     ]
    },
    {
     "output_type": "stream",
     "name": "stderr",
     "text": [
      "policy learning: 100%|██████████| 200/200 [00:37<00:00,  5.37it/s]\n",
      "policy learning:   0%|          | 1/200 [00:00<00:38,  5.15it/s]"
     ]
    },
    {
     "output_type": "stream",
     "name": "stdout",
     "text": [
      "| \u001b[0m 1       \u001b[0m | \u001b[0m 0.8324  \u001b[0m | \u001b[0m 0.967   \u001b[0m |\n",
      "[0 1 0 ... 0 0 0]\n",
      "[-0.5  0.5 -0.5 ... -0.5 -0.5 -0.5]\n",
      "Here\n"
     ]
    },
    {
     "output_type": "stream",
     "name": "stderr",
     "text": [
      "policy learning: 100%|██████████| 200/200 [00:37<00:00,  5.33it/s]\n",
      "policy learning:   0%|          | 1/200 [00:00<00:36,  5.41it/s]"
     ]
    },
    {
     "output_type": "stream",
     "name": "stdout",
     "text": [
      "| \u001b[0m 2       \u001b[0m | \u001b[0m 0.8132  \u001b[0m | \u001b[0m 0.5472  \u001b[0m |\n",
      "[0 1 0 ... 0 0 0]\n",
      "[-0.5  0.5 -0.5 ... -0.5 -0.5 -0.5]\n",
      "Here\n"
     ]
    },
    {
     "output_type": "stream",
     "name": "stderr",
     "text": [
      "policy learning: 100%|██████████| 200/200 [00:37<00:00,  5.33it/s]\n",
      "policy learning:   0%|          | 1/200 [00:00<00:37,  5.30it/s]"
     ]
    },
    {
     "output_type": "stream",
     "name": "stdout",
     "text": [
      "| \u001b[95m 3       \u001b[0m | \u001b[95m 0.8327  \u001b[0m | \u001b[95m 0.9727  \u001b[0m |\n",
      "[0 1 0 ... 0 0 0]\n",
      "[-0.5  0.5 -0.5 ... -0.5 -0.5 -0.5]\n",
      "Here\n"
     ]
    },
    {
     "output_type": "stream",
     "name": "stderr",
     "text": [
      "policy learning: 100%|██████████| 200/200 [00:36<00:00,  5.45it/s]\n",
      "policy learning:   0%|          | 1/200 [00:00<00:38,  5.13it/s]"
     ]
    },
    {
     "output_type": "stream",
     "name": "stdout",
     "text": [
      "| \u001b[0m 4       \u001b[0m | \u001b[0m 0.8147  \u001b[0m | \u001b[0m 0.7148  \u001b[0m |\n",
      "[0 1 0 ... 0 0 0]\n",
      "[-0.5  0.5 -0.5 ... -0.5 -0.5 -0.5]\n",
      "Here\n"
     ]
    },
    {
     "output_type": "stream",
     "name": "stderr",
     "text": [
      "policy learning: 100%|██████████| 200/200 [00:37<00:00,  5.40it/s]\n",
      "policy learning:   0%|          | 0/200 [00:00<?, ?it/s]"
     ]
    },
    {
     "output_type": "stream",
     "name": "stdout",
     "text": [
      "| \u001b[0m 5       \u001b[0m | \u001b[0m 0.8134  \u001b[0m | \u001b[0m 0.6977  \u001b[0m |\n",
      "[0 1 0 ... 0 0 0]\n",
      "[-0.5  0.5 -0.5 ... -0.5 -0.5 -0.5]\n",
      "Here\n"
     ]
    },
    {
     "output_type": "stream",
     "name": "stderr",
     "text": [
      "policy learning: 100%|██████████| 200/200 [00:37<00:00,  5.29it/s]\n",
      "policy learning:   0%|          | 1/200 [00:00<00:37,  5.24it/s]"
     ]
    },
    {
     "output_type": "stream",
     "name": "stdout",
     "text": [
      "| \u001b[0m 6       \u001b[0m | \u001b[0m 0.7795  \u001b[0m | \u001b[0m 0.2161  \u001b[0m |\n",
      "[0 1 0 ... 0 0 0]\n",
      "[-0.5  0.5 -0.5 ... -0.5 -0.5 -0.5]\n",
      "Here\n"
     ]
    },
    {
     "output_type": "stream",
     "name": "stderr",
     "text": [
      "policy learning: 100%|██████████| 200/200 [00:37<00:00,  5.33it/s]\n",
      "policy learning:   0%|          | 1/200 [00:00<00:37,  5.26it/s]"
     ]
    },
    {
     "output_type": "stream",
     "name": "stdout",
     "text": [
      "| \u001b[95m 7       \u001b[0m | \u001b[95m 0.8328  \u001b[0m | \u001b[95m 0.9763  \u001b[0m |\n",
      "[0 1 0 ... 0 0 0]\n",
      "[-0.5  0.5 -0.5 ... -0.5 -0.5 -0.5]\n",
      "Here\n"
     ]
    },
    {
     "output_type": "stream",
     "name": "stderr",
     "text": [
      "policy learning: 100%|██████████| 200/200 [00:37<00:00,  5.38it/s]\n",
      "policy learning:   0%|          | 1/200 [00:00<00:38,  5.18it/s]"
     ]
    },
    {
     "output_type": "stream",
     "name": "stdout",
     "text": [
      "| \u001b[0m 8       \u001b[0m | \u001b[0m 0.7866  \u001b[0m | \u001b[0m 0.00623 \u001b[0m |\n",
      "[0 1 0 ... 0 0 0]\n",
      "[-0.5  0.5 -0.5 ... -0.5 -0.5 -0.5]\n",
      "Here\n"
     ]
    },
    {
     "output_type": "stream",
     "name": "stderr",
     "text": [
      "policy learning: 100%|██████████| 200/200 [00:38<00:00,  5.14it/s]\n",
      "policy learning:   0%|          | 0/200 [00:00<?, ?it/s]"
     ]
    },
    {
     "output_type": "stream",
     "name": "stdout",
     "text": [
      "| \u001b[0m 9       \u001b[0m | \u001b[0m 0.7809  \u001b[0m | \u001b[0m 0.253   \u001b[0m |\n",
      "[0 1 0 ... 0 0 0]\n",
      "[-0.5  0.5 -0.5 ... -0.5 -0.5 -0.5]\n",
      "Here\n"
     ]
    },
    {
     "output_type": "stream",
     "name": "stderr",
     "text": [
      "policy learning: 100%|██████████| 200/200 [00:37<00:00,  5.35it/s]\n",
      "policy learning:   0%|          | 0/200 [00:00<?, ?it/s]"
     ]
    },
    {
     "output_type": "stream",
     "name": "stdout",
     "text": [
      "| \u001b[0m 10      \u001b[0m | \u001b[0m 0.8091  \u001b[0m | \u001b[0m 0.4348  \u001b[0m |\n",
      "[0 1 0 ... 0 0 0]\n",
      "[-0.5  0.5 -0.5 ... -0.5 -0.5 -0.5]\n",
      "Here\n"
     ]
    },
    {
     "output_type": "stream",
     "name": "stderr",
     "text": [
      "policy learning: 100%|██████████| 200/200 [00:37<00:00,  5.38it/s]\n",
      "policy learning:   0%|          | 1/200 [00:00<00:37,  5.37it/s]"
     ]
    },
    {
     "output_type": "stream",
     "name": "stdout",
     "text": [
      "| \u001b[0m 11      \u001b[0m | \u001b[0m 0.8223  \u001b[0m | \u001b[0m 0.7794  \u001b[0m |\n",
      "[0 1 0 ... 0 0 0]\n",
      "[-0.5  0.5 -0.5 ... -0.5 -0.5 -0.5]\n",
      "Here\n"
     ]
    },
    {
     "output_type": "stream",
     "name": "stderr",
     "text": [
      "policy learning: 100%|██████████| 200/200 [00:37<00:00,  5.34it/s]\n",
      "policy learning:   0%|          | 1/200 [00:00<00:37,  5.28it/s]"
     ]
    },
    {
     "output_type": "stream",
     "name": "stdout",
     "text": [
      "| \u001b[0m 12      \u001b[0m | \u001b[0m 0.7791  \u001b[0m | \u001b[0m 0.1977  \u001b[0m |\n",
      "[0 1 0 ... 0 0 0]\n",
      "[-0.5  0.5 -0.5 ... -0.5 -0.5 -0.5]\n",
      "Here\n"
     ]
    },
    {
     "output_type": "stream",
     "name": "stderr",
     "text": [
      "policy learning: 100%|██████████| 200/200 [00:37<00:00,  5.34it/s]\n",
      "policy learning:   0%|          | 1/200 [00:00<00:37,  5.27it/s]"
     ]
    },
    {
     "output_type": "stream",
     "name": "stdout",
     "text": [
      "| \u001b[0m 13      \u001b[0m | \u001b[0m 0.8268  \u001b[0m | \u001b[0m 0.863   \u001b[0m |\n",
      "[0 1 0 ... 0 0 0]\n",
      "[-0.5  0.5 -0.5 ... -0.5 -0.5 -0.5]\n",
      "Here\n"
     ]
    },
    {
     "output_type": "stream",
     "name": "stderr",
     "text": [
      "policy learning: 100%|██████████| 200/200 [00:37<00:00,  5.38it/s]\n",
      "policy learning:   0%|          | 1/200 [00:00<00:37,  5.27it/s]"
     ]
    },
    {
     "output_type": "stream",
     "name": "stdout",
     "text": [
      "| \u001b[95m 14      \u001b[0m | \u001b[95m 0.833   \u001b[0m | \u001b[95m 0.9834  \u001b[0m |\n",
      "[0 1 0 ... 0 0 0]\n",
      "[-0.5  0.5 -0.5 ... -0.5 -0.5 -0.5]\n",
      "Here\n"
     ]
    },
    {
     "output_type": "stream",
     "name": "stderr",
     "text": [
      "policy learning: 100%|██████████| 200/200 [00:37<00:00,  5.36it/s]\n",
      "policy learning:   0%|          | 0/200 [00:00<?, ?it/s]"
     ]
    },
    {
     "output_type": "stream",
     "name": "stdout",
     "text": [
      "| \u001b[0m 15      \u001b[0m | \u001b[0m 0.78    \u001b[0m | \u001b[0m 0.1638  \u001b[0m |\n",
      "[0 1 0 ... 0 0 0]\n",
      "[-0.5  0.5 -0.5 ... -0.5 -0.5 -0.5]\n",
      "Here\n"
     ]
    },
    {
     "output_type": "stream",
     "name": "stderr",
     "text": [
      "policy learning: 100%|██████████| 200/200 [00:37<00:00,  5.33it/s]\n",
      "policy learning:   0%|          | 0/200 [00:00<?, ?it/s]"
     ]
    },
    {
     "output_type": "stream",
     "name": "stdout",
     "text": [
      "| \u001b[0m 16      \u001b[0m | \u001b[0m 0.8329  \u001b[0m | \u001b[0m 0.9763  \u001b[0m |\n",
      "[0 1 0 ... 0 0 0]\n",
      "[-0.5  0.5 -0.5 ... -0.5 -0.5 -0.5]\n",
      "Here\n"
     ]
    },
    {
     "output_type": "stream",
     "name": "stderr",
     "text": [
      "policy learning: 100%|██████████| 200/200 [00:35<00:00,  5.70it/s]\n",
      "policy learning:   0%|          | 0/200 [00:00<?, ?it/s]"
     ]
    },
    {
     "output_type": "stream",
     "name": "stdout",
     "text": [
      "| \u001b[95m 17      \u001b[0m | \u001b[95m 0.8332  \u001b[0m | \u001b[95m 1.0     \u001b[0m |\n",
      "[0 1 0 ... 0 0 0]\n",
      "[-0.5  0.5 -0.5 ... -0.5 -0.5 -0.5]\n",
      "Here\n"
     ]
    },
    {
     "output_type": "stream",
     "name": "stderr",
     "text": [
      "policy learning: 100%|██████████| 200/200 [00:35<00:00,  5.64it/s]\n"
     ]
    },
    {
     "output_type": "stream",
     "name": "stdout",
     "text": [
      "| \u001b[95m 18      \u001b[0m | \u001b[95m 0.8332  \u001b[0m | \u001b[95m 0.9958  \u001b[0m |\n",
      "| \u001b[0m 19      \u001b[0m | \u001b[0m 0.8332  \u001b[0m | \u001b[0m 0.9958  \u001b[0m |\n",
      "| \u001b[0m 20      \u001b[0m | \u001b[0m 0.8332  \u001b[0m | \u001b[0m 0.9958  \u001b[0m |\n",
      "| \u001b[0m 21      \u001b[0m | \u001b[0m 0.8332  \u001b[0m | \u001b[0m 0.9958  \u001b[0m |\n",
      "| \u001b[0m 22      \u001b[0m | \u001b[0m 0.8332  \u001b[0m | \u001b[0m 0.9958  \u001b[0m |\n",
      "| \u001b[0m 23      \u001b[0m | \u001b[0m 0.8332  \u001b[0m | \u001b[0m 0.9958  \u001b[0m |\n",
      "| \u001b[0m 24      \u001b[0m | \u001b[0m 0.8332  \u001b[0m | \u001b[0m 0.9958  \u001b[0m |\n",
      "| \u001b[0m 25      \u001b[0m | \u001b[0m 0.8332  \u001b[0m | \u001b[0m 0.9958  \u001b[0m |\n",
      "| \u001b[0m 26      \u001b[0m | \u001b[0m 0.8332  \u001b[0m | \u001b[0m 0.9958  \u001b[0m |\n",
      "| \u001b[0m 27      \u001b[0m | \u001b[0m 0.8332  \u001b[0m | \u001b[0m 0.9958  \u001b[0m |\n",
      "| \u001b[0m 28      \u001b[0m | \u001b[0m 0.8332  \u001b[0m | \u001b[0m 0.9958  \u001b[0m |\n",
      "| \u001b[0m 29      \u001b[0m | \u001b[0m 0.8332  \u001b[0m | \u001b[0m 0.9958  \u001b[0m |\n"
     ]
    },
    {
     "output_type": "stream",
     "name": "stderr",
     "text": [
      "policy learning:   0%|          | 1/200 [00:00<00:37,  5.37it/s]"
     ]
    },
    {
     "output_type": "stream",
     "name": "stdout",
     "text": [
      "[0 1 0 ... 0 0 0]\n",
      "[-0.5  0.5 -0.5 ... -0.5 -0.5 -0.5]\n",
      "Here\n"
     ]
    },
    {
     "output_type": "stream",
     "name": "stderr",
     "text": [
      "policy learning: 100%|██████████| 200/200 [00:34<00:00,  5.76it/s]\n",
      "policy learning:   0%|          | 0/200 [00:00<?, ?it/s]"
     ]
    },
    {
     "output_type": "stream",
     "name": "stdout",
     "text": [
      "| \u001b[0m 30      \u001b[0m | \u001b[0m 0.8332  \u001b[0m | \u001b[0m 1.0     \u001b[0m |\n",
      "[0 1 0 ... 0 0 0]\n",
      "[-0.5  0.5 -0.5 ... -0.5 -0.5 -0.5]\n",
      "Here\n"
     ]
    },
    {
     "output_type": "stream",
     "name": "stderr",
     "text": [
      "policy learning: 100%|██████████| 200/200 [00:37<00:00,  5.28it/s]\n"
     ]
    },
    {
     "output_type": "stream",
     "name": "stdout",
     "text": [
      "| \u001b[0m 31      \u001b[0m | \u001b[0m 0.8332  \u001b[0m | \u001b[0m 0.9954  \u001b[0m |\n",
      "| \u001b[0m 32      \u001b[0m | \u001b[0m 0.8332  \u001b[0m | \u001b[0m 0.9954  \u001b[0m |\n",
      "| \u001b[0m 33      \u001b[0m | \u001b[0m 0.8332  \u001b[0m | \u001b[0m 0.9954  \u001b[0m |\n"
     ]
    },
    {
     "output_type": "stream",
     "name": "stderr",
     "text": [
      "policy learning:   0%|          | 0/200 [00:00<?, ?it/s]"
     ]
    },
    {
     "output_type": "stream",
     "name": "stdout",
     "text": [
      "| \u001b[0m 34      \u001b[0m | \u001b[0m 0.8332  \u001b[0m | \u001b[0m 0.9954  \u001b[0m |\n",
      "| \u001b[0m 35      \u001b[0m | \u001b[0m 0.8332  \u001b[0m | \u001b[0m 0.9954  \u001b[0m |\n",
      "=====================================\n",
      "Best result: {'l': 0.9958112656357565}; f(x) = 0.833221498344664.\n",
      "[0 1 0 ... 0 0 0]\n",
      "[-0.5  0.5 -0.5 ... -0.5 -0.5 -0.5]\n",
      "Here\n"
     ]
    },
    {
     "output_type": "stream",
     "name": "stderr",
     "text": [
      "policy learning: 100%|██████████| 200/200 [00:37<00:00,  5.29it/s]\n",
      "policy learning:   0%|          | 1/200 [00:00<00:39,  5.05it/s]"
     ]
    },
    {
     "output_type": "stream",
     "name": "stdout",
     "text": [
      "[0 1 0 ... 0 0 0]\n",
      "[-0.5  0.5 -0.5 ... -0.5 -0.5 -0.5]\n",
      "Here\n"
     ]
    },
    {
     "output_type": "stream",
     "name": "stderr",
     "text": [
      "policy learning: 100%|██████████| 200/200 [00:37<00:00,  5.39it/s]\n",
      "policy learning:   0%|          | 1/200 [00:00<00:37,  5.26it/s]"
     ]
    },
    {
     "output_type": "stream",
     "name": "stdout",
     "text": [
      "[0 1 0 ... 0 0 0]\n",
      "[-0.5  0.5 -0.5 ... -0.5 -0.5 -0.5]\n",
      "Here\n"
     ]
    },
    {
     "output_type": "stream",
     "name": "stderr",
     "text": [
      "policy learning: 100%|██████████| 200/200 [00:37<00:00,  5.36it/s]\n",
      "policy learning:   0%|          | 1/200 [00:00<00:38,  5.14it/s]"
     ]
    },
    {
     "output_type": "stream",
     "name": "stdout",
     "text": [
      "[0 1 0 ... 0 0 0]\n",
      "[-0.5  0.5 -0.5 ... -0.5 -0.5 -0.5]\n",
      "Here\n"
     ]
    },
    {
     "output_type": "stream",
     "name": "stderr",
     "text": [
      "policy learning: 100%|██████████| 200/200 [00:37<00:00,  5.37it/s]\n",
      "policy learning:   0%|          | 1/400 [00:00<01:16,  5.24it/s]"
     ]
    },
    {
     "output_type": "stream",
     "name": "stdout",
     "text": [
      "SyntheticBanditDataset(n_actions=10, dim_context=5, reward_type='binary', reward_function=<function logistic_reward_function at 0x7fdd524998b0>, reward_std=1.0, action_context=array([[1, 0, 0, 0, 0, 0, 0, 0, 0, 0],\n",
      "       [0, 1, 0, 0, 0, 0, 0, 0, 0, 0],\n",
      "       [0, 0, 1, 0, 0, 0, 0, 0, 0, 0],\n",
      "       [0, 0, 0, 1, 0, 0, 0, 0, 0, 0],\n",
      "       [0, 0, 0, 0, 1, 0, 0, 0, 0, 0],\n",
      "       [0, 0, 0, 0, 0, 1, 0, 0, 0, 0],\n",
      "       [0, 0, 0, 0, 0, 0, 1, 0, 0, 0],\n",
      "       [0, 0, 0, 0, 0, 0, 0, 1, 0, 0],\n",
      "       [0, 0, 0, 0, 0, 0, 0, 0, 1, 0],\n",
      "       [0, 0, 0, 0, 0, 0, 0, 0, 0, 1]]), behavior_policy_function=None, beta=-2, n_deficient_actions=0, random_state=12345, dataset_name='synthetic_bandit_dataset')\n",
      "[0 1 0 ... 0 0 0]\n",
      "[-0.5  0.5 -0.5 ... -0.5 -0.5 -0.5]\n",
      "Here\n"
     ]
    },
    {
     "output_type": "stream",
     "name": "stderr",
     "text": [
      "policy learning: 100%|██████████| 400/400 [01:14<00:00,  5.37it/s]\n",
      "policy learning:   0%|          | 1/400 [00:00<01:17,  5.14it/s]"
     ]
    },
    {
     "output_type": "stream",
     "name": "stdout",
     "text": [
      "0.6843270402506461\n",
      "[0 1 0 ... 0 0 0]\n",
      "[-0.5  0.5 -0.5 ... -0.5 -0.5 -0.5]\n",
      "Here\n"
     ]
    },
    {
     "output_type": "stream",
     "name": "stderr",
     "text": [
      "policy learning: 100%|██████████| 400/400 [01:14<00:00,  5.36it/s]\n",
      "policy learning:   0%|          | 1/400 [00:00<01:14,  5.33it/s]"
     ]
    },
    {
     "output_type": "stream",
     "name": "stdout",
     "text": [
      "0.6812404064935456\n",
      "[0 1 0 ... 0 0 0]\n",
      "[-0.5  0.5 -0.5 ... -0.5 -0.5 -0.5]\n",
      "Here\n"
     ]
    },
    {
     "output_type": "stream",
     "name": "stderr",
     "text": [
      "policy learning: 100%|██████████| 400/400 [01:14<00:00,  5.35it/s]\n",
      "policy learning:   0%|          | 1/400 [00:00<01:17,  5.12it/s]"
     ]
    },
    {
     "output_type": "stream",
     "name": "stdout",
     "text": [
      "0.6749966840944641\n",
      "[0 1 0 ... 0 0 0]\n",
      "[-0.5  0.5 -0.5 ... -0.5 -0.5 -0.5]\n",
      "Here\n"
     ]
    },
    {
     "output_type": "stream",
     "name": "stderr",
     "text": [
      "policy learning: 100%|██████████| 400/400 [01:13<00:00,  5.41it/s]\n",
      "policy learning:   0%|          | 0/400 [00:00<?, ?it/s]"
     ]
    },
    {
     "output_type": "stream",
     "name": "stdout",
     "text": [
      "0.6659334401529351\n",
      "[0 1 0 ... 0 0 0]\n",
      "[-0.5  0.5 -0.5 ... -0.5 -0.5 -0.5]\n",
      "Here\n"
     ]
    },
    {
     "output_type": "stream",
     "name": "stderr",
     "text": [
      "policy learning: 100%|██████████| 400/400 [01:14<00:00,  5.36it/s]\n",
      "policy learning:   0%|          | 1/400 [00:00<01:15,  5.25it/s]"
     ]
    },
    {
     "output_type": "stream",
     "name": "stdout",
     "text": [
      "0.6997448966548544\n",
      "[0 1 0 ... 0 0 0]\n",
      "[-0.5  0.5 -0.5 ... -0.5 -0.5 -0.5]\n",
      "Here\n"
     ]
    },
    {
     "output_type": "stream",
     "name": "stderr",
     "text": [
      "policy learning: 100%|██████████| 400/400 [01:14<00:00,  5.36it/s]\n",
      "policy learning:   0%|          | 0/400 [00:00<?, ?it/s]"
     ]
    },
    {
     "output_type": "stream",
     "name": "stdout",
     "text": [
      "0.7606271163691508\n",
      "[0 1 0 ... 0 0 0]\n",
      "[-0.5  0.5 -0.5 ... -0.5 -0.5 -0.5]\n",
      "Here\n"
     ]
    },
    {
     "output_type": "stream",
     "name": "stderr",
     "text": [
      "policy learning: 100%|██████████| 400/400 [01:14<00:00,  5.35it/s]\n",
      "policy learning:   0%|          | 1/400 [00:00<01:14,  5.34it/s]"
     ]
    },
    {
     "output_type": "stream",
     "name": "stdout",
     "text": [
      "0.9914707787947077\n",
      "|   iter    |  target   |     l     |\n",
      "-------------------------------------\n",
      "[0 1 0 ... 0 0 0]\n",
      "[-0.5  0.5 -0.5 ... -0.5 -0.5 -0.5]\n",
      "Here\n"
     ]
    },
    {
     "output_type": "stream",
     "name": "stderr",
     "text": [
      "policy learning: 100%|██████████| 400/400 [01:14<00:00,  5.35it/s]\n",
      "policy learning:   0%|          | 1/400 [00:00<01:17,  5.17it/s]"
     ]
    },
    {
     "output_type": "stream",
     "name": "stdout",
     "text": [
      "| \u001b[0m 1       \u001b[0m | \u001b[0m 0.8786  \u001b[0m | \u001b[0m 0.967   \u001b[0m |\n",
      "[0 1 0 ... 0 0 0]\n",
      "[-0.5  0.5 -0.5 ... -0.5 -0.5 -0.5]\n",
      "Here\n"
     ]
    },
    {
     "output_type": "stream",
     "name": "stderr",
     "text": [
      "policy learning: 100%|██████████| 400/400 [01:13<00:00,  5.45it/s]\n",
      "policy learning:   0%|          | 0/400 [00:00<?, ?it/s]"
     ]
    },
    {
     "output_type": "stream",
     "name": "stdout",
     "text": [
      "| \u001b[0m 2       \u001b[0m | \u001b[0m 0.8654  \u001b[0m | \u001b[0m 0.5472  \u001b[0m |\n",
      "[0 1 0 ... 0 0 0]\n",
      "[-0.5  0.5 -0.5 ... -0.5 -0.5 -0.5]\n",
      "Here\n"
     ]
    },
    {
     "output_type": "stream",
     "name": "stderr",
     "text": [
      "policy learning: 100%|██████████| 400/400 [01:13<00:00,  5.45it/s]\n",
      "policy learning:   0%|          | 1/400 [00:00<01:18,  5.07it/s]"
     ]
    },
    {
     "output_type": "stream",
     "name": "stdout",
     "text": [
      "| \u001b[0m 3       \u001b[0m | \u001b[0m 0.8782  \u001b[0m | \u001b[0m 0.9727  \u001b[0m |\n",
      "[0 1 0 ... 0 0 0]\n",
      "[-0.5  0.5 -0.5 ... -0.5 -0.5 -0.5]\n",
      "Here\n"
     ]
    },
    {
     "output_type": "stream",
     "name": "stderr",
     "text": [
      "policy learning: 100%|██████████| 400/400 [01:13<00:00,  5.43it/s]\n",
      "policy learning:   0%|          | 1/400 [00:00<01:15,  5.30it/s]"
     ]
    },
    {
     "output_type": "stream",
     "name": "stdout",
     "text": [
      "| \u001b[95m 4       \u001b[0m | \u001b[95m 0.8841  \u001b[0m | \u001b[95m 0.7148  \u001b[0m |\n",
      "[0 1 0 ... 0 0 0]\n",
      "[-0.5  0.5 -0.5 ... -0.5 -0.5 -0.5]\n",
      "Here\n"
     ]
    },
    {
     "output_type": "stream",
     "name": "stderr",
     "text": [
      "policy learning: 100%|██████████| 400/400 [01:13<00:00,  5.42it/s]\n",
      "policy learning:   0%|          | 1/400 [00:00<01:16,  5.22it/s]"
     ]
    },
    {
     "output_type": "stream",
     "name": "stdout",
     "text": [
      "| \u001b[0m 5       \u001b[0m | \u001b[0m 0.8825  \u001b[0m | \u001b[0m 0.6977  \u001b[0m |\n",
      "[0 1 0 ... 0 0 0]\n",
      "[-0.5  0.5 -0.5 ... -0.5 -0.5 -0.5]\n",
      "Here\n"
     ]
    },
    {
     "output_type": "stream",
     "name": "stderr",
     "text": [
      "policy learning: 100%|██████████| 400/400 [01:13<00:00,  5.43it/s]\n",
      "policy learning:   0%|          | 0/400 [00:00<?, ?it/s]"
     ]
    },
    {
     "output_type": "stream",
     "name": "stdout",
     "text": [
      "| \u001b[0m 6       \u001b[0m | \u001b[0m 0.8279  \u001b[0m | \u001b[0m 0.2161  \u001b[0m |\n",
      "[0 1 0 ... 0 0 0]\n",
      "[-0.5  0.5 -0.5 ... -0.5 -0.5 -0.5]\n",
      "Here\n"
     ]
    },
    {
     "output_type": "stream",
     "name": "stderr",
     "text": [
      "policy learning: 100%|██████████| 400/400 [01:15<00:00,  5.33it/s]\n",
      "policy learning:   0%|          | 1/400 [00:00<01:17,  5.14it/s]"
     ]
    },
    {
     "output_type": "stream",
     "name": "stdout",
     "text": [
      "| \u001b[0m 7       \u001b[0m | \u001b[0m 0.878   \u001b[0m | \u001b[0m 0.9763  \u001b[0m |\n",
      "[0 1 0 ... 0 0 0]\n",
      "[-0.5  0.5 -0.5 ... -0.5 -0.5 -0.5]\n",
      "Here\n"
     ]
    },
    {
     "output_type": "stream",
     "name": "stderr",
     "text": [
      "policy learning: 100%|██████████| 400/400 [01:15<00:00,  5.33it/s]\n",
      "policy learning:   0%|          | 1/400 [00:00<01:16,  5.22it/s]"
     ]
    },
    {
     "output_type": "stream",
     "name": "stdout",
     "text": [
      "| \u001b[0m 8       \u001b[0m | \u001b[0m 0.8093  \u001b[0m | \u001b[0m 0.00623 \u001b[0m |\n",
      "[0 1 0 ... 0 0 0]\n",
      "[-0.5  0.5 -0.5 ... -0.5 -0.5 -0.5]\n",
      "Here\n"
     ]
    },
    {
     "output_type": "stream",
     "name": "stderr",
     "text": [
      "policy learning: 100%|██████████| 400/400 [01:20<00:00,  4.99it/s]\n",
      "policy learning:   0%|          | 1/400 [00:00<01:07,  5.92it/s]"
     ]
    },
    {
     "output_type": "stream",
     "name": "stdout",
     "text": [
      "| \u001b[0m 9       \u001b[0m | \u001b[0m 0.8346  \u001b[0m | \u001b[0m 0.253   \u001b[0m |\n",
      "[0 1 0 ... 0 0 0]\n",
      "[-0.5  0.5 -0.5 ... -0.5 -0.5 -0.5]\n",
      "Here\n"
     ]
    },
    {
     "output_type": "stream",
     "name": "stderr",
     "text": [
      "policy learning: 100%|██████████| 400/400 [36:01<00:00,  5.40s/it]\n",
      "policy learning:   0%|          | 1/400 [00:00<01:14,  5.36it/s]"
     ]
    },
    {
     "output_type": "stream",
     "name": "stdout",
     "text": [
      "| \u001b[0m 10      \u001b[0m | \u001b[0m 0.8555  \u001b[0m | \u001b[0m 0.4348  \u001b[0m |\n",
      "[0 1 0 ... 0 0 0]\n",
      "[-0.5  0.5 -0.5 ... -0.5 -0.5 -0.5]\n",
      "Here\n"
     ]
    },
    {
     "output_type": "stream",
     "name": "stderr",
     "text": [
      "policy learning: 100%|██████████| 400/400 [04:01<00:00,  1.66it/s]\n",
      "policy learning:   0%|          | 1/400 [00:00<01:17,  5.13it/s]"
     ]
    },
    {
     "output_type": "stream",
     "name": "stdout",
     "text": [
      "| \u001b[95m 11      \u001b[0m | \u001b[95m 0.8866  \u001b[0m | \u001b[95m 0.7794  \u001b[0m |\n",
      "[0 1 0 ... 0 0 0]\n",
      "[-0.5  0.5 -0.5 ... -0.5 -0.5 -0.5]\n",
      "Here\n"
     ]
    },
    {
     "output_type": "stream",
     "name": "stderr",
     "text": [
      "policy learning: 100%|██████████| 400/400 [01:13<00:00,  5.42it/s]\n",
      "policy learning:   0%|          | 1/400 [00:00<01:15,  5.26it/s]"
     ]
    },
    {
     "output_type": "stream",
     "name": "stdout",
     "text": [
      "| \u001b[0m 12      \u001b[0m | \u001b[0m 0.8249  \u001b[0m | \u001b[0m 0.1977  \u001b[0m |\n",
      "[0 1 0 ... 0 0 0]\n",
      "[-0.5  0.5 -0.5 ... -0.5 -0.5 -0.5]\n",
      "Here\n"
     ]
    },
    {
     "output_type": "stream",
     "name": "stderr",
     "text": [
      "policy learning: 100%|██████████| 400/400 [01:13<00:00,  5.44it/s]\n",
      "policy learning:   0%|          | 1/400 [00:00<01:15,  5.26it/s]"
     ]
    },
    {
     "output_type": "stream",
     "name": "stdout",
     "text": [
      "| \u001b[0m 13      \u001b[0m | \u001b[0m 0.8832  \u001b[0m | \u001b[0m 0.863   \u001b[0m |\n",
      "[0 1 0 ... 0 0 0]\n",
      "[-0.5  0.5 -0.5 ... -0.5 -0.5 -0.5]\n",
      "Here\n"
     ]
    },
    {
     "output_type": "stream",
     "name": "stderr",
     "text": [
      "policy learning: 100%|██████████| 400/400 [08:46<00:00,  1.32s/it]\n",
      "policy learning:   0%|          | 1/400 [00:00<01:16,  5.25it/s]"
     ]
    },
    {
     "output_type": "stream",
     "name": "stdout",
     "text": [
      "| \u001b[0m 14      \u001b[0m | \u001b[0m 0.8775  \u001b[0m | \u001b[0m 0.9834  \u001b[0m |\n",
      "[0 1 0 ... 0 0 0]\n",
      "[-0.5  0.5 -0.5 ... -0.5 -0.5 -0.5]\n",
      "Here\n"
     ]
    },
    {
     "output_type": "stream",
     "name": "stderr",
     "text": [
      "policy learning: 100%|██████████| 400/400 [01:12<00:00,  5.54it/s]\n",
      "policy learning:   0%|          | 0/400 [00:00<?, ?it/s]"
     ]
    },
    {
     "output_type": "stream",
     "name": "stdout",
     "text": [
      "| \u001b[0m 15      \u001b[0m | \u001b[0m 0.8219  \u001b[0m | \u001b[0m 0.1638  \u001b[0m |\n",
      "[0 1 0 ... 0 0 0]\n",
      "[-0.5  0.5 -0.5 ... -0.5 -0.5 -0.5]\n",
      "Here\n"
     ]
    },
    {
     "output_type": "stream",
     "name": "stderr",
     "text": [
      "policy learning: 100%|██████████| 400/400 [01:15<00:00,  5.28it/s]\n",
      "policy learning:   0%|          | 0/400 [00:00<?, ?it/s]"
     ]
    },
    {
     "output_type": "stream",
     "name": "stdout",
     "text": [
      "| \u001b[0m 16      \u001b[0m | \u001b[0m 0.8841  \u001b[0m | \u001b[0m 0.7148  \u001b[0m |\n",
      "[0 1 0 ... 0 0 0]\n",
      "[-0.5  0.5 -0.5 ... -0.5 -0.5 -0.5]\n",
      "Here\n"
     ]
    },
    {
     "output_type": "stream",
     "name": "stderr",
     "text": [
      "policy learning: 100%|██████████| 400/400 [01:20<00:00,  4.94it/s]\n",
      "policy learning:   0%|          | 0/400 [00:00<?, ?it/s]"
     ]
    },
    {
     "output_type": "stream",
     "name": "stdout",
     "text": [
      "| \u001b[0m 17      \u001b[0m | \u001b[0m 0.8863  \u001b[0m | \u001b[0m 0.7614  \u001b[0m |\n",
      "[0 1 0 ... 0 0 0]\n",
      "[-0.5  0.5 -0.5 ... -0.5 -0.5 -0.5]\n",
      "Here\n"
     ]
    },
    {
     "output_type": "stream",
     "name": "stderr",
     "text": [
      "policy learning: 100%|██████████| 400/400 [01:15<00:00,  5.30it/s]\n",
      "policy learning:   0%|          | 0/400 [00:00<?, ?it/s]"
     ]
    },
    {
     "output_type": "stream",
     "name": "stdout",
     "text": [
      "| \u001b[0m 18      \u001b[0m | \u001b[0m 0.8863  \u001b[0m | \u001b[0m 0.8021  \u001b[0m |\n",
      "[0 1 0 ... 0 0 0]\n",
      "[-0.5  0.5 -0.5 ... -0.5 -0.5 -0.5]\n",
      "Here\n"
     ]
    },
    {
     "output_type": "stream",
     "name": "stderr",
     "text": [
      "policy learning: 100%|██████████| 400/400 [01:10<00:00,  5.68it/s]\n",
      "policy learning:   0%|          | 0/400 [00:00<?, ?it/s]"
     ]
    },
    {
     "output_type": "stream",
     "name": "stdout",
     "text": [
      "| \u001b[95m 19      \u001b[0m | \u001b[95m 0.8867  \u001b[0m | \u001b[95m 0.7847  \u001b[0m |\n",
      "[0 1 0 ... 0 0 0]\n",
      "[-0.5  0.5 -0.5 ... -0.5 -0.5 -0.5]\n",
      "Here\n"
     ]
    },
    {
     "output_type": "stream",
     "name": "stderr",
     "text": [
      "policy learning: 100%|██████████| 400/400 [01:11<00:00,  5.56it/s]\n",
      "policy learning:   0%|          | 0/400 [00:00<?, ?it/s]"
     ]
    },
    {
     "output_type": "stream",
     "name": "stdout",
     "text": [
      "| \u001b[95m 20      \u001b[0m | \u001b[95m 0.8867  \u001b[0m | \u001b[95m 0.7856  \u001b[0m |\n",
      "[0 1 0 ... 0 0 0]\n",
      "[-0.5  0.5 -0.5 ... -0.5 -0.5 -0.5]\n",
      "Here\n"
     ]
    },
    {
     "output_type": "stream",
     "name": "stderr",
     "text": [
      "policy learning: 100%|██████████| 400/400 [01:12<00:00,  5.53it/s]\n",
      "policy learning:   0%|          | 0/400 [00:00<?, ?it/s]"
     ]
    },
    {
     "output_type": "stream",
     "name": "stdout",
     "text": [
      "| \u001b[0m 21      \u001b[0m | \u001b[0m 0.8867  \u001b[0m | \u001b[0m 0.7863  \u001b[0m |\n",
      "[0 1 0 ... 0 0 0]\n",
      "[-0.5  0.5 -0.5 ... -0.5 -0.5 -0.5]\n",
      "Here\n"
     ]
    },
    {
     "output_type": "stream",
     "name": "stderr",
     "text": [
      "policy learning: 100%|██████████| 400/400 [01:11<00:00,  5.58it/s]\n",
      "policy learning:   0%|          | 0/400 [00:00<?, ?it/s]"
     ]
    },
    {
     "output_type": "stream",
     "name": "stdout",
     "text": [
      "| \u001b[95m 22      \u001b[0m | \u001b[95m 0.8867  \u001b[0m | \u001b[95m 0.7866  \u001b[0m |\n",
      "[0 1 0 ... 0 0 0]\n",
      "[-0.5  0.5 -0.5 ... -0.5 -0.5 -0.5]\n",
      "Here\n"
     ]
    },
    {
     "output_type": "stream",
     "name": "stderr",
     "text": [
      "policy learning: 100%|██████████| 400/400 [01:10<00:00,  5.65it/s]\n",
      "policy learning:   0%|          | 0/400 [00:00<?, ?it/s]"
     ]
    },
    {
     "output_type": "stream",
     "name": "stdout",
     "text": [
      "| \u001b[95m 23      \u001b[0m | \u001b[95m 0.8867  \u001b[0m | \u001b[95m 0.7869  \u001b[0m |\n",
      "[0 1 0 ... 0 0 0]\n",
      "[-0.5  0.5 -0.5 ... -0.5 -0.5 -0.5]\n",
      "Here\n"
     ]
    },
    {
     "output_type": "stream",
     "name": "stderr",
     "text": [
      "policy learning: 100%|██████████| 400/400 [01:10<00:00,  5.64it/s]\n",
      "policy learning:   0%|          | 0/400 [00:00<?, ?it/s]"
     ]
    },
    {
     "output_type": "stream",
     "name": "stdout",
     "text": [
      "| \u001b[95m 24      \u001b[0m | \u001b[95m 0.8867  \u001b[0m | \u001b[95m 0.7873  \u001b[0m |\n",
      "[0 1 0 ... 0 0 0]\n",
      "[-0.5  0.5 -0.5 ... -0.5 -0.5 -0.5]\n",
      "Here\n"
     ]
    },
    {
     "output_type": "stream",
     "name": "stderr",
     "text": [
      "policy learning: 100%|██████████| 400/400 [01:16<00:00,  5.21it/s]\n",
      "policy learning:   0%|          | 0/400 [00:00<?, ?it/s]"
     ]
    },
    {
     "output_type": "stream",
     "name": "stdout",
     "text": [
      "| \u001b[0m 25      \u001b[0m | \u001b[0m 0.8867  \u001b[0m | \u001b[0m 0.7876  \u001b[0m |\n",
      "[0 1 0 ... 0 0 0]\n",
      "[-0.5  0.5 -0.5 ... -0.5 -0.5 -0.5]\n",
      "Here\n"
     ]
    },
    {
     "output_type": "stream",
     "name": "stderr",
     "text": [
      "policy learning: 100%|██████████| 400/400 [01:18<00:00,  5.09it/s]\n",
      "policy learning:   0%|          | 0/400 [00:00<?, ?it/s]"
     ]
    },
    {
     "output_type": "stream",
     "name": "stdout",
     "text": [
      "| \u001b[0m 26      \u001b[0m | \u001b[0m 0.8867  \u001b[0m | \u001b[0m 0.7877  \u001b[0m |\n",
      "[0 1 0 ... 0 0 0]\n",
      "[-0.5  0.5 -0.5 ... -0.5 -0.5 -0.5]\n",
      "Here\n"
     ]
    },
    {
     "output_type": "stream",
     "name": "stderr",
     "text": [
      "policy learning: 100%|██████████| 400/400 [01:11<00:00,  5.59it/s]\n",
      "policy learning:   0%|          | 0/400 [00:00<?, ?it/s]"
     ]
    },
    {
     "output_type": "stream",
     "name": "stdout",
     "text": [
      "| \u001b[0m 27      \u001b[0m | \u001b[0m 0.8867  \u001b[0m | \u001b[0m 0.7878  \u001b[0m |\n",
      "[0 1 0 ... 0 0 0]\n",
      "[-0.5  0.5 -0.5 ... -0.5 -0.5 -0.5]\n",
      "Here\n"
     ]
    },
    {
     "output_type": "stream",
     "name": "stderr",
     "text": [
      "policy learning: 100%|██████████| 400/400 [01:14<00:00,  5.34it/s]\n",
      "policy learning:   0%|          | 0/400 [00:00<?, ?it/s]"
     ]
    },
    {
     "output_type": "stream",
     "name": "stdout",
     "text": [
      "| \u001b[0m 28      \u001b[0m | \u001b[0m 0.8867  \u001b[0m | \u001b[0m 0.7879  \u001b[0m |\n",
      "[0 1 0 ... 0 0 0]\n",
      "[-0.5  0.5 -0.5 ... -0.5 -0.5 -0.5]\n",
      "Here\n"
     ]
    },
    {
     "output_type": "stream",
     "name": "stderr",
     "text": [
      "policy learning: 100%|██████████| 400/400 [01:11<00:00,  5.60it/s]\n",
      "policy learning:   0%|          | 0/400 [00:00<?, ?it/s]"
     ]
    },
    {
     "output_type": "stream",
     "name": "stdout",
     "text": [
      "| \u001b[0m 29      \u001b[0m | \u001b[0m 0.8867  \u001b[0m | \u001b[0m 0.7879  \u001b[0m |\n",
      "[0 1 0 ... 0 0 0]\n",
      "[-0.5  0.5 -0.5 ... -0.5 -0.5 -0.5]\n",
      "Here\n"
     ]
    },
    {
     "output_type": "stream",
     "name": "stderr",
     "text": [
      "policy learning: 100%|██████████| 400/400 [01:10<00:00,  5.66it/s]\n",
      "policy learning:   0%|          | 0/400 [00:00<?, ?it/s]"
     ]
    },
    {
     "output_type": "stream",
     "name": "stdout",
     "text": [
      "| \u001b[0m 30      \u001b[0m | \u001b[0m 0.8867  \u001b[0m | \u001b[0m 0.7879  \u001b[0m |\n",
      "[0 1 0 ... 0 0 0]\n",
      "[-0.5  0.5 -0.5 ... -0.5 -0.5 -0.5]\n",
      "Here\n"
     ]
    },
    {
     "output_type": "stream",
     "name": "stderr",
     "text": [
      "policy learning: 100%|██████████| 400/400 [01:08<00:00,  5.80it/s]\n",
      "policy learning:   0%|          | 0/400 [00:00<?, ?it/s]"
     ]
    },
    {
     "output_type": "stream",
     "name": "stdout",
     "text": [
      "| \u001b[0m 31      \u001b[0m | \u001b[0m 0.8867  \u001b[0m | \u001b[0m 0.7879  \u001b[0m |\n",
      "[0 1 0 ... 0 0 0]\n",
      "[-0.5  0.5 -0.5 ... -0.5 -0.5 -0.5]\n",
      "Here\n"
     ]
    },
    {
     "output_type": "stream",
     "name": "stderr",
     "text": [
      "policy learning: 100%|██████████| 400/400 [01:08<00:00,  5.80it/s]\n",
      "policy learning:   0%|          | 0/400 [00:00<?, ?it/s]"
     ]
    },
    {
     "output_type": "stream",
     "name": "stdout",
     "text": [
      "| \u001b[0m 32      \u001b[0m | \u001b[0m 0.8867  \u001b[0m | \u001b[0m 0.788   \u001b[0m |\n",
      "[0 1 0 ... 0 0 0]\n",
      "[-0.5  0.5 -0.5 ... -0.5 -0.5 -0.5]\n",
      "Here\n"
     ]
    },
    {
     "output_type": "stream",
     "name": "stderr",
     "text": [
      "policy learning: 100%|██████████| 400/400 [01:08<00:00,  5.83it/s]\n",
      "policy learning:   0%|          | 0/400 [00:00<?, ?it/s]"
     ]
    },
    {
     "output_type": "stream",
     "name": "stdout",
     "text": [
      "| \u001b[0m 33      \u001b[0m | \u001b[0m 0.8867  \u001b[0m | \u001b[0m 0.7881  \u001b[0m |\n",
      "[0 1 0 ... 0 0 0]\n",
      "[-0.5  0.5 -0.5 ... -0.5 -0.5 -0.5]\n",
      "Here\n"
     ]
    },
    {
     "output_type": "stream",
     "name": "stderr",
     "text": [
      "policy learning: 100%|██████████| 400/400 [01:11<00:00,  5.57it/s]\n",
      "policy learning:   0%|          | 0/400 [00:00<?, ?it/s]"
     ]
    },
    {
     "output_type": "stream",
     "name": "stdout",
     "text": [
      "| \u001b[0m 34      \u001b[0m | \u001b[0m 0.8867  \u001b[0m | \u001b[0m 0.7882  \u001b[0m |\n",
      "[0 1 0 ... 0 0 0]\n",
      "[-0.5  0.5 -0.5 ... -0.5 -0.5 -0.5]\n",
      "Here\n"
     ]
    },
    {
     "output_type": "stream",
     "name": "stderr",
     "text": [
      "policy learning: 100%|██████████| 400/400 [01:14<00:00,  5.40it/s]\n",
      "policy learning:   0%|          | 1/400 [00:00<01:16,  5.25it/s]"
     ]
    },
    {
     "output_type": "stream",
     "name": "stdout",
     "text": [
      "| \u001b[0m 35      \u001b[0m | \u001b[0m 0.8867  \u001b[0m | \u001b[0m 0.7882  \u001b[0m |\n",
      "=====================================\n",
      "Best result: {'l': 0.7872862909592927}; f(x) = 0.8866788344241824.\n",
      "|   iter    |  target   |     l     |\n",
      "-------------------------------------\n",
      "[0 1 0 ... 0 0 0]\n",
      "[-0.5  0.5 -0.5 ... -0.5 -0.5 -0.5]\n",
      "Here\n"
     ]
    },
    {
     "output_type": "stream",
     "name": "stderr",
     "text": [
      "policy learning: 100%|██████████| 400/400 [01:19<00:00,  5.05it/s]\n",
      "policy learning:   0%|          | 0/400 [00:00<?, ?it/s]"
     ]
    },
    {
     "output_type": "stream",
     "name": "stdout",
     "text": [
      "| \u001b[0m 1       \u001b[0m | \u001b[0m 0.836   \u001b[0m | \u001b[0m 0.967   \u001b[0m |\n",
      "[0 1 0 ... 0 0 0]\n",
      "[-0.5  0.5 -0.5 ... -0.5 -0.5 -0.5]\n",
      "Here\n"
     ]
    },
    {
     "output_type": "stream",
     "name": "stderr",
     "text": [
      "policy learning: 100%|██████████| 400/400 [01:18<00:00,  5.10it/s]\n",
      "policy learning:   0%|          | 1/400 [00:00<01:15,  5.30it/s]"
     ]
    },
    {
     "output_type": "stream",
     "name": "stdout",
     "text": [
      "| \u001b[0m 2       \u001b[0m | \u001b[0m 0.8302  \u001b[0m | \u001b[0m 0.5472  \u001b[0m |\n",
      "[0 1 0 ... 0 0 0]\n",
      "[-0.5  0.5 -0.5 ... -0.5 -0.5 -0.5]\n",
      "Here\n"
     ]
    },
    {
     "output_type": "stream",
     "name": "stderr",
     "text": [
      "policy learning: 100%|██████████| 400/400 [01:10<00:00,  5.64it/s]\n",
      "policy learning:   0%|          | 1/400 [00:00<01:07,  5.88it/s]"
     ]
    },
    {
     "output_type": "stream",
     "name": "stdout",
     "text": [
      "| \u001b[95m 3       \u001b[0m | \u001b[95m 0.8362  \u001b[0m | \u001b[95m 0.9727  \u001b[0m |\n",
      "[0 1 0 ... 0 0 0]\n",
      "[-0.5  0.5 -0.5 ... -0.5 -0.5 -0.5]\n",
      "Here\n"
     ]
    },
    {
     "output_type": "stream",
     "name": "stderr",
     "text": [
      "policy learning: 100%|██████████| 400/400 [01:10<00:00,  5.65it/s]\n",
      "policy learning:   0%|          | 1/400 [00:00<01:08,  5.79it/s]"
     ]
    },
    {
     "output_type": "stream",
     "name": "stdout",
     "text": [
      "| \u001b[0m 4       \u001b[0m | \u001b[0m 0.8302  \u001b[0m | \u001b[0m 0.7148  \u001b[0m |\n",
      "[0 1 0 ... 0 0 0]\n",
      "[-0.5  0.5 -0.5 ... -0.5 -0.5 -0.5]\n",
      "Here\n"
     ]
    },
    {
     "output_type": "stream",
     "name": "stderr",
     "text": [
      "policy learning: 100%|██████████| 400/400 [01:18<00:00,  5.11it/s]\n",
      "policy learning:   0%|          | 1/400 [00:00<01:16,  5.23it/s]"
     ]
    },
    {
     "output_type": "stream",
     "name": "stdout",
     "text": [
      "| \u001b[0m 5       \u001b[0m | \u001b[0m 0.8297  \u001b[0m | \u001b[0m 0.6977  \u001b[0m |\n",
      "[0 1 0 ... 0 0 0]\n",
      "[-0.5  0.5 -0.5 ... -0.5 -0.5 -0.5]\n",
      "Here\n"
     ]
    },
    {
     "output_type": "stream",
     "name": "stderr",
     "text": [
      "policy learning: 100%|██████████| 400/400 [01:17<00:00,  5.18it/s]\n",
      "policy learning:   0%|          | 0/400 [00:00<?, ?it/s]"
     ]
    },
    {
     "output_type": "stream",
     "name": "stdout",
     "text": [
      "| \u001b[0m 6       \u001b[0m | \u001b[0m 0.7743  \u001b[0m | \u001b[0m 0.2161  \u001b[0m |\n",
      "[0 1 0 ... 0 0 0]\n",
      "[-0.5  0.5 -0.5 ... -0.5 -0.5 -0.5]\n",
      "Here\n"
     ]
    },
    {
     "output_type": "stream",
     "name": "stderr",
     "text": [
      "policy learning: 100%|██████████| 400/400 [01:19<00:00,  5.05it/s]\n",
      "policy learning:   0%|          | 0/400 [00:00<?, ?it/s]"
     ]
    },
    {
     "output_type": "stream",
     "name": "stdout",
     "text": [
      "| \u001b[95m 7       \u001b[0m | \u001b[95m 0.8363  \u001b[0m | \u001b[95m 0.9763  \u001b[0m |\n",
      "[0 1 0 ... 0 0 0]\n",
      "[-0.5  0.5 -0.5 ... -0.5 -0.5 -0.5]\n",
      "Here\n"
     ]
    },
    {
     "output_type": "stream",
     "name": "stderr",
     "text": [
      "policy learning: 100%|██████████| 400/400 [01:13<00:00,  5.48it/s]\n",
      "policy learning:   0%|          | 1/400 [00:00<01:08,  5.81it/s]"
     ]
    },
    {
     "output_type": "stream",
     "name": "stdout",
     "text": [
      "| \u001b[0m 8       \u001b[0m | \u001b[0m 0.7595  \u001b[0m | \u001b[0m 0.00623 \u001b[0m |\n",
      "[0 1 0 ... 0 0 0]\n",
      "[-0.5  0.5 -0.5 ... -0.5 -0.5 -0.5]\n",
      "Here\n"
     ]
    },
    {
     "output_type": "stream",
     "name": "stderr",
     "text": [
      "policy learning: 100%|██████████| 400/400 [01:10<00:00,  5.69it/s]\n",
      "policy learning:   0%|          | 1/400 [00:00<01:08,  5.79it/s]"
     ]
    },
    {
     "output_type": "stream",
     "name": "stdout",
     "text": [
      "| \u001b[0m 9       \u001b[0m | \u001b[0m 0.783   \u001b[0m | \u001b[0m 0.253   \u001b[0m |\n",
      "[0 1 0 ... 0 0 0]\n",
      "[-0.5  0.5 -0.5 ... -0.5 -0.5 -0.5]\n",
      "Here\n"
     ]
    },
    {
     "output_type": "stream",
     "name": "stderr",
     "text": [
      "policy learning: 100%|██████████| 400/400 [01:20<00:00,  4.94it/s]\n",
      "policy learning:   0%|          | 0/400 [00:00<?, ?it/s]"
     ]
    },
    {
     "output_type": "stream",
     "name": "stdout",
     "text": [
      "| \u001b[0m 10      \u001b[0m | \u001b[0m 0.8035  \u001b[0m | \u001b[0m 0.4348  \u001b[0m |\n",
      "[0 1 0 ... 0 0 0]\n",
      "[-0.5  0.5 -0.5 ... -0.5 -0.5 -0.5]\n",
      "Here\n"
     ]
    },
    {
     "output_type": "stream",
     "name": "stderr",
     "text": [
      "policy learning: 100%|██████████| 400/400 [01:12<00:00,  5.53it/s]\n",
      "policy learning:   0%|          | 1/400 [00:00<01:07,  5.91it/s]"
     ]
    },
    {
     "output_type": "stream",
     "name": "stdout",
     "text": [
      "| \u001b[95m 11      \u001b[0m | \u001b[95m 0.8387  \u001b[0m | \u001b[95m 0.7794  \u001b[0m |\n",
      "[0 1 0 ... 0 0 0]\n",
      "[-0.5  0.5 -0.5 ... -0.5 -0.5 -0.5]\n",
      "Here\n"
     ]
    },
    {
     "output_type": "stream",
     "name": "stderr",
     "text": [
      "policy learning: 100%|██████████| 400/400 [01:18<00:00,  5.06it/s]\n",
      "policy learning:   0%|          | 0/400 [00:00<?, ?it/s]"
     ]
    },
    {
     "output_type": "stream",
     "name": "stdout",
     "text": [
      "| \u001b[0m 12      \u001b[0m | \u001b[0m 0.7695  \u001b[0m | \u001b[0m 0.1977  \u001b[0m |\n",
      "[0 1 0 ... 0 0 0]\n",
      "[-0.5  0.5 -0.5 ... -0.5 -0.5 -0.5]\n",
      "Here\n"
     ]
    },
    {
     "output_type": "stream",
     "name": "stderr",
     "text": [
      "policy learning: 100%|██████████| 400/400 [01:29<00:00,  4.46it/s]\n",
      "policy learning:   0%|          | 0/400 [00:00<?, ?it/s]"
     ]
    },
    {
     "output_type": "stream",
     "name": "stdout",
     "text": [
      "| \u001b[0m 13      \u001b[0m | \u001b[0m 0.8312  \u001b[0m | \u001b[0m 0.863   \u001b[0m |\n",
      "[0 1 0 ... 0 0 0]\n",
      "[-0.5  0.5 -0.5 ... -0.5 -0.5 -0.5]\n",
      "Here\n"
     ]
    },
    {
     "output_type": "stream",
     "name": "stderr",
     "text": [
      "policy learning: 100%|██████████| 400/400 [01:17<00:00,  5.17it/s]\n",
      "policy learning:   0%|          | 1/400 [00:00<01:14,  5.38it/s]"
     ]
    },
    {
     "output_type": "stream",
     "name": "stdout",
     "text": [
      "| \u001b[0m 14      \u001b[0m | \u001b[0m 0.8364  \u001b[0m | \u001b[0m 0.9834  \u001b[0m |\n",
      "[0 1 0 ... 0 0 0]\n",
      "[-0.5  0.5 -0.5 ... -0.5 -0.5 -0.5]\n",
      "Here\n"
     ]
    },
    {
     "output_type": "stream",
     "name": "stderr",
     "text": [
      "policy learning: 100%|██████████| 400/400 [01:14<00:00,  5.35it/s]\n",
      "policy learning:   0%|          | 0/400 [00:00<?, ?it/s]"
     ]
    },
    {
     "output_type": "stream",
     "name": "stdout",
     "text": [
      "| \u001b[0m 15      \u001b[0m | \u001b[0m 0.7657  \u001b[0m | \u001b[0m 0.1638  \u001b[0m |\n",
      "[0 1 0 ... 0 0 0]\n",
      "[-0.5  0.5 -0.5 ... -0.5 -0.5 -0.5]\n",
      "Here\n"
     ]
    },
    {
     "output_type": "stream",
     "name": "stderr",
     "text": [
      "policy learning: 100%|██████████| 400/400 [01:17<00:00,  5.16it/s]\n",
      "policy learning:   0%|          | 0/400 [00:00<?, ?it/s]"
     ]
    },
    {
     "output_type": "stream",
     "name": "stdout",
     "text": [
      "| \u001b[0m 16      \u001b[0m | \u001b[0m 0.8302  \u001b[0m | \u001b[0m 0.7148  \u001b[0m |\n",
      "[0 1 0 ... 0 0 0]\n",
      "[-0.5  0.5 -0.5 ... -0.5 -0.5 -0.5]\n",
      "Here\n"
     ]
    },
    {
     "output_type": "stream",
     "name": "stderr",
     "text": [
      "policy learning: 100%|██████████| 400/400 [01:16<00:00,  5.23it/s]\n",
      "policy learning:   0%|          | 0/400 [00:00<?, ?it/s]"
     ]
    },
    {
     "output_type": "stream",
     "name": "stdout",
     "text": [
      "| \u001b[0m 17      \u001b[0m | \u001b[0m 0.8258  \u001b[0m | \u001b[0m 0.6096  \u001b[0m |\n",
      "[0 1 0 ... 0 0 0]\n",
      "[-0.5  0.5 -0.5 ... -0.5 -0.5 -0.5]\n",
      "Here\n"
     ]
    },
    {
     "output_type": "stream",
     "name": "stderr",
     "text": [
      "policy learning: 100%|██████████| 400/400 [01:15<00:00,  5.33it/s]\n",
      "policy learning:   0%|          | 0/400 [00:00<?, ?it/s]"
     ]
    },
    {
     "output_type": "stream",
     "name": "stdout",
     "text": [
      "| \u001b[95m 18      \u001b[0m | \u001b[95m 0.8401  \u001b[0m | \u001b[95m 0.809   \u001b[0m |\n",
      "[0 1 0 ... 0 0 0]\n",
      "[-0.5  0.5 -0.5 ... -0.5 -0.5 -0.5]\n",
      "Here\n"
     ]
    },
    {
     "output_type": "stream",
     "name": "stderr",
     "text": [
      "policy learning: 100%|██████████| 400/400 [01:15<00:00,  5.30it/s]\n",
      "policy learning:   0%|          | 0/400 [00:00<?, ?it/s]"
     ]
    },
    {
     "output_type": "stream",
     "name": "stdout",
     "text": [
      "| \u001b[0m 19      \u001b[0m | \u001b[0m 0.8398  \u001b[0m | \u001b[0m 0.7979  \u001b[0m |\n",
      "[0 1 0 ... 0 0 0]\n",
      "[-0.5  0.5 -0.5 ... -0.5 -0.5 -0.5]\n",
      "Here\n"
     ]
    },
    {
     "output_type": "stream",
     "name": "stderr",
     "text": [
      "policy learning: 100%|██████████| 400/400 [01:15<00:00,  5.29it/s]\n",
      "policy learning:   0%|          | 0/400 [00:00<?, ?it/s]"
     ]
    },
    {
     "output_type": "stream",
     "name": "stdout",
     "text": [
      "| \u001b[0m 20      \u001b[0m | \u001b[0m 0.8391  \u001b[0m | \u001b[0m 0.8177  \u001b[0m |\n",
      "[0 1 0 ... 0 0 0]\n",
      "[-0.5  0.5 -0.5 ... -0.5 -0.5 -0.5]\n",
      "Here\n"
     ]
    },
    {
     "output_type": "stream",
     "name": "stderr",
     "text": [
      "policy learning: 100%|██████████| 400/400 [01:15<00:00,  5.32it/s]\n",
      "policy learning:   0%|          | 0/400 [00:00<?, ?it/s]"
     ]
    },
    {
     "output_type": "stream",
     "name": "stdout",
     "text": [
      "| \u001b[95m 21      \u001b[0m | \u001b[95m 0.8401  \u001b[0m | \u001b[95m 0.8056  \u001b[0m |\n",
      "[0 1 0 ... 0 0 0]\n",
      "[-0.5  0.5 -0.5 ... -0.5 -0.5 -0.5]\n",
      "Here\n"
     ]
    },
    {
     "output_type": "stream",
     "name": "stderr",
     "text": [
      "policy learning: 100%|██████████| 400/400 [01:13<00:00,  5.44it/s]\n",
      "policy learning:   0%|          | 0/400 [00:00<?, ?it/s]"
     ]
    },
    {
     "output_type": "stream",
     "name": "stdout",
     "text": [
      "| \u001b[0m 22      \u001b[0m | \u001b[0m 0.8401  \u001b[0m | \u001b[0m 0.8056  \u001b[0m |\n",
      "[0 1 0 ... 0 0 0]\n",
      "[-0.5  0.5 -0.5 ... -0.5 -0.5 -0.5]\n",
      "Here\n"
     ]
    },
    {
     "output_type": "stream",
     "name": "stderr",
     "text": [
      "policy learning: 100%|██████████| 400/400 [01:11<00:00,  5.56it/s]\n",
      "policy learning:   0%|          | 0/400 [00:00<?, ?it/s]"
     ]
    },
    {
     "output_type": "stream",
     "name": "stdout",
     "text": [
      "| \u001b[0m 23      \u001b[0m | \u001b[0m 0.8401  \u001b[0m | \u001b[0m 0.8058  \u001b[0m |\n",
      "[0 1 0 ... 0 0 0]\n",
      "[-0.5  0.5 -0.5 ... -0.5 -0.5 -0.5]\n",
      "Here\n"
     ]
    },
    {
     "output_type": "stream",
     "name": "stderr",
     "text": [
      "policy learning: 100%|██████████| 400/400 [01:11<00:00,  5.57it/s]\n"
     ]
    },
    {
     "output_type": "stream",
     "name": "stdout",
     "text": [
      "| \u001b[95m 24      \u001b[0m | \u001b[95m 0.8401  \u001b[0m | \u001b[95m 0.8059  \u001b[0m |\n"
     ]
    },
    {
     "output_type": "stream",
     "name": "stderr",
     "text": [
      "policy learning:   0%|          | 0/400 [00:00<?, ?it/s]"
     ]
    },
    {
     "output_type": "stream",
     "name": "stdout",
     "text": [
      "[0 1 0 ... 0 0 0]\n",
      "[-0.5  0.5 -0.5 ... -0.5 -0.5 -0.5]\n",
      "Here\n"
     ]
    },
    {
     "output_type": "stream",
     "name": "stderr",
     "text": [
      "policy learning: 100%|██████████| 400/400 [01:20<00:00,  5.00it/s]\n",
      "policy learning:   0%|          | 0/400 [00:00<?, ?it/s]"
     ]
    },
    {
     "output_type": "stream",
     "name": "stdout",
     "text": [
      "| \u001b[0m 25      \u001b[0m | \u001b[0m 0.8401  \u001b[0m | \u001b[0m 0.8059  \u001b[0m |\n",
      "[0 1 0 ... 0 0 0]\n",
      "[-0.5  0.5 -0.5 ... -0.5 -0.5 -0.5]\n",
      "Here\n"
     ]
    },
    {
     "output_type": "stream",
     "name": "stderr",
     "text": [
      "policy learning:  97%|█████████▋| 388/400 [01:17<00:02,  5.39it/s]"
     ]
    }
   ],
   "metadata": {}
  },
  {
   "cell_type": "markdown",
   "source": [
    "With param values max_iter: 200 and random state: 12345 <br> \n",
    "\n",
    "policy value of NN Policy Learner with no loss: 0.7386491310472931<br>\n",
    "policy value of NN Policy Learner with training denominator = 1: 0.7747569465293875<br>\n",
    "policy value of NN Policy Learner with max training ratio: 0.7748265861941667<br>\n",
    "policy value of NN Policy Learner with max validation ratio: 0.7680523661659651<br>\n",
    "\n",
    "With param values max_iter: 200 and random state: 54321 <br>\n",
    "\n",
    "policy value of NN Policy Learner with no loss: 0.7426535159127408 <br>\n",
    "policy value of NN Policy Learner with training denominator = 1: 0.7715344364047754 <br>\n",
    "policy value of NN Policy Learner with max training ratio: 0.7731315919182911 <br>\n",
    "policy value of NN Policy Learner with max validation ratio: 0.7732276796432124 <br>\n",
    "\n",
    "With param values max_iter: 200 and random state: 11111<br>\n",
    "\n",
    "policy value of NN Policy Learner with no loss: 0.7525011085808299<br>\n",
    "policy value of NN Policy Learner with training denominator = 1: 0.7720505838029407<br>\n",
    "policy value of NN Policy Learner with max training ratio: 0.7730628901592789<br>\n",
    "policy value of NN Policy Learner with max validation ratio: 0.7668315147195144<br>"
   ],
   "metadata": {}
  },
  {
   "cell_type": "code",
   "execution_count": null,
   "source": [
    "policy_reg_param = [0, 0.001]\n",
    "learning_rate = [0.0001, 0.001]\n",
    "random_states = [12345, 54321, 11111, 47801, 60737]\n",
    "\n",
    "with open(\"validation_evaluation.txt\", \"a\") as o:\n",
    "\n",
    "  for p in policy_reg_param:\n",
    "    for lr in learning_rate:\n",
    "      for r in random_states:\n",
    "\n",
    "          print(dataset)\n",
    "          \n",
    "          den_l = loss_translation.binarySearch (200, r, p, lr, dataset, bandit_feedback_train, 0, 100, 0.01, 1, 0.05)\n",
    "          \n",
    "          def black_box_function(l):\n",
    "          #l: Hyperparameter to optimize for, which is l\n",
    "            f = loss_translation.predict_value_ratio_train (200, r, p, lr, dataset, l, bandit_feedback_train)\n",
    "            return f\n",
    "            \n",
    "          pbounds = {\"l\": [0, 1]}\n",
    "          init_pnts = 15\n",
    "          num_iter = 20\n",
    "          (ratio_train_l, ratio_train_val) = loss_translation.bayesOpt(black_box_function, pbounds, init_pnts, num_iter)\n",
    "\n",
    "          def black_box_function(l):\n",
    "          # l: Hyperparameter to optimize for, which is l\n",
    "            f = loss_translation.predict_value_ratio_val (200, r , p, lr, dataset, l, bandit_feedback_train, bandit_feedback_val)\n",
    "            return f\n",
    "\n",
    "          pbounds = {\"l\": [0, 1]}\n",
    "          init_pnts = 15\n",
    "          num_iter = 20\n",
    "          (ratio_val_l, ratio_val_val) = loss_translation.bayesOpt(black_box_function, pbounds, init_pnts, num_iter)\n",
    "\n",
    "          # Policy with no loss\n",
    "          nn_ipw = loss_translation.generateModel(dataset, 200, 0, r, p, lr)\n",
    "\n",
    "          nn_ipw.fit(\n",
    "                context=bandit_feedback_train[\"context\"],\n",
    "                action=bandit_feedback_train[\"action\"],\n",
    "                reward=bandit_feedback_train[\"reward\"],\n",
    "                pscore=bandit_feedback_train[\"pscore\"],\n",
    "              )\n",
    "\n",
    "          action_dist_nn_ipw_no_loss = nn_ipw.predict_proba(\n",
    "                context=bandit_feedback_val[\"context\"]\n",
    "              )\n",
    "\n",
    "        # Policy with denominator = 1 for training data\n",
    "          nn_ipw = loss_translation.generateModel(dataset, 200, den_l, r, p, lr)\n",
    "\n",
    "          nn_ipw.fit(\n",
    "                context=bandit_feedback_train[\"context\"],\n",
    "                action=bandit_feedback_train[\"action\"],\n",
    "                reward=bandit_feedback_train[\"reward\"],\n",
    "                pscore=bandit_feedback_train[\"pscore\"],\n",
    "              )\n",
    "\n",
    "          action_dist_nn_ipw_den_1 = nn_ipw.predict_proba(\n",
    "                context=bandit_feedback_val[\"context\"]\n",
    "              )\n",
    "\n",
    "        # Policy with max ratio for training data\n",
    "          nn_ipw = loss_translation.generateModel(dataset, 200, ratio_train_l [\"l\"], r, p, lr)\n",
    "\n",
    "          nn_ipw.fit(\n",
    "                context=bandit_feedback_train[\"context\"],\n",
    "                action=bandit_feedback_train[\"action\"],\n",
    "                reward=bandit_feedback_train[\"reward\"],\n",
    "                pscore=bandit_feedback_train[\"pscore\"],\n",
    "              )\n",
    "\n",
    "          action_dist_nn_ipw_max_train_ratio = nn_ipw.predict_proba(\n",
    "                context=bandit_feedback_val[\"context\"]\n",
    "            )\n",
    "\n",
    "        # Policy with max ratio for validation data\n",
    "          nn_ipw = loss_translation.generateModel(dataset, 200, ratio_val_l [\"l\"], r, p, lr)\n",
    "\n",
    "          nn_ipw.fit(\n",
    "                context=bandit_feedback_train[\"context\"],\n",
    "                action=bandit_feedback_train[\"action\"],\n",
    "                reward=bandit_feedback_train[\"reward\"],\n",
    "                pscore=bandit_feedback_train[\"pscore\"],\n",
    "              )\n",
    "\n",
    "          action_dist_nn_ipw_max_val_ratio = nn_ipw.predict_proba(\n",
    "                context=bandit_feedback_val[\"context\"]\n",
    "            )\n",
    "\n",
    "          policy_names = [\n",
    "          \"NN Policy Learner with no loss\",\n",
    "          \"NN Policy Learner with training denominator = 1\",\n",
    "          \"NN Policy Learner with max training ratio\",\n",
    "          \"NN Policy Learner with max validation ratio\"\n",
    "            ]\n",
    "          action_dist_list = [\n",
    "            action_dist_nn_ipw_no_loss,\n",
    "            action_dist_nn_ipw_den_1,\n",
    "            action_dist_nn_ipw_max_train_ratio,\n",
    "            action_dist_nn_ipw_max_val_ratio\n",
    "            ]\n",
    "\n",
    "          o.write(\"With param values policy regularization: \" + str(p) +\" and learning rate: \" + str(lr) + \" and random state: \" + str(r) + \"\\n\")\n",
    "\n",
    "          for name, action_dist in zip(policy_names, action_dist_list):\n",
    "            true_policy_value = dataset.calc_ground_truth_policy_value(\n",
    "            expected_reward=bandit_feedback_test[\"expected_reward\"],\n",
    "            action_dist=action_dist,\n",
    "            )\n",
    "            o.write(f'policy value of {name}: {true_policy_value}')\n",
    "\n",
    "o.close()"
   ],
   "outputs": [],
   "metadata": {}
  }
 ],
 "metadata": {
  "orig_nbformat": 4,
  "language_info": {
   "name": "python",
   "version": "3.8.5",
   "mimetype": "text/x-python",
   "codemirror_mode": {
    "name": "ipython",
    "version": 3
   },
   "pygments_lexer": "ipython3",
   "nbconvert_exporter": "python",
   "file_extension": ".py"
  },
  "kernelspec": {
   "name": "python3",
   "display_name": "Python 3.8.5 64-bit ('base': conda)"
  },
  "interpreter": {
   "hash": "7adc034d2bae42754621dfef56fb826d586cc3ae89b4958f3a6eaffc035e1bc9"
  }
 },
 "nbformat": 4,
 "nbformat_minor": 2
}