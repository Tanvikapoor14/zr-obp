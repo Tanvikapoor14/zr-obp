{
 "cells": [
  {
   "cell_type": "code",
   "execution_count": null,
   "source": [
    "import torch"
   ],
   "outputs": [],
   "metadata": {}
  },
  {
   "cell_type": "code",
   "execution_count": null,
   "source": [
    "def make (x, y):\n",
    "  return x / y\n",
    "\n",
    "train_x = torch.linspace(0, 1, 15, dtype = float)\n",
    "num = torch.linspace(0, 20, 1, dtype = float)\n",
    "den = torch.linspace(0, 100, 5, dtype = float)\n",
    "train_y = map (make, num, den)\n",
    "\n",
    "print (train_y)"
   ],
   "outputs": [],
   "metadata": {}
  }
 ],
 "metadata": {
  "orig_nbformat": 4,
  "language_info": {
   "name": "python",
   "version": "3.8.5"
  },
  "kernelspec": {
   "name": "python3",
   "display_name": "Python 3.8.5 64-bit ('base': conda)"
  },
  "interpreter": {
   "hash": "7adc034d2bae42754621dfef56fb826d586cc3ae89b4958f3a6eaffc035e1bc9"
  }
 },
 "nbformat": 4,
 "nbformat_minor": 2
}